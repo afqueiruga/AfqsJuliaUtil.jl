{
 "cells": [
  {
   "cell_type": "markdown",
   "metadata": {},
   "source": [
    "# Solving the Pendulum as a Learned Constraint"
   ]
  },
  {
   "cell_type": "code",
   "execution_count": 1,
   "metadata": {},
   "outputs": [],
   "source": [
    "using Statistics\n",
    "using Plots\n",
    "include(\"./AfqsJuliaUtil.jl\")\n",
    "using .AfqsJuliaUtil"
   ]
  },
  {
   "cell_type": "code",
   "execution_count": 2,
   "metadata": {},
   "outputs": [
    {
     "data": {
      "text/plain": [
       "-3.9269908169872414:0.05:0.7730091830127588"
      ]
     },
     "execution_count": 2,
     "metadata": {},
     "output_type": "execute_result"
    }
   ],
   "source": [
    "θs=-1.25π:0.05:0.25π"
   ]
  },
  {
   "cell_type": "markdown",
   "metadata": {},
   "source": [
    "The simplest one is:"
   ]
  },
  {
   "cell_type": "code",
   "execution_count": 3,
   "metadata": {},
   "outputs": [
    {
     "ename": "ErrorException",
     "evalue": "error compiling _plot!: error compiling _display: could not load library \"libGR.so\"\ndlopen(libGR.so.dylib, 1): image not found",
     "output_type": "error",
     "traceback": [
      "error compiling _plot!: error compiling _display: could not load library \"libGR.so\"\ndlopen(libGR.so.dylib, 1): image not found",
      "",
      "Stacktrace:",
      " [1] #plot#136(::Base.Iterators.Pairs{Union{},Union{},Tuple{},NamedTuple{(),Tuple{}}}, ::Function, ::Array{Float64,1}, ::Vararg{Array{Float64,1},N} where N) at /Users/afq/.julia/packages/Plots/47Tik/src/plot.jl:57",
      " [2] plot(::Array{Float64,1}, ::Array{Float64,1}) at /Users/afq/.julia/packages/Plots/47Tik/src/plot.jl:51",
      " [3] top-level scope at In[3]:2"
     ]
    }
   ],
   "source": [
    "xy_cricle = hcat([[cos(t),sin(t)] for t in θs]...)\n",
    "plot(xy_cricle[1,:],xy_cricle[2,:])"
   ]
  },
  {
   "cell_type": "markdown",
   "metadata": {},
   "source": [
    "This is trivial, but suppose we have a more complicated function:"
   ]
  },
  {
   "cell_type": "code",
   "execution_count": 4,
   "metadata": {},
   "outputs": [
    {
     "ename": "ErrorException",
     "evalue": "error compiling _plot!: error compiling _display: could not load library \"libGR.so\"\ndlopen(libGR.so.dylib, 1): image not found",
     "output_type": "error",
     "traceback": [
      "error compiling _plot!: error compiling _display: could not load library \"libGR.so\"\ndlopen(libGR.so.dylib, 1): image not found",
      "",
      "Stacktrace:",
      " [1] #plot#136(::Base.Iterators.Pairs{Union{},Union{},Tuple{},NamedTuple{(),Tuple{}}}, ::Function, ::Array{Float64,1}, ::Vararg{Array{Float64,1},N} where N) at /Users/afq/.julia/packages/Plots/47Tik/src/plot.jl:57",
      " [2] plot(::Array{Float64,1}, ::Array{Float64,1}) at /Users/afq/.julia/packages/Plots/47Tik/src/plot.jl:51",
      " [3] top-level scope at In[4]:5"
     ]
    }
   ],
   "source": [
    "petal = 0.2\n",
    "r_bound = 0.5\n",
    "xy_petals = hcat([[(1+r_bound*sin(5t))*cos(t+petal*sin(5*t)),\n",
    "            (1+r_bound*sin(5t))*sin(t+petal*sin(5*t))] for t in θs]...)\n",
    "plot(xy_petals[1,:],xy_petals[2,:])"
   ]
  },
  {
   "cell_type": "markdown",
   "metadata": {},
   "source": [
    "If we just saw that we wouldn't know where to start. "
   ]
  },
  {
   "cell_type": "code",
   "execution_count": 5,
   "metadata": {},
   "outputs": [],
   "source": [
    "using Flux, Zygote"
   ]
  },
  {
   "cell_type": "code",
   "execution_count": 12,
   "metadata": {},
   "outputs": [
    {
     "data": {
      "text/plain": [
       "PolyLayer"
      ]
     },
     "execution_count": 12,
     "metadata": {},
     "output_type": "execute_result"
    }
   ],
   "source": [
    "struct PolyLayer\n",
    "    N_terms\n",
    "    W\n",
    "    b\n",
    "    call\n",
    "end\n",
    "(f::PolyLayer)(x) = f.call(x)\n",
    "function PolyLayer(in_len::Integer,order::Integer,N_polies::Integer)\n",
    "    poly = AfqsJuliaUtil.polynomial_function(in_len,order)\n",
    "    out = Base.invokelatest(poly, collect(1:in_len))\n",
    "    N_terms = size(out)[1]\n",
    "    W = rand(Float64,N_polies,N_terms)# |> param\n",
    "    b = rand(N_polies)# |> param\n",
    "    f(x) = W*poly(x)+b\n",
    "    PolyLayer(N_terms,W,b,f)\n",
    "end"
   ]
  },
  {
   "cell_type": "code",
   "execution_count": 13,
   "metadata": {},
   "outputs": [],
   "source": [
    "struct Autoencoder\n",
    "    outside_dim::Integer\n",
    "    inside_dim::Integer\n",
    "    encode\n",
    "    decode\n",
    "end\n",
    "function Autoencoder(outside_dim::Integer,inside_dim::Integer, enc_poly::Integer, dec_poly::Integer)\n",
    "    enc = PolyLayer(outside_dim,enc_poly, inside_dim)\n",
    "    dec = PolyLayer( inside_dim,dec_poly, outside_dim)\n",
    "    Autoencoder(outside_dim, inside_dim, enc, dec)\n",
    "end\n",
    "(f::Autoencoder)(x) = x |> f.encode |> f.decode"
   ]
  },
  {
   "cell_type": "code",
   "execution_count": 14,
   "metadata": {},
   "outputs": [
    {
     "data": {
      "text/plain": [
       "Autoencoder(2, 1, PolyLayer(9, [0.758033 0.501735 … 0.501913 0.925258], [0.388109], getfield(Main, Symbol(\"#f#5\")){getfield(Main.AfqsJuliaUtil, Symbol(\"###poly#370\")),Array{Float64,2},Array{Float64,1}}(Main.AfqsJuliaUtil.##poly#370, [0.758033 0.501735 … 0.501913 0.925258], [0.388109])), PolyLayer(3, [0.680763 0.0584103 0.884667; 0.0131464 0.545993 0.790049], [0.983727, 0.732194], getfield(Main, Symbol(\"#f#5\")){getfield(Main.AfqsJuliaUtil, Symbol(\"###poly#371\")),Array{Float64,2},Array{Float64,1}}(Main.AfqsJuliaUtil.##poly#371, [0.680763 0.0584103 0.884667; 0.0131464 0.545993 0.790049], [0.983727, 0.732194])))"
      ]
     },
     "execution_count": 14,
     "metadata": {},
     "output_type": "execute_result"
    }
   ],
   "source": [
    "au = Autoencoder(2,1, 3,3)"
   ]
  },
  {
   "cell_type": "code",
   "execution_count": 15,
   "metadata": {},
   "outputs": [
    {
     "data": {
      "text/plain": [
       "1-element Array{Float64,1}:\n",
       " 13.70771756253129"
      ]
     },
     "execution_count": 15,
     "metadata": {},
     "output_type": "execute_result"
    }
   ],
   "source": [
    "au.encode([2.0,1.0])"
   ]
  },
  {
   "cell_type": "code",
   "execution_count": 16,
   "metadata": {},
   "outputs": [
    {
     "data": {
      "text/plain": [
       "2-element Array{Float64,1}:\n",
       " 2299.9281887129982\n",
       " 2138.4340763911478"
      ]
     },
     "execution_count": 16,
     "metadata": {},
     "output_type": "execute_result"
    }
   ],
   "source": [
    "au.decode(Out[15])"
   ]
  },
  {
   "cell_type": "code",
   "execution_count": 17,
   "metadata": {},
   "outputs": [
    {
     "data": {
      "text/plain": [
       "2-element Array{Float64,1}:\n",
       " 2299.9281887129982\n",
       " 2138.4340763911478"
      ]
     },
     "execution_count": 17,
     "metadata": {},
     "output_type": "execute_result"
    }
   ],
   "source": [
    "au([2.0,1.0])"
   ]
  },
  {
   "cell_type": "code",
   "execution_count": null,
   "metadata": {},
   "outputs": [],
   "source": [
    "gradient(model->sum(model([2.0,1.0])),)"
   ]
  },
  {
   "cell_type": "markdown",
   "metadata": {},
   "source": [
    "## World age is a problem"
   ]
  },
  {
   "cell_type": "code",
   "execution_count": 4,
   "metadata": {},
   "outputs": [
    {
     "data": {
      "text/plain": [
       "p_macro (generic function with 1 method)"
      ]
     },
     "execution_count": 4,
     "metadata": {},
     "output_type": "execute_result"
    }
   ],
   "source": [
    "function p_macro(in_len::Integer,order::Integer,N_polies::Integer)\n",
    "    poly = @eval((@polynomial_function($in_len,$order)))\n",
    "    #poly = @polynomial_function(esc(in_len),$esc(order))\n",
    "    out = Base.invokelatest(poly, collect(1:in_len))\n",
    "    N_terms = size(out)\n",
    "    print(N_terms)\n",
    "    poly\n",
    "end"
   ]
  },
  {
   "cell_type": "code",
   "execution_count": 7,
   "metadata": {},
   "outputs": [
    {
     "data": {
      "text/plain": [
       "p2 (generic function with 1 method)"
      ]
     },
     "execution_count": 7,
     "metadata": {},
     "output_type": "execute_result"
    }
   ],
   "source": [
    "function p2(in_len::Integer,order::Integer,N_polies::Integer)\n",
    "    poly = AfqsJuliaUtil.polynomial_function(in_len,order)\n",
    "    out = Base.invokelatest(poly, collect(1:in_len))\n",
    "    N_terms = size(out)\n",
    "    #N_terms = size(poly(collect(1:in_len)))\n",
    "    print(N_terms)\n",
    "    poly\n",
    "end"
   ]
  },
  {
   "cell_type": "markdown",
   "metadata": {},
   "source": [
    "## Tried to do it by hand"
   ]
  },
  {
   "cell_type": "code",
   "execution_count": 17,
   "metadata": {},
   "outputs": [
    {
     "data": {
      "text/plain": [
       "30"
      ]
     },
     "execution_count": 17,
     "metadata": {},
     "output_type": "execute_result"
    }
   ],
   "source": [
    "poly_front = AfqsJuliaUtil.@polynomial_function(2,3)\n",
    "poly_back = AfqsJuliaUtil.@polynomial_function(1,3)\n",
    "N_terms_front = size(poly_front(collect(1:2)))[1]\n",
    "N_terms_back = size(poly_front([1]))[1]\n",
    "N_total_coeffs=N_terms_front+1 + 2*(N_terms_back+1)"
   ]
  },
  {
   "cell_type": "code",
   "execution_count": 8,
   "metadata": {},
   "outputs": [
    {
     "ename": "UndefVarError",
     "evalue": "UndefVarError: poly_ not defined",
     "output_type": "error",
     "traceback": [
      "UndefVarError: poly_ not defined",
      "",
      "Stacktrace:",
      " [1] top-level scope at In[8]:2"
     ]
    }
   ],
   "source": [
    "@inbounds begin\n",
    "    encode(x,P) = P[1:N_terms_front]'*poly_front(x).+P[N_terms_front+1];\n",
    "    decode(q,P) = P[1:N_terms_front]'*poly_front(x).+P[N_terms_front+1];\n",
    "    auto(x,P) = encode(decode(x,P),P)\n",
    "end"
   ]
  },
  {
   "cell_type": "code",
   "execution_count": 42,
   "metadata": {},
   "outputs": [
    {
     "data": {
      "text/plain": [
       "f (generic function with 1 method)"
      ]
     },
     "execution_count": 42,
     "metadata": {},
     "output_type": "execute_result"
    }
   ],
   "source": [
    "struct strP\n",
    "    W::Array{Real,2}\n",
    "    b::Array{Real,1}\n",
    "end\n",
    "f(x,P::strP) = P.W'*x + P.b"
   ]
  },
  {
   "cell_type": "code",
   "execution_count": 39,
   "metadata": {},
   "outputs": [
    {
     "data": {
      "text/plain": [
       "strP(Real[1.0 2.0; 1.0 2.0], Real[-1.0, -0.5])"
      ]
     },
     "execution_count": 39,
     "metadata": {},
     "output_type": "execute_result"
    }
   ],
   "source": [
    "P0 = strP([1.0 2.0; 1.0 2.0],[-1.0,-0.5])"
   ]
  },
  {
   "cell_type": "code",
   "execution_count": 40,
   "metadata": {},
   "outputs": [
    {
     "data": {
      "text/plain": [
       "2×2 Array{Real,2}:\n",
       " 1.0  2.0\n",
       " 1.0  2.0"
      ]
     },
     "execution_count": 40,
     "metadata": {},
     "output_type": "execute_result"
    }
   ],
   "source": [
    "P0.W"
   ]
  },
  {
   "cell_type": "code",
   "execution_count": 43,
   "metadata": {},
   "outputs": [
    {
     "data": {
      "text/plain": [
       "2-element Array{Float64,1}:\n",
       " 2.0\n",
       " 5.5"
      ]
     },
     "execution_count": 43,
     "metadata": {},
     "output_type": "execute_result"
    }
   ],
   "source": [
    "f([1.0,2.0],P0)"
   ]
  },
  {
   "cell_type": "code",
   "execution_count": 44,
   "metadata": {},
   "outputs": [],
   "source": [
    "using Zygote"
   ]
  },
  {
   "cell_type": "code",
   "execution_count": 49,
   "metadata": {},
   "outputs": [
    {
     "data": {
      "text/plain": [
       "g (generic function with 1 method)"
      ]
     },
     "execution_count": 49,
     "metadata": {},
     "output_type": "execute_result"
    }
   ],
   "source": [
    "g(P) = Zygote.gradient(y->f([1.0,2.0],y)[1],P)"
   ]
  },
  {
   "cell_type": "code",
   "execution_count": 50,
   "metadata": {},
   "outputs": [
    {
     "data": {
      "text/plain": [
       "((W = [1.0 0.0; 2.0 0.0], b = [1.0, 0.0]),)"
      ]
     },
     "execution_count": 50,
     "metadata": {},
     "output_type": "execute_result"
    }
   ],
   "source": [
    "g(P0)"
   ]
  },
  {
   "cell_type": "code",
   "execution_count": null,
   "metadata": {},
   "outputs": [],
   "source": []
  }
 ],
 "metadata": {
  "kernelspec": {
   "display_name": "Julia 1.1.0",
   "language": "julia",
   "name": "julia-1.1"
  },
  "language_info": {
   "file_extension": ".jl",
   "mimetype": "application/julia",
   "name": "julia",
   "version": "1.1.0"
  }
 },
 "nbformat": 4,
 "nbformat_minor": 2
}
