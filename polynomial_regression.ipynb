{
 "cells": [
  {
   "cell_type": "markdown",
   "metadata": {},
   "source": [
    "# Polynomial Regression with Flux/Zygote\n",
    "\n",
    "Chapter 1 of any machine learning book always has a short paragraph on linear regression.\n",
    "\n",
    "Toolkits of the like of TensorFlow or Flux are useful in their ability to perform complex derivatives and orchestrate training algorithms on complex nonlinear and deep models. However, the focus nowadays is on optimizing the hottest neural network with minibatched stochastic gradient descent, which is usually only one chapter of an ML textbook. There are plently more classes of models that this programming approach can help us perform and develop. It's important that any automatic ML/Deep Learning package be able to derive these simple models. We can take the hard work out of deriving and implementing newer non-neural network models too.\n",
    "\n",
    "A linear model is fit by:\n",
    "\\begin{equation}\n",
    "f(x) = W basis(x) + b\n",
    "\\end{equation}\n",
    "where \"basis\" is the The set $basis(x)=\\{x\\}$ is a linear model. We'll be doing polynomials where $basis(p)(x)=\\{x,x^2,...x^p\\}$. The solution is the well known linear least squares problem,\n",
    "\\begin{equation}\n",
    "P = (\\mathbf{X}^T\\mathbf{X})^{-1} \\mathbf{X}^T y\n",
    "\\end{equation}\n",
    "where $X$ is a rectangular matrix depending on the basis set and data, $X_{ij} = basis_i(x_j)$.\n",
    "\n",
    "We're going to take a different approach: instead of starting with the least-squares equation and deriving the matrix equation, we're going to define **the code for a function** and perform source code transformations on to get the **program** we need that performs the regression.\n",
    "\n",
    "To get this to work, we have to use a bleeding edge branch of Zygote:\n",
    "```juia\n",
    "] add Zygote#mutate\n",
    "```"
   ]
  },
  {
   "cell_type": "code",
   "execution_count": 1,
   "metadata": {},
   "outputs": [],
   "source": [
    "include(\"./AfqsJuliaUtil.jl\")\n",
    "using .AfqsJuliaUtil"
   ]
  },
  {
   "cell_type": "markdown",
   "metadata": {},
   "source": [
    "First, let's make a simple dataset with known expected values:"
   ]
  },
  {
   "cell_type": "code",
   "execution_count": 2,
   "metadata": {},
   "outputs": [],
   "source": [
    "dat_x = collect(1:0.1:10);\n",
    "dat_y = 0.1*dat_x.^2 .+ 5 .+ 0.5*rand(length(dat_x));\n",
    "dat_x = reshape(dat_x,(1,:));\n",
    "dat_y = reshape(dat_y,(1,:));"
   ]
  },
  {
   "cell_type": "markdown",
   "metadata": {},
   "source": [
    "We use the arguments format for parameters, in which they get passed through the function, rather than the implicit parameters format. A model has three arguments: hyperparameters, parameters, and input features:\n",
    "\\begin{equation}\n",
    "f_{hyper}(x;params)\n",
    "\\end{equation}\n",
    "Conceptually, I prefer this way of thinking about it, but juggling the arguments is complicated for the model developer. "
   ]
  },
  {
   "cell_type": "code",
   "execution_count": 26,
   "metadata": {},
   "outputs": [],
   "source": [
    "poly = AfqsJuliaUtil.@polynomial_function(1,3)\n",
    "P0 = rand(4)\n",
    "f(x,P) = P[1:3]'*poly(x).+P[4];"
   ]
  },
  {
   "cell_type": "markdown",
   "metadata": {},
   "source": [
    "With this \"simple\" expression, we will use Flux and Zygote to optimize the values of the parameters:"
   ]
  },
  {
   "cell_type": "code",
   "execution_count": 27,
   "metadata": {},
   "outputs": [
    {
     "data": {
      "text/plain": [
       "loss (generic function with 1 method)"
      ]
     },
     "execution_count": 27,
     "metadata": {},
     "output_type": "execute_result"
    }
   ],
   "source": [
    "using Flux, Zygote, Plots\n",
    "loss(x,y, P) = Flux.mse(y,f(x,P))"
   ]
  },
  {
   "cell_type": "markdown",
   "metadata": {},
   "source": [
    "We check that it works:"
   ]
  },
  {
   "cell_type": "code",
   "execution_count": 28,
   "metadata": {},
   "outputs": [
    {
     "data": {
      "text/plain": [
       "95585.53564978765"
      ]
     },
     "execution_count": 28,
     "metadata": {},
     "output_type": "execute_result"
    }
   ],
   "source": [
    "loss(dat_x,dat_y, P0)"
   ]
  },
  {
   "cell_type": "markdown",
   "metadata": {},
   "source": [
    "\\begin{equation}\n",
    "P = \\arg \\min_P \\left\\| y-f(x;P)\\right\\|\n",
    "\\end{equation}\n",
    "\n",
    "\\begin{equation}\n",
    "\\frac{\\partial L}{\\partial P} = 0\n",
    "\\end{equation}\n",
    "\n",
    "\\begin{equation}\n",
    "\\left[\\frac{\\partial^2 L}{\\partial P^2}\\right]\\Delta P = -\\frac{\\partial L}{\\partial P}\n",
    "\\end{equation}\n",
    "\n",
    "So... let's just type that!"
   ]
  },
  {
   "cell_type": "code",
   "execution_count": 29,
   "metadata": {},
   "outputs": [],
   "source": [
    "gradx_fwd(x) = Zygote.forward_jacobian( (P->loss(dat_x,dat_y, P)), x )[2];\n",
    "hessx_fwd(x) = Zygote.forward_jacobian( gradx_fwd, x );"
   ]
  },
  {
   "cell_type": "code",
   "execution_count": 30,
   "metadata": {},
   "outputs": [],
   "source": [
    "#gradx(x) = Zygote.gradient( (P->loss(dat_x,dat_y, P)), x )[1]"
   ]
  },
  {
   "cell_type": "markdown",
   "metadata": {},
   "source": [
    "To get the matrix, we just just evaluate it:"
   ]
  },
  {
   "cell_type": "code",
   "execution_count": 31,
   "metadata": {},
   "outputs": [
    {
     "data": {
      "text/plain": [
       "([3474.67; 29007.5; 2.49258e5; 433.691], [74.3 560.45 4506.19 11.0; 560.45 4506.19 37738.1 74.3; 4506.19 37738.1 3.25071e5 560.45; 11.0 74.3 560.45 2.0])"
      ]
     },
     "execution_count": 31,
     "metadata": {},
     "output_type": "execute_result"
    }
   ],
   "source": [
    "R,K=hessx_fwd(P0)"
   ]
  },
  {
   "cell_type": "markdown",
   "metadata": {},
   "source": [
    "Note how the gradient (R) is the same as the backward differentiated case."
   ]
  },
  {
   "cell_type": "markdown",
   "metadata": {},
   "source": [
    "To do the least squares, we just solve the resulting system of equations:"
   ]
  },
  {
   "cell_type": "code",
   "execution_count": 32,
   "metadata": {},
   "outputs": [
    {
     "data": {
      "text/plain": [
       "4×1 Array{Float64,2}:\n",
       " -0.01296390262039171   \n",
       "  0.10627247582199706   \n",
       " -0.00047216665684812753\n",
       "  5.209583347214992     "
      ]
     },
     "execution_count": 32,
     "metadata": {},
     "output_type": "execute_result"
    }
   ],
   "source": [
    "ΔP = K\\R;\n",
    "P = P0 - ΔP"
   ]
  },
  {
   "cell_type": "markdown",
   "metadata": {},
   "source": [
    "Notice how we recover `P[2]==0.1` and `P[4]==5`. We can verify that it looks right:"
   ]
  },
  {
   "cell_type": "code",
   "execution_count": 33,
   "metadata": {},
   "outputs": [
    {
     "data": {
      "image/svg+xml": [
       "<?xml version=\"1.0\" encoding=\"utf-8\"?>\n",
       "<svg xmlns=\"http://www.w3.org/2000/svg\" xmlns:xlink=\"http://www.w3.org/1999/xlink\" width=\"600\" height=\"400\" viewBox=\"0 0 2400 1600\">\n",
       "<defs>\n",
       "  <clipPath id=\"clip1700\">\n",
       "    <rect x=\"0\" y=\"0\" width=\"2400\" height=\"1600\"/>\n",
       "  </clipPath>\n",
       "</defs>\n",
       "<polygon clip-path=\"url(#clip1700)\" points=\"\n",
       "0,1600 2400,1600 2400,0 0,0 \n",
       "  \" fill=\"#ffffff\" fill-rule=\"evenodd\" fill-opacity=\"1\"/>\n",
       "<defs>\n",
       "  <clipPath id=\"clip1701\">\n",
       "    <rect x=\"480\" y=\"0\" width=\"1681\" height=\"1600\"/>\n",
       "  </clipPath>\n",
       "</defs>\n",
       "<polygon clip-path=\"url(#clip1700)\" points=\"\n",
       "148.013,1503.47 2321.26,1503.47 2321.26,47.2441 148.013,47.2441 \n",
       "  \" fill=\"#ffffff\" fill-rule=\"evenodd\" fill-opacity=\"1\"/>\n",
       "<defs>\n",
       "  <clipPath id=\"clip1702\">\n",
       "    <rect x=\"148\" y=\"47\" width=\"2174\" height=\"1457\"/>\n",
       "  </clipPath>\n",
       "</defs>\n",
       "<polyline clip-path=\"url(#clip1702)\" style=\"stroke:#000000; stroke-width:2; stroke-opacity:0.1; fill:none\" points=\"\n",
       "  437.324,1503.47 437.324,47.2441 \n",
       "  \"/>\n",
       "<polyline clip-path=\"url(#clip1702)\" style=\"stroke:#000000; stroke-width:2; stroke-opacity:0.1; fill:none\" points=\"\n",
       "  892.931,1503.47 892.931,47.2441 \n",
       "  \"/>\n",
       "<polyline clip-path=\"url(#clip1702)\" style=\"stroke:#000000; stroke-width:2; stroke-opacity:0.1; fill:none\" points=\"\n",
       "  1348.54,1503.47 1348.54,47.2441 \n",
       "  \"/>\n",
       "<polyline clip-path=\"url(#clip1702)\" style=\"stroke:#000000; stroke-width:2; stroke-opacity:0.1; fill:none\" points=\"\n",
       "  1804.15,1503.47 1804.15,47.2441 \n",
       "  \"/>\n",
       "<polyline clip-path=\"url(#clip1702)\" style=\"stroke:#000000; stroke-width:2; stroke-opacity:0.1; fill:none\" points=\"\n",
       "  2259.75,1503.47 2259.75,47.2441 \n",
       "  \"/>\n",
       "<polyline clip-path=\"url(#clip1702)\" style=\"stroke:#000000; stroke-width:2; stroke-opacity:0.1; fill:none\" points=\"\n",
       "  148.013,1356.11 2321.26,1356.11 \n",
       "  \"/>\n",
       "<polyline clip-path=\"url(#clip1702)\" style=\"stroke:#000000; stroke-width:2; stroke-opacity:0.1; fill:none\" points=\"\n",
       "  148.013,1088.95 2321.26,1088.95 \n",
       "  \"/>\n",
       "<polyline clip-path=\"url(#clip1702)\" style=\"stroke:#000000; stroke-width:2; stroke-opacity:0.1; fill:none\" points=\"\n",
       "  148.013,821.798 2321.26,821.798 \n",
       "  \"/>\n",
       "<polyline clip-path=\"url(#clip1702)\" style=\"stroke:#000000; stroke-width:2; stroke-opacity:0.1; fill:none\" points=\"\n",
       "  148.013,554.644 2321.26,554.644 \n",
       "  \"/>\n",
       "<polyline clip-path=\"url(#clip1702)\" style=\"stroke:#000000; stroke-width:2; stroke-opacity:0.1; fill:none\" points=\"\n",
       "  148.013,287.49 2321.26,287.49 \n",
       "  \"/>\n",
       "<polyline clip-path=\"url(#clip1700)\" style=\"stroke:#000000; stroke-width:4; stroke-opacity:1; fill:none\" points=\"\n",
       "  148.013,1503.47 2321.26,1503.47 \n",
       "  \"/>\n",
       "<polyline clip-path=\"url(#clip1700)\" style=\"stroke:#000000; stroke-width:4; stroke-opacity:1; fill:none\" points=\"\n",
       "  148.013,1503.47 148.013,47.2441 \n",
       "  \"/>\n",
       "<polyline clip-path=\"url(#clip1700)\" style=\"stroke:#000000; stroke-width:4; stroke-opacity:1; fill:none\" points=\"\n",
       "  437.324,1503.47 437.324,1481.63 \n",
       "  \"/>\n",
       "<polyline clip-path=\"url(#clip1700)\" style=\"stroke:#000000; stroke-width:4; stroke-opacity:1; fill:none\" points=\"\n",
       "  892.931,1503.47 892.931,1481.63 \n",
       "  \"/>\n",
       "<polyline clip-path=\"url(#clip1700)\" style=\"stroke:#000000; stroke-width:4; stroke-opacity:1; fill:none\" points=\"\n",
       "  1348.54,1503.47 1348.54,1481.63 \n",
       "  \"/>\n",
       "<polyline clip-path=\"url(#clip1700)\" style=\"stroke:#000000; stroke-width:4; stroke-opacity:1; fill:none\" points=\"\n",
       "  1804.15,1503.47 1804.15,1481.63 \n",
       "  \"/>\n",
       "<polyline clip-path=\"url(#clip1700)\" style=\"stroke:#000000; stroke-width:4; stroke-opacity:1; fill:none\" points=\"\n",
       "  2259.75,1503.47 2259.75,1481.63 \n",
       "  \"/>\n",
       "<polyline clip-path=\"url(#clip1700)\" style=\"stroke:#000000; stroke-width:4; stroke-opacity:1; fill:none\" points=\"\n",
       "  148.013,1356.11 180.612,1356.11 \n",
       "  \"/>\n",
       "<polyline clip-path=\"url(#clip1700)\" style=\"stroke:#000000; stroke-width:4; stroke-opacity:1; fill:none\" points=\"\n",
       "  148.013,1088.95 180.612,1088.95 \n",
       "  \"/>\n",
       "<polyline clip-path=\"url(#clip1700)\" style=\"stroke:#000000; stroke-width:4; stroke-opacity:1; fill:none\" points=\"\n",
       "  148.013,821.798 180.612,821.798 \n",
       "  \"/>\n",
       "<polyline clip-path=\"url(#clip1700)\" style=\"stroke:#000000; stroke-width:4; stroke-opacity:1; fill:none\" points=\"\n",
       "  148.013,554.644 180.612,554.644 \n",
       "  \"/>\n",
       "<polyline clip-path=\"url(#clip1700)\" style=\"stroke:#000000; stroke-width:4; stroke-opacity:1; fill:none\" points=\"\n",
       "  148.013,287.49 180.612,287.49 \n",
       "  \"/>\n",
       "<g clip-path=\"url(#clip1700)\">\n",
       "<text style=\"fill:#000000; fill-opacity:1; font-family:Arial,Helvetica Neue,Helvetica,sans-serif; font-size:48px; text-anchor:middle;\" transform=\"rotate(0, 437.324, 1557.47)\" x=\"437.324\" y=\"1557.47\">2</text>\n",
       "</g>\n",
       "<g clip-path=\"url(#clip1700)\">\n",
       "<text style=\"fill:#000000; fill-opacity:1; font-family:Arial,Helvetica Neue,Helvetica,sans-serif; font-size:48px; text-anchor:middle;\" transform=\"rotate(0, 892.931, 1557.47)\" x=\"892.931\" y=\"1557.47\">4</text>\n",
       "</g>\n",
       "<g clip-path=\"url(#clip1700)\">\n",
       "<text style=\"fill:#000000; fill-opacity:1; font-family:Arial,Helvetica Neue,Helvetica,sans-serif; font-size:48px; text-anchor:middle;\" transform=\"rotate(0, 1348.54, 1557.47)\" x=\"1348.54\" y=\"1557.47\">6</text>\n",
       "</g>\n",
       "<g clip-path=\"url(#clip1700)\">\n",
       "<text style=\"fill:#000000; fill-opacity:1; font-family:Arial,Helvetica Neue,Helvetica,sans-serif; font-size:48px; text-anchor:middle;\" transform=\"rotate(0, 1804.15, 1557.47)\" x=\"1804.15\" y=\"1557.47\">8</text>\n",
       "</g>\n",
       "<g clip-path=\"url(#clip1700)\">\n",
       "<text style=\"fill:#000000; fill-opacity:1; font-family:Arial,Helvetica Neue,Helvetica,sans-serif; font-size:48px; text-anchor:middle;\" transform=\"rotate(0, 2259.75, 1557.47)\" x=\"2259.75\" y=\"1557.47\">10</text>\n",
       "</g>\n",
       "<g clip-path=\"url(#clip1700)\">\n",
       "<text style=\"fill:#000000; fill-opacity:1; font-family:Arial,Helvetica Neue,Helvetica,sans-serif; font-size:48px; text-anchor:end;\" transform=\"rotate(0, 124.013, 1373.61)\" x=\"124.013\" y=\"1373.61\">6</text>\n",
       "</g>\n",
       "<g clip-path=\"url(#clip1700)\">\n",
       "<text style=\"fill:#000000; fill-opacity:1; font-family:Arial,Helvetica Neue,Helvetica,sans-serif; font-size:48px; text-anchor:end;\" transform=\"rotate(0, 124.013, 1106.45)\" x=\"124.013\" y=\"1106.45\">8</text>\n",
       "</g>\n",
       "<g clip-path=\"url(#clip1700)\">\n",
       "<text style=\"fill:#000000; fill-opacity:1; font-family:Arial,Helvetica Neue,Helvetica,sans-serif; font-size:48px; text-anchor:end;\" transform=\"rotate(0, 124.013, 839.298)\" x=\"124.013\" y=\"839.298\">10</text>\n",
       "</g>\n",
       "<g clip-path=\"url(#clip1700)\">\n",
       "<text style=\"fill:#000000; fill-opacity:1; font-family:Arial,Helvetica Neue,Helvetica,sans-serif; font-size:48px; text-anchor:end;\" transform=\"rotate(0, 124.013, 572.144)\" x=\"124.013\" y=\"572.144\">12</text>\n",
       "</g>\n",
       "<g clip-path=\"url(#clip1700)\">\n",
       "<text style=\"fill:#000000; fill-opacity:1; font-family:Arial,Helvetica Neue,Helvetica,sans-serif; font-size:48px; text-anchor:end;\" transform=\"rotate(0, 124.013, 304.99)\" x=\"124.013\" y=\"304.99\">14</text>\n",
       "</g>\n",
       "<circle clip-path=\"url(#clip1702)\" style=\"fill:#000000; stroke:none; fill-opacity:1\" cx=\"209.52\" cy=\"1444.16\" r=\"18\"/>\n",
       "<circle clip-path=\"url(#clip1702)\" style=\"fill:#009af9; stroke:none; fill-opacity:1\" cx=\"209.52\" cy=\"1444.16\" r=\"14\"/>\n",
       "<circle clip-path=\"url(#clip1702)\" style=\"fill:#000000; stroke:none; fill-opacity:1\" cx=\"232.3\" cy=\"1441.28\" r=\"18\"/>\n",
       "<circle clip-path=\"url(#clip1702)\" style=\"fill:#009af9; stroke:none; fill-opacity:1\" cx=\"232.3\" cy=\"1441.28\" r=\"14\"/>\n",
       "<circle clip-path=\"url(#clip1702)\" style=\"fill:#000000; stroke:none; fill-opacity:1\" cx=\"255.081\" cy=\"1438.06\" r=\"18\"/>\n",
       "<circle clip-path=\"url(#clip1702)\" style=\"fill:#009af9; stroke:none; fill-opacity:1\" cx=\"255.081\" cy=\"1438.06\" r=\"14\"/>\n",
       "<circle clip-path=\"url(#clip1702)\" style=\"fill:#000000; stroke:none; fill-opacity:1\" cx=\"277.861\" cy=\"1462.26\" r=\"18\"/>\n",
       "<circle clip-path=\"url(#clip1702)\" style=\"fill:#009af9; stroke:none; fill-opacity:1\" cx=\"277.861\" cy=\"1462.26\" r=\"14\"/>\n",
       "<circle clip-path=\"url(#clip1702)\" style=\"fill:#000000; stroke:none; fill-opacity:1\" cx=\"300.641\" cy=\"1456.06\" r=\"18\"/>\n",
       "<circle clip-path=\"url(#clip1702)\" style=\"fill:#009af9; stroke:none; fill-opacity:1\" cx=\"300.641\" cy=\"1456.06\" r=\"14\"/>\n",
       "<circle clip-path=\"url(#clip1702)\" style=\"fill:#000000; stroke:none; fill-opacity:1\" cx=\"323.422\" cy=\"1426.31\" r=\"18\"/>\n",
       "<circle clip-path=\"url(#clip1702)\" style=\"fill:#009af9; stroke:none; fill-opacity:1\" cx=\"323.422\" cy=\"1426.31\" r=\"14\"/>\n",
       "<circle clip-path=\"url(#clip1702)\" style=\"fill:#000000; stroke:none; fill-opacity:1\" cx=\"346.202\" cy=\"1414.67\" r=\"18\"/>\n",
       "<circle clip-path=\"url(#clip1702)\" style=\"fill:#009af9; stroke:none; fill-opacity:1\" cx=\"346.202\" cy=\"1414.67\" r=\"14\"/>\n",
       "<circle clip-path=\"url(#clip1702)\" style=\"fill:#000000; stroke:none; fill-opacity:1\" cx=\"368.982\" cy=\"1429.12\" r=\"18\"/>\n",
       "<circle clip-path=\"url(#clip1702)\" style=\"fill:#009af9; stroke:none; fill-opacity:1\" cx=\"368.982\" cy=\"1429.12\" r=\"14\"/>\n",
       "<circle clip-path=\"url(#clip1702)\" style=\"fill:#000000; stroke:none; fill-opacity:1\" cx=\"391.763\" cy=\"1425.34\" r=\"18\"/>\n",
       "<circle clip-path=\"url(#clip1702)\" style=\"fill:#009af9; stroke:none; fill-opacity:1\" cx=\"391.763\" cy=\"1425.34\" r=\"14\"/>\n",
       "<circle clip-path=\"url(#clip1702)\" style=\"fill:#000000; stroke:none; fill-opacity:1\" cx=\"414.543\" cy=\"1424.63\" r=\"18\"/>\n",
       "<circle clip-path=\"url(#clip1702)\" style=\"fill:#009af9; stroke:none; fill-opacity:1\" cx=\"414.543\" cy=\"1424.63\" r=\"14\"/>\n",
       "<circle clip-path=\"url(#clip1702)\" style=\"fill:#000000; stroke:none; fill-opacity:1\" cx=\"437.324\" cy=\"1380.46\" r=\"18\"/>\n",
       "<circle clip-path=\"url(#clip1702)\" style=\"fill:#009af9; stroke:none; fill-opacity:1\" cx=\"437.324\" cy=\"1380.46\" r=\"14\"/>\n",
       "<circle clip-path=\"url(#clip1702)\" style=\"fill:#000000; stroke:none; fill-opacity:1\" cx=\"460.104\" cy=\"1404.83\" r=\"18\"/>\n",
       "<circle clip-path=\"url(#clip1702)\" style=\"fill:#009af9; stroke:none; fill-opacity:1\" cx=\"460.104\" cy=\"1404.83\" r=\"14\"/>\n",
       "<circle clip-path=\"url(#clip1702)\" style=\"fill:#000000; stroke:none; fill-opacity:1\" cx=\"482.884\" cy=\"1385.36\" r=\"18\"/>\n",
       "<circle clip-path=\"url(#clip1702)\" style=\"fill:#009af9; stroke:none; fill-opacity:1\" cx=\"482.884\" cy=\"1385.36\" r=\"14\"/>\n",
       "<circle clip-path=\"url(#clip1702)\" style=\"fill:#000000; stroke:none; fill-opacity:1\" cx=\"505.665\" cy=\"1404.95\" r=\"18\"/>\n",
       "<circle clip-path=\"url(#clip1702)\" style=\"fill:#009af9; stroke:none; fill-opacity:1\" cx=\"505.665\" cy=\"1404.95\" r=\"14\"/>\n",
       "<circle clip-path=\"url(#clip1702)\" style=\"fill:#000000; stroke:none; fill-opacity:1\" cx=\"528.445\" cy=\"1401.18\" r=\"18\"/>\n",
       "<circle clip-path=\"url(#clip1702)\" style=\"fill:#009af9; stroke:none; fill-opacity:1\" cx=\"528.445\" cy=\"1401.18\" r=\"14\"/>\n",
       "<circle clip-path=\"url(#clip1702)\" style=\"fill:#000000; stroke:none; fill-opacity:1\" cx=\"551.225\" cy=\"1357.91\" r=\"18\"/>\n",
       "<circle clip-path=\"url(#clip1702)\" style=\"fill:#009af9; stroke:none; fill-opacity:1\" cx=\"551.225\" cy=\"1357.91\" r=\"14\"/>\n",
       "<circle clip-path=\"url(#clip1702)\" style=\"fill:#000000; stroke:none; fill-opacity:1\" cx=\"574.006\" cy=\"1375.36\" r=\"18\"/>\n",
       "<circle clip-path=\"url(#clip1702)\" style=\"fill:#009af9; stroke:none; fill-opacity:1\" cx=\"574.006\" cy=\"1375.36\" r=\"14\"/>\n",
       "<circle clip-path=\"url(#clip1702)\" style=\"fill:#000000; stroke:none; fill-opacity:1\" cx=\"596.786\" cy=\"1352.84\" r=\"18\"/>\n",
       "<circle clip-path=\"url(#clip1702)\" style=\"fill:#009af9; stroke:none; fill-opacity:1\" cx=\"596.786\" cy=\"1352.84\" r=\"14\"/>\n",
       "<circle clip-path=\"url(#clip1702)\" style=\"fill:#000000; stroke:none; fill-opacity:1\" cx=\"619.566\" cy=\"1369.02\" r=\"18\"/>\n",
       "<circle clip-path=\"url(#clip1702)\" style=\"fill:#009af9; stroke:none; fill-opacity:1\" cx=\"619.566\" cy=\"1369.02\" r=\"14\"/>\n",
       "<circle clip-path=\"url(#clip1702)\" style=\"fill:#000000; stroke:none; fill-opacity:1\" cx=\"642.347\" cy=\"1368.59\" r=\"18\"/>\n",
       "<circle clip-path=\"url(#clip1702)\" style=\"fill:#009af9; stroke:none; fill-opacity:1\" cx=\"642.347\" cy=\"1368.59\" r=\"14\"/>\n",
       "<circle clip-path=\"url(#clip1702)\" style=\"fill:#000000; stroke:none; fill-opacity:1\" cx=\"665.127\" cy=\"1327.09\" r=\"18\"/>\n",
       "<circle clip-path=\"url(#clip1702)\" style=\"fill:#009af9; stroke:none; fill-opacity:1\" cx=\"665.127\" cy=\"1327.09\" r=\"14\"/>\n",
       "<circle clip-path=\"url(#clip1702)\" style=\"fill:#000000; stroke:none; fill-opacity:1\" cx=\"687.908\" cy=\"1313.42\" r=\"18\"/>\n",
       "<circle clip-path=\"url(#clip1702)\" style=\"fill:#009af9; stroke:none; fill-opacity:1\" cx=\"687.908\" cy=\"1313.42\" r=\"14\"/>\n",
       "<circle clip-path=\"url(#clip1702)\" style=\"fill:#000000; stroke:none; fill-opacity:1\" cx=\"710.688\" cy=\"1314.41\" r=\"18\"/>\n",
       "<circle clip-path=\"url(#clip1702)\" style=\"fill:#009af9; stroke:none; fill-opacity:1\" cx=\"710.688\" cy=\"1314.41\" r=\"14\"/>\n",
       "<circle clip-path=\"url(#clip1702)\" style=\"fill:#000000; stroke:none; fill-opacity:1\" cx=\"733.468\" cy=\"1309.49\" r=\"18\"/>\n",
       "<circle clip-path=\"url(#clip1702)\" style=\"fill:#009af9; stroke:none; fill-opacity:1\" cx=\"733.468\" cy=\"1309.49\" r=\"14\"/>\n",
       "<circle clip-path=\"url(#clip1702)\" style=\"fill:#000000; stroke:none; fill-opacity:1\" cx=\"756.249\" cy=\"1300.95\" r=\"18\"/>\n",
       "<circle clip-path=\"url(#clip1702)\" style=\"fill:#009af9; stroke:none; fill-opacity:1\" cx=\"756.249\" cy=\"1300.95\" r=\"14\"/>\n",
       "<circle clip-path=\"url(#clip1702)\" style=\"fill:#000000; stroke:none; fill-opacity:1\" cx=\"779.029\" cy=\"1282.5\" r=\"18\"/>\n",
       "<circle clip-path=\"url(#clip1702)\" style=\"fill:#009af9; stroke:none; fill-opacity:1\" cx=\"779.029\" cy=\"1282.5\" r=\"14\"/>\n",
       "<circle clip-path=\"url(#clip1702)\" style=\"fill:#000000; stroke:none; fill-opacity:1\" cx=\"801.809\" cy=\"1294.73\" r=\"18\"/>\n",
       "<circle clip-path=\"url(#clip1702)\" style=\"fill:#009af9; stroke:none; fill-opacity:1\" cx=\"801.809\" cy=\"1294.73\" r=\"14\"/>\n",
       "<circle clip-path=\"url(#clip1702)\" style=\"fill:#000000; stroke:none; fill-opacity:1\" cx=\"824.59\" cy=\"1270.38\" r=\"18\"/>\n",
       "<circle clip-path=\"url(#clip1702)\" style=\"fill:#009af9; stroke:none; fill-opacity:1\" cx=\"824.59\" cy=\"1270.38\" r=\"14\"/>\n",
       "<circle clip-path=\"url(#clip1702)\" style=\"fill:#000000; stroke:none; fill-opacity:1\" cx=\"847.37\" cy=\"1256.96\" r=\"18\"/>\n",
       "<circle clip-path=\"url(#clip1702)\" style=\"fill:#009af9; stroke:none; fill-opacity:1\" cx=\"847.37\" cy=\"1256.96\" r=\"14\"/>\n",
       "<circle clip-path=\"url(#clip1702)\" style=\"fill:#000000; stroke:none; fill-opacity:1\" cx=\"870.15\" cy=\"1273.08\" r=\"18\"/>\n",
       "<circle clip-path=\"url(#clip1702)\" style=\"fill:#009af9; stroke:none; fill-opacity:1\" cx=\"870.15\" cy=\"1273.08\" r=\"14\"/>\n",
       "<circle clip-path=\"url(#clip1702)\" style=\"fill:#000000; stroke:none; fill-opacity:1\" cx=\"892.931\" cy=\"1220.08\" r=\"18\"/>\n",
       "<circle clip-path=\"url(#clip1702)\" style=\"fill:#009af9; stroke:none; fill-opacity:1\" cx=\"892.931\" cy=\"1220.08\" r=\"14\"/>\n",
       "<circle clip-path=\"url(#clip1702)\" style=\"fill:#000000; stroke:none; fill-opacity:1\" cx=\"915.711\" cy=\"1245.98\" r=\"18\"/>\n",
       "<circle clip-path=\"url(#clip1702)\" style=\"fill:#009af9; stroke:none; fill-opacity:1\" cx=\"915.711\" cy=\"1245.98\" r=\"14\"/>\n",
       "<circle clip-path=\"url(#clip1702)\" style=\"fill:#000000; stroke:none; fill-opacity:1\" cx=\"938.492\" cy=\"1216.31\" r=\"18\"/>\n",
       "<circle clip-path=\"url(#clip1702)\" style=\"fill:#009af9; stroke:none; fill-opacity:1\" cx=\"938.492\" cy=\"1216.31\" r=\"14\"/>\n",
       "<circle clip-path=\"url(#clip1702)\" style=\"fill:#000000; stroke:none; fill-opacity:1\" cx=\"961.272\" cy=\"1219.04\" r=\"18\"/>\n",
       "<circle clip-path=\"url(#clip1702)\" style=\"fill:#009af9; stroke:none; fill-opacity:1\" cx=\"961.272\" cy=\"1219.04\" r=\"14\"/>\n",
       "<circle clip-path=\"url(#clip1702)\" style=\"fill:#000000; stroke:none; fill-opacity:1\" cx=\"984.052\" cy=\"1218.64\" r=\"18\"/>\n",
       "<circle clip-path=\"url(#clip1702)\" style=\"fill:#009af9; stroke:none; fill-opacity:1\" cx=\"984.052\" cy=\"1218.64\" r=\"14\"/>\n",
       "<circle clip-path=\"url(#clip1702)\" style=\"fill:#000000; stroke:none; fill-opacity:1\" cx=\"1006.83\" cy=\"1205.71\" r=\"18\"/>\n",
       "<circle clip-path=\"url(#clip1702)\" style=\"fill:#009af9; stroke:none; fill-opacity:1\" cx=\"1006.83\" cy=\"1205.71\" r=\"14\"/>\n",
       "<circle clip-path=\"url(#clip1702)\" style=\"fill:#000000; stroke:none; fill-opacity:1\" cx=\"1029.61\" cy=\"1204.86\" r=\"18\"/>\n",
       "<circle clip-path=\"url(#clip1702)\" style=\"fill:#009af9; stroke:none; fill-opacity:1\" cx=\"1029.61\" cy=\"1204.86\" r=\"14\"/>\n",
       "<circle clip-path=\"url(#clip1702)\" style=\"fill:#000000; stroke:none; fill-opacity:1\" cx=\"1052.39\" cy=\"1150.53\" r=\"18\"/>\n",
       "<circle clip-path=\"url(#clip1702)\" style=\"fill:#009af9; stroke:none; fill-opacity:1\" cx=\"1052.39\" cy=\"1150.53\" r=\"14\"/>\n",
       "<circle clip-path=\"url(#clip1702)\" style=\"fill:#000000; stroke:none; fill-opacity:1\" cx=\"1075.17\" cy=\"1156.73\" r=\"18\"/>\n",
       "<circle clip-path=\"url(#clip1702)\" style=\"fill:#009af9; stroke:none; fill-opacity:1\" cx=\"1075.17\" cy=\"1156.73\" r=\"14\"/>\n",
       "<circle clip-path=\"url(#clip1702)\" style=\"fill:#000000; stroke:none; fill-opacity:1\" cx=\"1097.95\" cy=\"1153.21\" r=\"18\"/>\n",
       "<circle clip-path=\"url(#clip1702)\" style=\"fill:#009af9; stroke:none; fill-opacity:1\" cx=\"1097.95\" cy=\"1153.21\" r=\"14\"/>\n",
       "<circle clip-path=\"url(#clip1702)\" style=\"fill:#000000; stroke:none; fill-opacity:1\" cx=\"1120.73\" cy=\"1151.91\" r=\"18\"/>\n",
       "<circle clip-path=\"url(#clip1702)\" style=\"fill:#009af9; stroke:none; fill-opacity:1\" cx=\"1120.73\" cy=\"1151.91\" r=\"14\"/>\n",
       "<circle clip-path=\"url(#clip1702)\" style=\"fill:#000000; stroke:none; fill-opacity:1\" cx=\"1143.51\" cy=\"1128.99\" r=\"18\"/>\n",
       "<circle clip-path=\"url(#clip1702)\" style=\"fill:#009af9; stroke:none; fill-opacity:1\" cx=\"1143.51\" cy=\"1128.99\" r=\"14\"/>\n",
       "<circle clip-path=\"url(#clip1702)\" style=\"fill:#000000; stroke:none; fill-opacity:1\" cx=\"1166.3\" cy=\"1097.56\" r=\"18\"/>\n",
       "<circle clip-path=\"url(#clip1702)\" style=\"fill:#009af9; stroke:none; fill-opacity:1\" cx=\"1166.3\" cy=\"1097.56\" r=\"14\"/>\n",
       "<circle clip-path=\"url(#clip1702)\" style=\"fill:#000000; stroke:none; fill-opacity:1\" cx=\"1189.08\" cy=\"1066.5\" r=\"18\"/>\n",
       "<circle clip-path=\"url(#clip1702)\" style=\"fill:#009af9; stroke:none; fill-opacity:1\" cx=\"1189.08\" cy=\"1066.5\" r=\"14\"/>\n",
       "<circle clip-path=\"url(#clip1702)\" style=\"fill:#000000; stroke:none; fill-opacity:1\" cx=\"1211.86\" cy=\"1048.62\" r=\"18\"/>\n",
       "<circle clip-path=\"url(#clip1702)\" style=\"fill:#009af9; stroke:none; fill-opacity:1\" cx=\"1211.86\" cy=\"1048.62\" r=\"14\"/>\n",
       "<circle clip-path=\"url(#clip1702)\" style=\"fill:#000000; stroke:none; fill-opacity:1\" cx=\"1234.64\" cy=\"1084.84\" r=\"18\"/>\n",
       "<circle clip-path=\"url(#clip1702)\" style=\"fill:#009af9; stroke:none; fill-opacity:1\" cx=\"1234.64\" cy=\"1084.84\" r=\"14\"/>\n",
       "<circle clip-path=\"url(#clip1702)\" style=\"fill:#000000; stroke:none; fill-opacity:1\" cx=\"1257.42\" cy=\"1006.76\" r=\"18\"/>\n",
       "<circle clip-path=\"url(#clip1702)\" style=\"fill:#009af9; stroke:none; fill-opacity:1\" cx=\"1257.42\" cy=\"1006.76\" r=\"14\"/>\n",
       "<circle clip-path=\"url(#clip1702)\" style=\"fill:#000000; stroke:none; fill-opacity:1\" cx=\"1280.2\" cy=\"996.89\" r=\"18\"/>\n",
       "<circle clip-path=\"url(#clip1702)\" style=\"fill:#009af9; stroke:none; fill-opacity:1\" cx=\"1280.2\" cy=\"996.89\" r=\"14\"/>\n",
       "<circle clip-path=\"url(#clip1702)\" style=\"fill:#000000; stroke:none; fill-opacity:1\" cx=\"1302.98\" cy=\"1024.12\" r=\"18\"/>\n",
       "<circle clip-path=\"url(#clip1702)\" style=\"fill:#009af9; stroke:none; fill-opacity:1\" cx=\"1302.98\" cy=\"1024.12\" r=\"14\"/>\n",
       "<circle clip-path=\"url(#clip1702)\" style=\"fill:#000000; stroke:none; fill-opacity:1\" cx=\"1325.76\" cy=\"997.431\" r=\"18\"/>\n",
       "<circle clip-path=\"url(#clip1702)\" style=\"fill:#009af9; stroke:none; fill-opacity:1\" cx=\"1325.76\" cy=\"997.431\" r=\"14\"/>\n",
       "<circle clip-path=\"url(#clip1702)\" style=\"fill:#000000; stroke:none; fill-opacity:1\" cx=\"1348.54\" cy=\"974.487\" r=\"18\"/>\n",
       "<circle clip-path=\"url(#clip1702)\" style=\"fill:#009af9; stroke:none; fill-opacity:1\" cx=\"1348.54\" cy=\"974.487\" r=\"14\"/>\n",
       "<circle clip-path=\"url(#clip1702)\" style=\"fill:#000000; stroke:none; fill-opacity:1\" cx=\"1371.32\" cy=\"971.995\" r=\"18\"/>\n",
       "<circle clip-path=\"url(#clip1702)\" style=\"fill:#009af9; stroke:none; fill-opacity:1\" cx=\"1371.32\" cy=\"971.995\" r=\"14\"/>\n",
       "<circle clip-path=\"url(#clip1702)\" style=\"fill:#000000; stroke:none; fill-opacity:1\" cx=\"1394.1\" cy=\"954.88\" r=\"18\"/>\n",
       "<circle clip-path=\"url(#clip1702)\" style=\"fill:#009af9; stroke:none; fill-opacity:1\" cx=\"1394.1\" cy=\"954.88\" r=\"14\"/>\n",
       "<circle clip-path=\"url(#clip1702)\" style=\"fill:#000000; stroke:none; fill-opacity:1\" cx=\"1416.88\" cy=\"917.461\" r=\"18\"/>\n",
       "<circle clip-path=\"url(#clip1702)\" style=\"fill:#009af9; stroke:none; fill-opacity:1\" cx=\"1416.88\" cy=\"917.461\" r=\"14\"/>\n",
       "<circle clip-path=\"url(#clip1702)\" style=\"fill:#000000; stroke:none; fill-opacity:1\" cx=\"1439.66\" cy=\"876.384\" r=\"18\"/>\n",
       "<circle clip-path=\"url(#clip1702)\" style=\"fill:#009af9; stroke:none; fill-opacity:1\" cx=\"1439.66\" cy=\"876.384\" r=\"14\"/>\n",
       "<circle clip-path=\"url(#clip1702)\" style=\"fill:#000000; stroke:none; fill-opacity:1\" cx=\"1462.44\" cy=\"868.328\" r=\"18\"/>\n",
       "<circle clip-path=\"url(#clip1702)\" style=\"fill:#009af9; stroke:none; fill-opacity:1\" cx=\"1462.44\" cy=\"868.328\" r=\"14\"/>\n",
       "<circle clip-path=\"url(#clip1702)\" style=\"fill:#000000; stroke:none; fill-opacity:1\" cx=\"1485.22\" cy=\"847.725\" r=\"18\"/>\n",
       "<circle clip-path=\"url(#clip1702)\" style=\"fill:#009af9; stroke:none; fill-opacity:1\" cx=\"1485.22\" cy=\"847.725\" r=\"14\"/>\n",
       "<circle clip-path=\"url(#clip1702)\" style=\"fill:#000000; stroke:none; fill-opacity:1\" cx=\"1508\" cy=\"826.635\" r=\"18\"/>\n",
       "<circle clip-path=\"url(#clip1702)\" style=\"fill:#009af9; stroke:none; fill-opacity:1\" cx=\"1508\" cy=\"826.635\" r=\"14\"/>\n",
       "<circle clip-path=\"url(#clip1702)\" style=\"fill:#000000; stroke:none; fill-opacity:1\" cx=\"1530.78\" cy=\"852.474\" r=\"18\"/>\n",
       "<circle clip-path=\"url(#clip1702)\" style=\"fill:#009af9; stroke:none; fill-opacity:1\" cx=\"1530.78\" cy=\"852.474\" r=\"14\"/>\n",
       "<circle clip-path=\"url(#clip1702)\" style=\"fill:#000000; stroke:none; fill-opacity:1\" cx=\"1553.56\" cy=\"803.135\" r=\"18\"/>\n",
       "<circle clip-path=\"url(#clip1702)\" style=\"fill:#009af9; stroke:none; fill-opacity:1\" cx=\"1553.56\" cy=\"803.135\" r=\"14\"/>\n",
       "<circle clip-path=\"url(#clip1702)\" style=\"fill:#000000; stroke:none; fill-opacity:1\" cx=\"1576.34\" cy=\"781.642\" r=\"18\"/>\n",
       "<circle clip-path=\"url(#clip1702)\" style=\"fill:#009af9; stroke:none; fill-opacity:1\" cx=\"1576.34\" cy=\"781.642\" r=\"14\"/>\n",
       "<circle clip-path=\"url(#clip1702)\" style=\"fill:#000000; stroke:none; fill-opacity:1\" cx=\"1599.12\" cy=\"797.816\" r=\"18\"/>\n",
       "<circle clip-path=\"url(#clip1702)\" style=\"fill:#009af9; stroke:none; fill-opacity:1\" cx=\"1599.12\" cy=\"797.816\" r=\"14\"/>\n",
       "<circle clip-path=\"url(#clip1702)\" style=\"fill:#000000; stroke:none; fill-opacity:1\" cx=\"1621.9\" cy=\"739.869\" r=\"18\"/>\n",
       "<circle clip-path=\"url(#clip1702)\" style=\"fill:#009af9; stroke:none; fill-opacity:1\" cx=\"1621.9\" cy=\"739.869\" r=\"14\"/>\n",
       "<circle clip-path=\"url(#clip1702)\" style=\"fill:#000000; stroke:none; fill-opacity:1\" cx=\"1644.68\" cy=\"742.446\" r=\"18\"/>\n",
       "<circle clip-path=\"url(#clip1702)\" style=\"fill:#009af9; stroke:none; fill-opacity:1\" cx=\"1644.68\" cy=\"742.446\" r=\"14\"/>\n",
       "<circle clip-path=\"url(#clip1702)\" style=\"fill:#000000; stroke:none; fill-opacity:1\" cx=\"1667.46\" cy=\"704.478\" r=\"18\"/>\n",
       "<circle clip-path=\"url(#clip1702)\" style=\"fill:#009af9; stroke:none; fill-opacity:1\" cx=\"1667.46\" cy=\"704.478\" r=\"14\"/>\n",
       "<circle clip-path=\"url(#clip1702)\" style=\"fill:#000000; stroke:none; fill-opacity:1\" cx=\"1690.24\" cy=\"726.819\" r=\"18\"/>\n",
       "<circle clip-path=\"url(#clip1702)\" style=\"fill:#009af9; stroke:none; fill-opacity:1\" cx=\"1690.24\" cy=\"726.819\" r=\"14\"/>\n",
       "<circle clip-path=\"url(#clip1702)\" style=\"fill:#000000; stroke:none; fill-opacity:1\" cx=\"1713.02\" cy=\"717.821\" r=\"18\"/>\n",
       "<circle clip-path=\"url(#clip1702)\" style=\"fill:#009af9; stroke:none; fill-opacity:1\" cx=\"1713.02\" cy=\"717.821\" r=\"14\"/>\n",
       "<circle clip-path=\"url(#clip1702)\" style=\"fill:#000000; stroke:none; fill-opacity:1\" cx=\"1735.8\" cy=\"676.353\" r=\"18\"/>\n",
       "<circle clip-path=\"url(#clip1702)\" style=\"fill:#009af9; stroke:none; fill-opacity:1\" cx=\"1735.8\" cy=\"676.353\" r=\"14\"/>\n",
       "<circle clip-path=\"url(#clip1702)\" style=\"fill:#000000; stroke:none; fill-opacity:1\" cx=\"1758.58\" cy=\"675.765\" r=\"18\"/>\n",
       "<circle clip-path=\"url(#clip1702)\" style=\"fill:#009af9; stroke:none; fill-opacity:1\" cx=\"1758.58\" cy=\"675.765\" r=\"14\"/>\n",
       "<circle clip-path=\"url(#clip1702)\" style=\"fill:#000000; stroke:none; fill-opacity:1\" cx=\"1781.37\" cy=\"610.44\" r=\"18\"/>\n",
       "<circle clip-path=\"url(#clip1702)\" style=\"fill:#009af9; stroke:none; fill-opacity:1\" cx=\"1781.37\" cy=\"610.44\" r=\"14\"/>\n",
       "<circle clip-path=\"url(#clip1702)\" style=\"fill:#000000; stroke:none; fill-opacity:1\" cx=\"1804.15\" cy=\"593.633\" r=\"18\"/>\n",
       "<circle clip-path=\"url(#clip1702)\" style=\"fill:#009af9; stroke:none; fill-opacity:1\" cx=\"1804.15\" cy=\"593.633\" r=\"14\"/>\n",
       "<circle clip-path=\"url(#clip1702)\" style=\"fill:#000000; stroke:none; fill-opacity:1\" cx=\"1826.93\" cy=\"566.911\" r=\"18\"/>\n",
       "<circle clip-path=\"url(#clip1702)\" style=\"fill:#009af9; stroke:none; fill-opacity:1\" cx=\"1826.93\" cy=\"566.911\" r=\"14\"/>\n",
       "<circle clip-path=\"url(#clip1702)\" style=\"fill:#000000; stroke:none; fill-opacity:1\" cx=\"1849.71\" cy=\"529.999\" r=\"18\"/>\n",
       "<circle clip-path=\"url(#clip1702)\" style=\"fill:#009af9; stroke:none; fill-opacity:1\" cx=\"1849.71\" cy=\"529.999\" r=\"14\"/>\n",
       "<circle clip-path=\"url(#clip1702)\" style=\"fill:#000000; stroke:none; fill-opacity:1\" cx=\"1872.49\" cy=\"542.606\" r=\"18\"/>\n",
       "<circle clip-path=\"url(#clip1702)\" style=\"fill:#009af9; stroke:none; fill-opacity:1\" cx=\"1872.49\" cy=\"542.606\" r=\"14\"/>\n",
       "<circle clip-path=\"url(#clip1702)\" style=\"fill:#000000; stroke:none; fill-opacity:1\" cx=\"1895.27\" cy=\"511.412\" r=\"18\"/>\n",
       "<circle clip-path=\"url(#clip1702)\" style=\"fill:#009af9; stroke:none; fill-opacity:1\" cx=\"1895.27\" cy=\"511.412\" r=\"14\"/>\n",
       "<circle clip-path=\"url(#clip1702)\" style=\"fill:#000000; stroke:none; fill-opacity:1\" cx=\"1918.05\" cy=\"496.455\" r=\"18\"/>\n",
       "<circle clip-path=\"url(#clip1702)\" style=\"fill:#009af9; stroke:none; fill-opacity:1\" cx=\"1918.05\" cy=\"496.455\" r=\"14\"/>\n",
       "<circle clip-path=\"url(#clip1702)\" style=\"fill:#000000; stroke:none; fill-opacity:1\" cx=\"1940.83\" cy=\"495.161\" r=\"18\"/>\n",
       "<circle clip-path=\"url(#clip1702)\" style=\"fill:#009af9; stroke:none; fill-opacity:1\" cx=\"1940.83\" cy=\"495.161\" r=\"14\"/>\n",
       "<circle clip-path=\"url(#clip1702)\" style=\"fill:#000000; stroke:none; fill-opacity:1\" cx=\"1963.61\" cy=\"419.208\" r=\"18\"/>\n",
       "<circle clip-path=\"url(#clip1702)\" style=\"fill:#009af9; stroke:none; fill-opacity:1\" cx=\"1963.61\" cy=\"419.208\" r=\"14\"/>\n",
       "<circle clip-path=\"url(#clip1702)\" style=\"fill:#000000; stroke:none; fill-opacity:1\" cx=\"1986.39\" cy=\"436.162\" r=\"18\"/>\n",
       "<circle clip-path=\"url(#clip1702)\" style=\"fill:#009af9; stroke:none; fill-opacity:1\" cx=\"1986.39\" cy=\"436.162\" r=\"14\"/>\n",
       "<circle clip-path=\"url(#clip1702)\" style=\"fill:#000000; stroke:none; fill-opacity:1\" cx=\"2009.17\" cy=\"393.306\" r=\"18\"/>\n",
       "<circle clip-path=\"url(#clip1702)\" style=\"fill:#009af9; stroke:none; fill-opacity:1\" cx=\"2009.17\" cy=\"393.306\" r=\"14\"/>\n",
       "<circle clip-path=\"url(#clip1702)\" style=\"fill:#000000; stroke:none; fill-opacity:1\" cx=\"2031.95\" cy=\"373.872\" r=\"18\"/>\n",
       "<circle clip-path=\"url(#clip1702)\" style=\"fill:#009af9; stroke:none; fill-opacity:1\" cx=\"2031.95\" cy=\"373.872\" r=\"14\"/>\n",
       "<circle clip-path=\"url(#clip1702)\" style=\"fill:#000000; stroke:none; fill-opacity:1\" cx=\"2054.73\" cy=\"356.224\" r=\"18\"/>\n",
       "<circle clip-path=\"url(#clip1702)\" style=\"fill:#009af9; stroke:none; fill-opacity:1\" cx=\"2054.73\" cy=\"356.224\" r=\"14\"/>\n",
       "<circle clip-path=\"url(#clip1702)\" style=\"fill:#000000; stroke:none; fill-opacity:1\" cx=\"2077.51\" cy=\"304.145\" r=\"18\"/>\n",
       "<circle clip-path=\"url(#clip1702)\" style=\"fill:#009af9; stroke:none; fill-opacity:1\" cx=\"2077.51\" cy=\"304.145\" r=\"14\"/>\n",
       "<circle clip-path=\"url(#clip1702)\" style=\"fill:#000000; stroke:none; fill-opacity:1\" cx=\"2100.29\" cy=\"297.318\" r=\"18\"/>\n",
       "<circle clip-path=\"url(#clip1702)\" style=\"fill:#009af9; stroke:none; fill-opacity:1\" cx=\"2100.29\" cy=\"297.318\" r=\"14\"/>\n",
       "<circle clip-path=\"url(#clip1702)\" style=\"fill:#000000; stroke:none; fill-opacity:1\" cx=\"2123.07\" cy=\"294.701\" r=\"18\"/>\n",
       "<circle clip-path=\"url(#clip1702)\" style=\"fill:#009af9; stroke:none; fill-opacity:1\" cx=\"2123.07\" cy=\"294.701\" r=\"14\"/>\n",
       "<circle clip-path=\"url(#clip1702)\" style=\"fill:#000000; stroke:none; fill-opacity:1\" cx=\"2145.85\" cy=\"272.358\" r=\"18\"/>\n",
       "<circle clip-path=\"url(#clip1702)\" style=\"fill:#009af9; stroke:none; fill-opacity:1\" cx=\"2145.85\" cy=\"272.358\" r=\"14\"/>\n",
       "<circle clip-path=\"url(#clip1702)\" style=\"fill:#000000; stroke:none; fill-opacity:1\" cx=\"2168.63\" cy=\"216.948\" r=\"18\"/>\n",
       "<circle clip-path=\"url(#clip1702)\" style=\"fill:#009af9; stroke:none; fill-opacity:1\" cx=\"2168.63\" cy=\"216.948\" r=\"14\"/>\n",
       "<circle clip-path=\"url(#clip1702)\" style=\"fill:#000000; stroke:none; fill-opacity:1\" cx=\"2191.41\" cy=\"194.478\" r=\"18\"/>\n",
       "<circle clip-path=\"url(#clip1702)\" style=\"fill:#009af9; stroke:none; fill-opacity:1\" cx=\"2191.41\" cy=\"194.478\" r=\"14\"/>\n",
       "<circle clip-path=\"url(#clip1702)\" style=\"fill:#000000; stroke:none; fill-opacity:1\" cx=\"2214.19\" cy=\"192.566\" r=\"18\"/>\n",
       "<circle clip-path=\"url(#clip1702)\" style=\"fill:#009af9; stroke:none; fill-opacity:1\" cx=\"2214.19\" cy=\"192.566\" r=\"14\"/>\n",
       "<circle clip-path=\"url(#clip1702)\" style=\"fill:#000000; stroke:none; fill-opacity:1\" cx=\"2236.97\" cy=\"155.43\" r=\"18\"/>\n",
       "<circle clip-path=\"url(#clip1702)\" style=\"fill:#009af9; stroke:none; fill-opacity:1\" cx=\"2236.97\" cy=\"155.43\" r=\"14\"/>\n",
       "<circle clip-path=\"url(#clip1702)\" style=\"fill:#000000; stroke:none; fill-opacity:1\" cx=\"2259.75\" cy=\"88.4582\" r=\"18\"/>\n",
       "<circle clip-path=\"url(#clip1702)\" style=\"fill:#009af9; stroke:none; fill-opacity:1\" cx=\"2259.75\" cy=\"88.4582\" r=\"14\"/>\n",
       "<polyline clip-path=\"url(#clip1702)\" style=\"stroke:#e26f46; stroke-width:4; stroke-opacity:1; fill:none\" points=\"\n",
       "  209.52,1449.29 232.3,1446.5 255.081,1443.43 277.861,1440.09 300.641,1436.46 323.422,1432.56 346.202,1428.38 368.982,1423.92 391.763,1419.18 414.543,1414.16 \n",
       "  437.324,1408.87 460.104,1403.31 482.884,1397.46 505.665,1391.34 528.445,1384.95 551.225,1378.28 574.006,1371.34 596.786,1364.12 619.566,1356.63 642.347,1348.86 \n",
       "  665.127,1340.83 687.908,1332.52 710.688,1323.93 733.468,1315.08 756.249,1305.95 779.029,1296.56 801.809,1286.89 824.59,1276.95 847.37,1266.75 870.15,1256.27 \n",
       "  892.931,1245.52 915.711,1234.51 938.492,1223.22 961.272,1211.67 984.052,1199.85 1006.83,1187.77 1029.61,1175.41 1052.39,1162.79 1075.17,1149.91 1097.95,1136.76 \n",
       "  1120.73,1123.34 1143.51,1109.66 1166.3,1095.71 1189.08,1081.5 1211.86,1067.03 1234.64,1052.29 1257.42,1037.29 1280.2,1022.02 1302.98,1006.5 1325.76,990.711 \n",
       "  1348.54,974.661 1371.32,958.35 1394.1,941.778 1416.88,924.946 1439.66,907.854 1462.44,890.502 1485.22,872.891 1508,855.021 1530.78,836.892 1553.56,818.505 \n",
       "  1576.34,799.86 1599.12,780.958 1621.9,761.799 1644.68,742.383 1667.46,722.711 1690.24,702.783 1713.02,682.599 1735.8,662.161 1758.58,641.467 1781.37,620.519 \n",
       "  1804.15,599.317 1826.93,577.862 1849.71,556.153 1872.49,534.191 1895.27,511.977 1918.05,489.511 1940.83,466.793 1963.61,443.824 1986.39,420.603 2009.17,397.132 \n",
       "  2031.95,373.411 2054.73,349.44 2077.51,325.219 2100.29,300.75 2123.07,276.031 2145.85,251.065 2168.63,225.85 2191.41,200.388 2214.19,174.678 2236.97,148.722 \n",
       "  2259.75,122.519 \n",
       "  \"/>\n",
       "<polygon clip-path=\"url(#clip1700)\" points=\"\n",
       "1958.43,312.204 2249.26,312.204 2249.26,130.764 1958.43,130.764 \n",
       "  \" fill=\"#ffffff\" fill-rule=\"evenodd\" fill-opacity=\"1\"/>\n",
       "<polyline clip-path=\"url(#clip1700)\" style=\"stroke:#000000; stroke-width:4; stroke-opacity:1; fill:none\" points=\"\n",
       "  1958.43,312.204 2249.26,312.204 2249.26,130.764 1958.43,130.764 1958.43,312.204 \n",
       "  \"/>\n",
       "<circle clip-path=\"url(#clip1700)\" style=\"fill:#000000; stroke:none; fill-opacity:1\" cx=\"2066.43\" cy=\"191.244\" r=\"25\"/>\n",
       "<circle clip-path=\"url(#clip1700)\" style=\"fill:#009af9; stroke:none; fill-opacity:1\" cx=\"2066.43\" cy=\"191.244\" r=\"21\"/>\n",
       "<g clip-path=\"url(#clip1700)\">\n",
       "<text style=\"fill:#000000; fill-opacity:1; font-family:Arial,Helvetica Neue,Helvetica,sans-serif; font-size:48px; text-anchor:start;\" transform=\"rotate(0, 2150.43, 208.744)\" x=\"2150.43\" y=\"208.744\">y1</text>\n",
       "</g>\n",
       "<polyline clip-path=\"url(#clip1700)\" style=\"stroke:#e26f46; stroke-width:4; stroke-opacity:1; fill:none\" points=\"\n",
       "  1982.43,251.724 2126.43,251.724 \n",
       "  \"/>\n",
       "<g clip-path=\"url(#clip1700)\">\n",
       "<text style=\"fill:#000000; fill-opacity:1; font-family:Arial,Helvetica Neue,Helvetica,sans-serif; font-size:48px; text-anchor:start;\" transform=\"rotate(0, 2150.43, 269.224)\" x=\"2150.43\" y=\"269.224\">y2</text>\n",
       "</g>\n",
       "</svg>\n"
      ]
     },
     "execution_count": 33,
     "metadata": {},
     "output_type": "execute_result"
    }
   ],
   "source": [
    "scatter(dat_x',dat_y')\n",
    "plot!(dat_x',f(dat_x,P)')"
   ]
  },
  {
   "cell_type": "markdown",
   "metadata": {},
   "source": [
    "## Why do we want to do this?\n"
   ]
  },
  {
   "cell_type": "code",
   "execution_count": 14,
   "metadata": {},
   "outputs": [],
   "source": [
    "using StaticArrays"
   ]
  },
  {
   "cell_type": "code",
   "execution_count": 15,
   "metadata": {},
   "outputs": [
    {
     "data": {
      "text/plain": [
       "4-element SArray{Tuple{4},Float64,1,4}:\n",
       " 0.6253444358890872 \n",
       " 0.5068956962124429 \n",
       " 0.15361067090099456\n",
       " 0.37969059161710894"
      ]
     },
     "execution_count": 15,
     "metadata": {},
     "output_type": "execute_result"
    }
   ],
   "source": [
    "const ps = SVector(P0...)"
   ]
  },
  {
   "cell_type": "code",
   "execution_count": 16,
   "metadata": {},
   "outputs": [
    {
     "data": {
      "text/plain": [
       "f_frz (generic function with 1 method)"
      ]
     },
     "execution_count": 16,
     "metadata": {},
     "output_type": "execute_result"
    }
   ],
   "source": [
    "@eval f_frz(x::AbstractArray) = f(x,$ps)"
   ]
  },
  {
   "cell_type": "code",
   "execution_count": 17,
   "metadata": {},
   "outputs": [
    {
     "name": "stdout",
     "output_type": "stream",
     "text": [
      "\n",
      ";  @ In[16]:1 within `f_frz'\n",
      "define nonnull %jl_value_t addrspace(10)* @japi1_f_frz_14186(%jl_value_t addrspace(10)*, %jl_value_t addrspace(10)**, i32) #0 {\n",
      "top:\n",
      "  %3 = alloca %jl_value_t addrspace(10)*, i32 4\n",
      "  %gcframe = alloca %jl_value_t addrspace(10)*, i32 4\n",
      "  %4 = bitcast %jl_value_t addrspace(10)** %gcframe to i8*\n",
      "  call void @llvm.memset.p0i8.i32(i8* %4, i8 0, i32 32, i32 0, i1 false)\n",
      "  %5 = alloca %jl_value_t addrspace(10)**, align 8\n",
      "  store volatile %jl_value_t addrspace(10)** %1, %jl_value_t addrspace(10)*** %5, align 8\n",
      "  %6 = call %jl_value_t*** inttoptr (i64 4467308192 to %jl_value_t*** ()*)() #3\n",
      "  %7 = getelementptr %jl_value_t addrspace(10)*, %jl_value_t addrspace(10)** %gcframe, i32 0\n",
      "  %8 = bitcast %jl_value_t addrspace(10)** %7 to i64*\n",
      "  store i64 4, i64* %8\n",
      "  %9 = getelementptr %jl_value_t**, %jl_value_t*** %6, i32 0\n",
      "  %10 = load %jl_value_t**, %jl_value_t*** %9\n",
      "  %11 = getelementptr %jl_value_t addrspace(10)*, %jl_value_t addrspace(10)** %gcframe, i32 1\n",
      "  %12 = bitcast %jl_value_t addrspace(10)** %11 to %jl_value_t***\n",
      "  store %jl_value_t** %10, %jl_value_t*** %12\n",
      "  %13 = bitcast %jl_value_t*** %9 to %jl_value_t addrspace(10)***\n",
      "  store %jl_value_t addrspace(10)** %gcframe, %jl_value_t addrspace(10)*** %13\n",
      "  %14 = load %jl_value_t addrspace(10)*, %jl_value_t addrspace(10)** %1, align 8\n",
      "; ┌ @ In[3]:3 within `f'\n",
      "; │┌ @ abstractarray.jl:927 within `getindex'\n",
      "; ││┌ @ multidimensional.jl:642 within `_getindex'\n",
      "     %15 = call nonnull %jl_value_t addrspace(10)* @julia__unsafe_getindex_14187({ [4 x double] } addrspace(11)* nocapture readonly addrspacecast ({ [4 x double] }* @0 to { [4 x double] } addrspace(11)*), { i64, i64 } addrspace(11)* nocapture readonly addrspacecast ({ i64, i64 }* @1 to { i64, i64 } addrspace(11)*))\n",
      "; │└└\n",
      "   %16 = load %jl_value_t addrspace(10)*, %jl_value_t addrspace(10)** inttoptr (i64 4980917688 to %jl_value_t addrspace(10)**), align 8\n",
      "   %17 = getelementptr %jl_value_t addrspace(10)*, %jl_value_t addrspace(10)** %gcframe, i32 3\n",
      "   store %jl_value_t addrspace(10)* %15, %jl_value_t addrspace(10)** %17\n",
      "   %18 = getelementptr %jl_value_t addrspace(10)*, %jl_value_t addrspace(10)** %gcframe, i32 2\n",
      "   store %jl_value_t addrspace(10)* %16, %jl_value_t addrspace(10)** %18\n",
      "   %19 = getelementptr %jl_value_t addrspace(10)*, %jl_value_t addrspace(10)** %3, i32 0\n",
      "   store %jl_value_t addrspace(10)* %16, %jl_value_t addrspace(10)** %19\n",
      "   %20 = getelementptr %jl_value_t addrspace(10)*, %jl_value_t addrspace(10)** %3, i32 1\n",
      "   store %jl_value_t addrspace(10)* %14, %jl_value_t addrspace(10)** %20\n",
      "   %21 = call nonnull %jl_value_t addrspace(10)* @jl_apply_generic(%jl_value_t addrspace(10)** %3, i32 2)\n",
      "   %22 = getelementptr %jl_value_t addrspace(10)*, %jl_value_t addrspace(10)** %gcframe, i32 2\n",
      "   store %jl_value_t addrspace(10)* %21, %jl_value_t addrspace(10)** %22\n",
      "   %23 = getelementptr %jl_value_t addrspace(10)*, %jl_value_t addrspace(10)** %3, i32 0\n",
      "   store %jl_value_t addrspace(10)* addrspacecast (%jl_value_t* inttoptr (i64 4587611024 to %jl_value_t*) to %jl_value_t addrspace(10)*), %jl_value_t addrspace(10)** %23\n",
      "   %24 = getelementptr %jl_value_t addrspace(10)*, %jl_value_t addrspace(10)** %3, i32 1\n",
      "   store %jl_value_t addrspace(10)* addrspacecast (%jl_value_t* inttoptr (i64 4590840688 to %jl_value_t*) to %jl_value_t addrspace(10)*), %jl_value_t addrspace(10)** %24\n",
      "   %25 = getelementptr %jl_value_t addrspace(10)*, %jl_value_t addrspace(10)** %3, i32 2\n",
      "   store %jl_value_t addrspace(10)* %15, %jl_value_t addrspace(10)** %25\n",
      "   %26 = getelementptr %jl_value_t addrspace(10)*, %jl_value_t addrspace(10)** %3, i32 3\n",
      "   store %jl_value_t addrspace(10)* %21, %jl_value_t addrspace(10)** %26\n",
      "   %27 = call nonnull %jl_value_t addrspace(10)* @jl_apply_generic(%jl_value_t addrspace(10)** %3, i32 4)\n",
      "   %28 = getelementptr %jl_value_t addrspace(10)*, %jl_value_t addrspace(10)** %gcframe, i32 2\n",
      "   store %jl_value_t addrspace(10)* %27, %jl_value_t addrspace(10)** %28\n",
      "   %29 = getelementptr %jl_value_t addrspace(10)*, %jl_value_t addrspace(10)** %3, i32 0\n",
      "   store %jl_value_t addrspace(10)* addrspacecast (%jl_value_t* inttoptr (i64 4587611024 to %jl_value_t*) to %jl_value_t addrspace(10)*), %jl_value_t addrspace(10)** %29\n",
      "   %30 = getelementptr %jl_value_t addrspace(10)*, %jl_value_t addrspace(10)** %3, i32 1\n",
      "   store %jl_value_t addrspace(10)* addrspacecast (%jl_value_t* inttoptr (i64 4586017488 to %jl_value_t*) to %jl_value_t addrspace(10)*), %jl_value_t addrspace(10)** %30\n",
      "   %31 = getelementptr %jl_value_t addrspace(10)*, %jl_value_t addrspace(10)** %3, i32 2\n",
      "   store %jl_value_t addrspace(10)* %27, %jl_value_t addrspace(10)** %31\n",
      "   %32 = getelementptr %jl_value_t addrspace(10)*, %jl_value_t addrspace(10)** %3, i32 3\n",
      "   store %jl_value_t addrspace(10)* addrspacecast (%jl_value_t* inttoptr (i64 4995685744 to %jl_value_t*) to %jl_value_t addrspace(10)*), %jl_value_t addrspace(10)** %32\n",
      "   %33 = call nonnull %jl_value_t addrspace(10)* @jl_apply_generic(%jl_value_t addrspace(10)** %3, i32 4)\n",
      "   %34 = getelementptr %jl_value_t addrspace(10)*, %jl_value_t addrspace(10)** %gcframe, i32 2\n",
      "   store %jl_value_t addrspace(10)* %33, %jl_value_t addrspace(10)** %34\n",
      "   %35 = getelementptr %jl_value_t addrspace(10)*, %jl_value_t addrspace(10)** %3, i32 0\n",
      "   store %jl_value_t addrspace(10)* addrspacecast (%jl_value_t* inttoptr (i64 4599516736 to %jl_value_t*) to %jl_value_t addrspace(10)*), %jl_value_t addrspace(10)** %35\n",
      "   %36 = getelementptr %jl_value_t addrspace(10)*, %jl_value_t addrspace(10)** %3, i32 1\n",
      "   store %jl_value_t addrspace(10)* %33, %jl_value_t addrspace(10)** %36\n",
      "   %37 = call nonnull %jl_value_t addrspace(10)* @jl_apply_generic(%jl_value_t addrspace(10)** %3, i32 2)\n",
      "; └\n",
      "  %38 = getelementptr %jl_value_t addrspace(10)*, %jl_value_t addrspace(10)** %gcframe, i32 1\n",
      "  %39 = load %jl_value_t addrspace(10)*, %jl_value_t addrspace(10)** %38\n",
      "  %40 = getelementptr %jl_value_t**, %jl_value_t*** %6, i32 0\n",
      "  %41 = bitcast %jl_value_t*** %40 to %jl_value_t addrspace(10)**\n",
      "  store %jl_value_t addrspace(10)* %39, %jl_value_t addrspace(10)** %41\n",
      "  ret %jl_value_t addrspace(10)* %37\n",
      "}\n"
     ]
    }
   ],
   "source": [
    "@code_llvm f_frz([1.0])"
   ]
  },
  {
   "cell_type": "code",
   "execution_count": 18,
   "metadata": {},
   "outputs": [
    {
     "data": {
      "text/plain": [
       "4-element Array{Float64,1}:\n",
       " 0.7549516562267077  \n",
       " 0.10014133684744914 \n",
       " 0.011626471851131387\n",
       " 5.2438205089705106  "
      ]
     },
     "execution_count": 18,
     "metadata": {},
     "output_type": "execute_result"
    }
   ],
   "source": [
    "pf=reshape(P,(:,))"
   ]
  },
  {
   "cell_type": "code",
   "execution_count": 19,
   "metadata": {},
   "outputs": [],
   "source": [
    "@inline g(x::Real,P::StaticArray) = P[1:3].*poly(x).+P[4];"
   ]
  },
  {
   "cell_type": "code",
   "execution_count": 20,
   "metadata": {},
   "outputs": [
    {
     "data": {
      "text/plain": [
       "CodeInfo(\n",
       "\u001b[90m1 ─\u001b[39m      nothing\n",
       "\u001b[90m│  \u001b[39m %2 = 1:3\n",
       "\u001b[90m│  \u001b[39m %3 = (Base.getindex)(P, %2)\n",
       "\u001b[90m│  \u001b[39m %4 = (Main.poly)(x)\n",
       "\u001b[90m│  \u001b[39m %5 = (Base.broadcasted)(Main.:*, %3, %4)\n",
       "\u001b[90m│  \u001b[39m %6 = (Base.getindex)(P, 4)\n",
       "\u001b[90m│  \u001b[39m %7 = (Base.broadcasted)(Main.:+, %5, %6)\n",
       "\u001b[90m│  \u001b[39m %8 = (Base.materialize)(%7)\n",
       "\u001b[90m└──\u001b[39m      return %8\n",
       ")"
      ]
     },
     "execution_count": 20,
     "metadata": {},
     "output_type": "execute_result"
    }
   ],
   "source": [
    "@code_lowered g(1.0,:($ps))"
   ]
  },
  {
   "cell_type": "code",
   "execution_count": 21,
   "metadata": {},
   "outputs": [
    {
     "data": {
      "text/plain": [
       "3-element Array{Float64,1}:\n",
       " 1.005035027506196 \n",
       " 0.8865862878295518\n",
       " 0.5333012625181035"
      ]
     },
     "execution_count": 21,
     "metadata": {},
     "output_type": "execute_result"
    }
   ],
   "source": [
    " g(1.0,ps)"
   ]
  },
  {
   "cell_type": "markdown",
   "metadata": {},
   "source": [
    "## Which way do we want to go?\n",
    "\n",
    "Ideally, we would want to backward differentiate the loss because it's more efficient when $N_{outputs} \\ll N_{inputs}$. I'm note sure which algorithm would be better for the derivative of the gradient; probably forward differentiation. However, Zygote still has trouble forward differentiating something that was backward differentiated:"
   ]
  },
  {
   "cell_type": "code",
   "execution_count": 22,
   "metadata": {},
   "outputs": [
    {
     "ename": "MethodError",
     "evalue": "MethodError: no method matching (::Zygote.Jnew{ForwardDiff.Dual{Nothing,Float64,4},Nothing,false})(::ForwardDiff.Dual{Nothing,Float64,4})\nClosest candidates are:\n  Jnew(!Matched::Union{Nothing, RefValue, NamedTuple}) where {T, G} at /Users/afq/.julia/packages/Zygote/p7pxY/src/lib/lib.jl:218",
     "output_type": "error",
     "traceback": [
      "MethodError: no method matching (::Zygote.Jnew{ForwardDiff.Dual{Nothing,Float64,4},Nothing,false})(::ForwardDiff.Dual{Nothing,Float64,4})\nClosest candidates are:\n  Jnew(!Matched::Union{Nothing, RefValue, NamedTuple}) where {T, G} at /Users/afq/.julia/packages/Zygote/p7pxY/src/lib/lib.jl:218",
      "",
      "Stacktrace:",
      " [1] (::getfield(Zygote, Symbol(\"##351#back#187\")){Zygote.Jnew{ForwardDiff.Dual{Nothing,Float64,4},Nothing,false}})(::ForwardDiff.Dual{Nothing,Float64,4}) at /Users/afq/.julia/packages/Zygote/p7pxY/src/lib/grad.jl:46",
      " [2] Type at /Users/afq/.julia/packages/ForwardDiff/N0wMF/src/dual.jl:19 [inlined]",
      " [3] (::typeof(∂(ForwardDiff.Dual{Nothing,Float64,4})))(::ForwardDiff.Dual{Nothing,Float64,4}) at /Users/afq/.julia/packages/Zygote/p7pxY/src/compiler/interface2.jl:0",
      " [4] Type at /Users/afq/.julia/packages/ForwardDiff/N0wMF/src/dual.jl:55 [inlined]",
      " [5] literal_pow at /Users/afq/.julia/packages/ForwardDiff/N0wMF/src/dual.jl:477 [inlined]",
      " [6] (::getfield(Zygote, Symbol(\"##1052#1059\")))(::typeof(∂(Base.literal_pow)), ::ForwardDiff.Dual{Nothing,Float64,4}) at /Users/afq/.julia/packages/Zygote/p7pxY/src/lib/broadcast.jl:86",
      " [7] iterate at ./generator.jl:36 [inlined]",
      " [8] collect(::Base.Generator{Base.Iterators.Zip{Tuple{Array{typeof(∂(Base.literal_pow)),2},Zygote.FillArray{ForwardDiff.Dual{Nothing,Float64,4},2}}},getfield(Base, Symbol(\"##3#4\")){getfield(Zygote, Symbol(\"##1052#1059\"))}}) at ./array.jl:606",
      " [9] map at ./abstractarray.jl:2091 [inlined]",
      " [10] (::getfield(Zygote, Symbol(\"##1051#1058\")){Tuple{Base.RefValue{typeof(^)},Array{ForwardDiff.Dual{Nothing,Float64,4},2},Base.RefValue{Val{2}}},Val{4},Array{typeof(∂(Base.literal_pow)),2}})(::Zygote.FillArray{ForwardDiff.Dual{Nothing,Float64,4},2}) at /Users/afq/.julia/packages/Zygote/p7pxY/src/lib/broadcast.jl:86",
      " [11] (::getfield(Zygote, Symbol(\"##3020#back#1062\")){getfield(Zygote, Symbol(\"##1051#1058\")){Tuple{Base.RefValue{typeof(^)},Array{ForwardDiff.Dual{Nothing,Float64,4},2},Base.RefValue{Val{2}}},Val{4},Array{typeof(∂(Base.literal_pow)),2}}})(::Zygote.FillArray{ForwardDiff.Dual{Nothing,Float64,4},2}) at /Users/afq/.julia/packages/Zygote/p7pxY/src/lib/grad.jl:46",
      " [12] (::getfield(Zygote, Symbol(\"##201#202\")){Zygote.Context,Tuple{Nothing,Nothing,Nothing,Nothing,Zygote.Key,Nothing},Zygote.Key,getfield(Zygote, Symbol(\"##3020#back#1062\")){getfield(Zygote, Symbol(\"##1051#1058\")){Tuple{Base.RefValue{typeof(^)},Array{ForwardDiff.Dual{Nothing,Float64,4},2},Base.RefValue{Val{2}}},Val{4},Array{typeof(∂(Base.literal_pow)),2}}}})(::Zygote.FillArray{ForwardDiff.Dual{Nothing,Float64,4},2}) at /Users/afq/.julia/packages/Zygote/p7pxY/src/lib/lib.jl:270",
      " [13] (::getfield(Zygote, Symbol(\"##164#165\")){getfield(Zygote, Symbol(\"##201#202\")){Zygote.Context,Tuple{Nothing,Nothing,Nothing,Nothing,Zygote.Key,Nothing},Zygote.Key,getfield(Zygote, Symbol(\"##3020#back#1062\")){getfield(Zygote, Symbol(\"##1051#1058\")){Tuple{Base.RefValue{typeof(^)},Array{ForwardDiff.Dual{Nothing,Float64,4},2},Base.RefValue{Val{2}}},Val{4},Array{typeof(∂(Base.literal_pow)),2}}}},Tuple{NTuple{4,Nothing},Tuple{Nothing}}})(::Zygote.FillArray{ForwardDiff.Dual{Nothing,Float64,4},2}) at /Users/afq/.julia/packages/Zygote/p7pxY/src/lib/lib.jl:109",
      " [14] (::getfield(Zygote, Symbol(\"##296#back#166\")){getfield(Zygote, Symbol(\"##164#165\")){getfield(Zygote, Symbol(\"##201#202\")){Zygote.Context,Tuple{Nothing,Nothing,Nothing,Nothing,Zygote.Key,Nothing},Zygote.Key,getfield(Zygote, Symbol(\"##3020#back#1062\")){getfield(Zygote, Symbol(\"##1051#1058\")){Tuple{Base.RefValue{typeof(^)},Array{ForwardDiff.Dual{Nothing,Float64,4},2},Base.RefValue{Val{2}}},Val{4},Array{typeof(∂(Base.literal_pow)),2}}}},Tuple{NTuple{4,Nothing},Tuple{Nothing}}}})(::Zygote.FillArray{ForwardDiff.Dual{Nothing,Float64,4},2}) at /Users/afq/.julia/packages/Zygote/p7pxY/src/lib/grad.jl:46",
      " [15] (::getfield(Zygote, Symbol(\"##201#202\")){Zygote.Context,NTuple{4,Nothing},Zygote.Key,getfield(Zygote, Symbol(\"##296#back#166\")){getfield(Zygote, Symbol(\"##164#165\")){getfield(Zygote, Symbol(\"##201#202\")){Zygote.Context,Tuple{Nothing,Nothing,Nothing,Nothing,Zygote.Key,Nothing},Zygote.Key,getfield(Zygote, Symbol(\"##3020#back#1062\")){getfield(Zygote, Symbol(\"##1051#1058\")){Tuple{Base.RefValue{typeof(^)},Array{ForwardDiff.Dual{Nothing,Float64,4},2},Base.RefValue{Val{2}}},Val{4},Array{typeof(∂(Base.literal_pow)),2}}}},Tuple{NTuple{4,Nothing},Tuple{Nothing}}}}})(::Nothing) at /Users/afq/.julia/packages/Zygote/p7pxY/src/lib/lib.jl:270",
      " [16] broadcasted at ./broadcast.jl:1167 [inlined]",
      " [17] mse at /Users/afq/.julia/packages/Flux/lz7S9/src/layers/stateless.jl:5 [inlined]",
      " [18] (::typeof(∂(Flux.mse)))(::ForwardDiff.Dual{Nothing,Float64,4}) at /Users/afq/.julia/packages/Zygote/p7pxY/src/compiler/interface2.jl:0",
      " [19] loss at ./In[6]:2 [inlined]",
      " [20] (::typeof(∂(loss)))(::ForwardDiff.Dual{Nothing,Float64,4}) at /Users/afq/.julia/packages/Zygote/p7pxY/src/compiler/interface2.jl:0",
      " [21] #5 at ./In[22]:1 [inlined]",
      " [22] (::typeof(∂(getfield(Main, Symbol(\"##5#6\"))())))(::ForwardDiff.Dual{Nothing,Float64,4}) at /Users/afq/.julia/packages/Zygote/p7pxY/src/compiler/interface2.jl:0",
      " [23] (::getfield(Zygote, Symbol(\"##71#72\")){Zygote.Context,Tuple{Nothing,Zygote.Key},typeof(∂(getfield(Main, Symbol(\"##5#6\"))()))})(::ForwardDiff.Dual{Nothing,Float64,4}) at /Users/afq/.julia/packages/Zygote/p7pxY/src/compiler/interface.jl:44",
      " [24] (::getfield(Zygote, Symbol(\"##73#74\")){getfield(Zygote, Symbol(\"##71#72\")){Zygote.Context,Tuple{Nothing,Zygote.Key},typeof(∂(getfield(Main, Symbol(\"##5#6\"))()))}})(::ForwardDiff.Dual{Nothing,Float64,4}) at /Users/afq/.julia/packages/Zygote/p7pxY/src/compiler/interface.jl:52",
      " [25] gradient(::Function, ::Array{ForwardDiff.Dual{Nothing,Float64,4},1}) at /Users/afq/.julia/packages/Zygote/p7pxY/src/compiler/interface.jl:61",
      " [26] (::getfield(Zygote, Symbol(\"##1086#1087\")){getfield(Main, Symbol(\"##5#6\"))})(::Array{ForwardDiff.Dual{Nothing,Float64,4},1}) at /Users/afq/.julia/packages/Zygote/p7pxY/src/lib/utils.jl:12",
      " [27] forward_jacobian(::getfield(Zygote, Symbol(\"##1086#1087\")){getfield(Main, Symbol(\"##5#6\"))}, ::Array{Float64,1}, ::Val{4}) at /Users/afq/.julia/packages/Zygote/p7pxY/src/lib/forward.jl:23",
      " [28] forward_jacobian(::Function, ::Array{Float64,1}) at /Users/afq/.julia/packages/Zygote/p7pxY/src/lib/forward.jl:38",
      " [29] hessian(::Function, ::Array{Float64,1}) at /Users/afq/.julia/packages/Zygote/p7pxY/src/lib/utils.jl:12",
      " [30] top-level scope at In[22]:1"
     ]
    }
   ],
   "source": [
    "Zygote.hessian( (P->loss(dat_x,dat_y, P)), P0 )"
   ]
  }
 ],
 "metadata": {
  "kernelspec": {
   "display_name": "Julia 1.1.0",
   "language": "julia",
   "name": "julia-1.1"
  },
  "language_info": {
   "file_extension": ".jl",
   "mimetype": "application/julia",
   "name": "julia",
   "version": "1.1.0"
  }
 },
 "nbformat": 4,
 "nbformat_minor": 2
}
