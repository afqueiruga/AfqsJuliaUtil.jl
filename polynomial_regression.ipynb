{
 "cells": [
  {
   "cell_type": "markdown",
   "metadata": {},
   "source": [
    "# Polynomial Regression with Flux/Zygote\n",
    "\n",
    "Chapter 1 of any machine learning book always has a short paragraph on linear regression.\n",
    "\n",
    "Toolkits of the like of TensorFlow or Flux are useful in their ability to perform complex derivatives and orchestrate training algorithms on complex nonlinear and deep models. However, the focus nowadays is on optimizing the hottest neural network with minibatched stochastic gradient descent, which is usually only one chapter of an ML textbook. There are plently more classes of models that this programming approach can help us perform and develop. It's important that any automatic ML/Deep Learning package be able to derive these simple models. We can take the hard work out of deriving and implementing newer non-neural network models too.\n",
    "\n",
    "A linear model is fit by:\n",
    "\\begin{equation}\n",
    "f(x) = W basis(x) + b\n",
    "\\end{equation}\n",
    "where \"basis\" is the The set $basis(x)=\\{x\\}$ is a linear model. We'll be doing polynomials where $basis(p)(x)=\\{x,x^2,...x^p\\}$.\n",
    "\n",
    "We're going to take a different approach: instead of starting with the least-squares equation and deriving the matrix equation, we're going to define **the code for a function** and perform source code transformations on to get the **program** we need that performs the regression.\n",
    "\n",
    "To get this to work, we have to use a bleeding edge branch of Zygote:\n",
    "```juia\n",
    "] add Zygote#mutate\n",
    "```"
   ]
  },
  {
   "cell_type": "code",
   "execution_count": 1,
   "metadata": {},
   "outputs": [],
   "source": [
    "using Flux, Zygote, Plots"
   ]
  },
  {
   "cell_type": "code",
   "execution_count": 2,
   "metadata": {},
   "outputs": [],
   "source": [
    "include(\"./AfqsJuliaUtil.jl\")\n",
    "using .AfqsJuliaUtil"
   ]
  },
  {
   "cell_type": "code",
   "execution_count": 3,
   "metadata": {},
   "outputs": [],
   "source": [
    "dat_x = collect(1:0.1:10);\n",
    "dat_y = 0.1*dat_x.^2 .+ 5 .+ 0.5*rand(length(dat_x));\n",
    "dat_x = reshape(dat_x,(1,length(dat_x)));\n",
    "dat_y = reshape(dat_y,(1,length(dat_y)));"
   ]
  },
  {
   "cell_type": "code",
   "execution_count": 4,
   "metadata": {},
   "outputs": [
    {
     "data": {
      "text/plain": [
       "loss (generic function with 1 method)"
      ]
     },
     "execution_count": 4,
     "metadata": {},
     "output_type": "execute_result"
    }
   ],
   "source": [
    "poly = AfqsJuliaUtil.@polynomial_function(1,3)\n",
    "# W0 = rand(1,3);\n",
    "# b0 = [2.0];\n",
    "P0 = rand(4)\n",
    "# P0 = mypars(W0,b0)\n",
    "f(x,P) = P[1:3]'*poly(x).+P[4];\n",
    "# pars=Flux.Tracker.Params([W,b])\n",
    "loss(x,y, P) = Flux.mse(y,f(x,P))"
   ]
  },
  {
   "cell_type": "code",
   "execution_count": 5,
   "metadata": {},
   "outputs": [
    {
     "data": {
      "text/plain": [
       "133769.75609116151"
      ]
     },
     "execution_count": 5,
     "metadata": {},
     "output_type": "execute_result"
    }
   ],
   "source": [
    "loss(dat_x,dat_y, P0)"
   ]
  },
  {
   "cell_type": "code",
   "execution_count": 6,
   "metadata": {},
   "outputs": [
    {
     "data": {
      "text/plain": [
       "4-element Array{Float64,1}:\n",
       " 0.03821126577366529\n",
       " 0.07018472958199462\n",
       " 0.9181273871851596 \n",
       " 0.5535222853381947 "
      ]
     },
     "execution_count": 6,
     "metadata": {},
     "output_type": "execute_result"
    }
   ],
   "source": [
    "P0"
   ]
  },
  {
   "cell_type": "code",
   "execution_count": 7,
   "metadata": {},
   "outputs": [],
   "source": [
    "gradx_fwd(x) = Zygote.forward_jacobian( (P->loss(dat_x,dat_y, P)), x )[2];\n",
    "hessx_fwd(x) = Zygote.forward_jacobian( gradx_fwd, x );"
   ]
  },
  {
   "cell_type": "code",
   "execution_count": 8,
   "metadata": {},
   "outputs": [
    {
     "data": {
      "text/plain": [
       "gradx (generic function with 1 method)"
      ]
     },
     "execution_count": 8,
     "metadata": {},
     "output_type": "execute_result"
    }
   ],
   "source": [
    "gradx(x) = Zygote.gradient( (P->loss(dat_x,dat_y, P)), x )[1]"
   ]
  },
  {
   "cell_type": "code",
   "execution_count": 9,
   "metadata": {},
   "outputs": [
    {
     "data": {
      "text/plain": [
       "4-element Array{Float64,1}:\n",
       "   4071.9243180755307\n",
       "  34188.660120610104 \n",
       " 294891.8877231705   \n",
       "    503.3787702081866"
      ]
     },
     "execution_count": 9,
     "metadata": {},
     "output_type": "execute_result"
    }
   ],
   "source": [
    "gradx(P0)"
   ]
  },
  {
   "cell_type": "code",
   "execution_count": 10,
   "metadata": {},
   "outputs": [
    {
     "data": {
      "text/plain": [
       "([4071.92; 34188.7; 2.94892e5; 503.379], [74.3 560.45 4506.19 11.0; 560.45 4506.19 37738.1 74.3; 4506.19 37738.1 3.25071e5 560.45; 11.0 74.3 560.45 2.0])"
      ]
     },
     "execution_count": 10,
     "metadata": {},
     "output_type": "execute_result"
    }
   ],
   "source": [
    "R,K=hessx_fwd(P0)"
   ]
  },
  {
   "cell_type": "markdown",
   "metadata": {},
   "source": [
    "Note how the gradient (R) is the same as the backward differentiated case."
   ]
  },
  {
   "cell_type": "markdown",
   "metadata": {},
   "source": [
    "To do the least squares, we just solve the resulting system of equations:"
   ]
  },
  {
   "cell_type": "code",
   "execution_count": 11,
   "metadata": {},
   "outputs": [
    {
     "data": {
      "text/plain": [
       "4×1 Array{Float64,2}:\n",
       " 0.03399284265980596  \n",
       " 0.0913569201692656   \n",
       " 0.0004622040824610041\n",
       " 5.253517563007837    "
      ]
     },
     "execution_count": 11,
     "metadata": {},
     "output_type": "execute_result"
    }
   ],
   "source": [
    "ΔP = K\\R;\n",
    "P = P0 - ΔP"
   ]
  },
  {
   "cell_type": "markdown",
   "metadata": {},
   "source": [
    "Notice how we recover `P[2]==0.1` and `P[4]==5`. We can verify that it looks right:"
   ]
  },
  {
   "cell_type": "code",
   "execution_count": 12,
   "metadata": {},
   "outputs": [
    {
     "data": {
      "image/svg+xml": [
       "<?xml version=\"1.0\" encoding=\"utf-8\"?>\n",
       "<svg xmlns=\"http://www.w3.org/2000/svg\" xmlns:xlink=\"http://www.w3.org/1999/xlink\" width=\"600\" height=\"400\" viewBox=\"0 0 2400 1600\">\n",
       "<defs>\n",
       "  <clipPath id=\"clip0300\">\n",
       "    <rect x=\"0\" y=\"0\" width=\"2400\" height=\"1600\"/>\n",
       "  </clipPath>\n",
       "</defs>\n",
       "<polygon clip-path=\"url(#clip0300)\" points=\"\n",
       "0,1600 2400,1600 2400,0 0,0 \n",
       "  \" fill=\"#ffffff\" fill-rule=\"evenodd\" fill-opacity=\"1\"/>\n",
       "<defs>\n",
       "  <clipPath id=\"clip0301\">\n",
       "    <rect x=\"480\" y=\"0\" width=\"1681\" height=\"1600\"/>\n",
       "  </clipPath>\n",
       "</defs>\n",
       "<polygon clip-path=\"url(#clip0300)\" points=\"\n",
       "148.013,1503.47 2321.26,1503.47 2321.26,47.2441 148.013,47.2441 \n",
       "  \" fill=\"#ffffff\" fill-rule=\"evenodd\" fill-opacity=\"1\"/>\n",
       "<defs>\n",
       "  <clipPath id=\"clip0302\">\n",
       "    <rect x=\"148\" y=\"47\" width=\"2174\" height=\"1457\"/>\n",
       "  </clipPath>\n",
       "</defs>\n",
       "<polyline clip-path=\"url(#clip0302)\" style=\"stroke:#000000; stroke-width:2; stroke-opacity:0.1; fill:none\" points=\"\n",
       "  437.324,1503.47 437.324,47.2441 \n",
       "  \"/>\n",
       "<polyline clip-path=\"url(#clip0302)\" style=\"stroke:#000000; stroke-width:2; stroke-opacity:0.1; fill:none\" points=\"\n",
       "  892.931,1503.47 892.931,47.2441 \n",
       "  \"/>\n",
       "<polyline clip-path=\"url(#clip0302)\" style=\"stroke:#000000; stroke-width:2; stroke-opacity:0.1; fill:none\" points=\"\n",
       "  1348.54,1503.47 1348.54,47.2441 \n",
       "  \"/>\n",
       "<polyline clip-path=\"url(#clip0302)\" style=\"stroke:#000000; stroke-width:2; stroke-opacity:0.1; fill:none\" points=\"\n",
       "  1804.15,1503.47 1804.15,47.2441 \n",
       "  \"/>\n",
       "<polyline clip-path=\"url(#clip0302)\" style=\"stroke:#000000; stroke-width:2; stroke-opacity:0.1; fill:none\" points=\"\n",
       "  2259.75,1503.47 2259.75,47.2441 \n",
       "  \"/>\n",
       "<polyline clip-path=\"url(#clip0302)\" style=\"stroke:#000000; stroke-width:2; stroke-opacity:0.1; fill:none\" points=\"\n",
       "  148.013,1370.73 2321.26,1370.73 \n",
       "  \"/>\n",
       "<polyline clip-path=\"url(#clip0302)\" style=\"stroke:#000000; stroke-width:2; stroke-opacity:0.1; fill:none\" points=\"\n",
       "  148.013,1092.28 2321.26,1092.28 \n",
       "  \"/>\n",
       "<polyline clip-path=\"url(#clip0302)\" style=\"stroke:#000000; stroke-width:2; stroke-opacity:0.1; fill:none\" points=\"\n",
       "  148.013,813.824 2321.26,813.824 \n",
       "  \"/>\n",
       "<polyline clip-path=\"url(#clip0302)\" style=\"stroke:#000000; stroke-width:2; stroke-opacity:0.1; fill:none\" points=\"\n",
       "  148.013,535.369 2321.26,535.369 \n",
       "  \"/>\n",
       "<polyline clip-path=\"url(#clip0302)\" style=\"stroke:#000000; stroke-width:2; stroke-opacity:0.1; fill:none\" points=\"\n",
       "  148.013,256.915 2321.26,256.915 \n",
       "  \"/>\n",
       "<polyline clip-path=\"url(#clip0300)\" style=\"stroke:#000000; stroke-width:4; stroke-opacity:1; fill:none\" points=\"\n",
       "  148.013,1503.47 2321.26,1503.47 \n",
       "  \"/>\n",
       "<polyline clip-path=\"url(#clip0300)\" style=\"stroke:#000000; stroke-width:4; stroke-opacity:1; fill:none\" points=\"\n",
       "  148.013,1503.47 148.013,47.2441 \n",
       "  \"/>\n",
       "<polyline clip-path=\"url(#clip0300)\" style=\"stroke:#000000; stroke-width:4; stroke-opacity:1; fill:none\" points=\"\n",
       "  437.324,1503.47 437.324,1481.63 \n",
       "  \"/>\n",
       "<polyline clip-path=\"url(#clip0300)\" style=\"stroke:#000000; stroke-width:4; stroke-opacity:1; fill:none\" points=\"\n",
       "  892.931,1503.47 892.931,1481.63 \n",
       "  \"/>\n",
       "<polyline clip-path=\"url(#clip0300)\" style=\"stroke:#000000; stroke-width:4; stroke-opacity:1; fill:none\" points=\"\n",
       "  1348.54,1503.47 1348.54,1481.63 \n",
       "  \"/>\n",
       "<polyline clip-path=\"url(#clip0300)\" style=\"stroke:#000000; stroke-width:4; stroke-opacity:1; fill:none\" points=\"\n",
       "  1804.15,1503.47 1804.15,1481.63 \n",
       "  \"/>\n",
       "<polyline clip-path=\"url(#clip0300)\" style=\"stroke:#000000; stroke-width:4; stroke-opacity:1; fill:none\" points=\"\n",
       "  2259.75,1503.47 2259.75,1481.63 \n",
       "  \"/>\n",
       "<polyline clip-path=\"url(#clip0300)\" style=\"stroke:#000000; stroke-width:4; stroke-opacity:1; fill:none\" points=\"\n",
       "  148.013,1370.73 180.612,1370.73 \n",
       "  \"/>\n",
       "<polyline clip-path=\"url(#clip0300)\" style=\"stroke:#000000; stroke-width:4; stroke-opacity:1; fill:none\" points=\"\n",
       "  148.013,1092.28 180.612,1092.28 \n",
       "  \"/>\n",
       "<polyline clip-path=\"url(#clip0300)\" style=\"stroke:#000000; stroke-width:4; stroke-opacity:1; fill:none\" points=\"\n",
       "  148.013,813.824 180.612,813.824 \n",
       "  \"/>\n",
       "<polyline clip-path=\"url(#clip0300)\" style=\"stroke:#000000; stroke-width:4; stroke-opacity:1; fill:none\" points=\"\n",
       "  148.013,535.369 180.612,535.369 \n",
       "  \"/>\n",
       "<polyline clip-path=\"url(#clip0300)\" style=\"stroke:#000000; stroke-width:4; stroke-opacity:1; fill:none\" points=\"\n",
       "  148.013,256.915 180.612,256.915 \n",
       "  \"/>\n",
       "<g clip-path=\"url(#clip0300)\">\n",
       "<text style=\"fill:#000000; fill-opacity:1; font-family:Arial,Helvetica Neue,Helvetica,sans-serif; font-size:48px; text-anchor:middle;\" transform=\"rotate(0, 437.324, 1557.47)\" x=\"437.324\" y=\"1557.47\">2</text>\n",
       "</g>\n",
       "<g clip-path=\"url(#clip0300)\">\n",
       "<text style=\"fill:#000000; fill-opacity:1; font-family:Arial,Helvetica Neue,Helvetica,sans-serif; font-size:48px; text-anchor:middle;\" transform=\"rotate(0, 892.931, 1557.47)\" x=\"892.931\" y=\"1557.47\">4</text>\n",
       "</g>\n",
       "<g clip-path=\"url(#clip0300)\">\n",
       "<text style=\"fill:#000000; fill-opacity:1; font-family:Arial,Helvetica Neue,Helvetica,sans-serif; font-size:48px; text-anchor:middle;\" transform=\"rotate(0, 1348.54, 1557.47)\" x=\"1348.54\" y=\"1557.47\">6</text>\n",
       "</g>\n",
       "<g clip-path=\"url(#clip0300)\">\n",
       "<text style=\"fill:#000000; fill-opacity:1; font-family:Arial,Helvetica Neue,Helvetica,sans-serif; font-size:48px; text-anchor:middle;\" transform=\"rotate(0, 1804.15, 1557.47)\" x=\"1804.15\" y=\"1557.47\">8</text>\n",
       "</g>\n",
       "<g clip-path=\"url(#clip0300)\">\n",
       "<text style=\"fill:#000000; fill-opacity:1; font-family:Arial,Helvetica Neue,Helvetica,sans-serif; font-size:48px; text-anchor:middle;\" transform=\"rotate(0, 2259.75, 1557.47)\" x=\"2259.75\" y=\"1557.47\">10</text>\n",
       "</g>\n",
       "<g clip-path=\"url(#clip0300)\">\n",
       "<text style=\"fill:#000000; fill-opacity:1; font-family:Arial,Helvetica Neue,Helvetica,sans-serif; font-size:48px; text-anchor:end;\" transform=\"rotate(0, 124.013, 1388.23)\" x=\"124.013\" y=\"1388.23\">6</text>\n",
       "</g>\n",
       "<g clip-path=\"url(#clip0300)\">\n",
       "<text style=\"fill:#000000; fill-opacity:1; font-family:Arial,Helvetica Neue,Helvetica,sans-serif; font-size:48px; text-anchor:end;\" transform=\"rotate(0, 124.013, 1109.78)\" x=\"124.013\" y=\"1109.78\">8</text>\n",
       "</g>\n",
       "<g clip-path=\"url(#clip0300)\">\n",
       "<text style=\"fill:#000000; fill-opacity:1; font-family:Arial,Helvetica Neue,Helvetica,sans-serif; font-size:48px; text-anchor:end;\" transform=\"rotate(0, 124.013, 831.324)\" x=\"124.013\" y=\"831.324\">10</text>\n",
       "</g>\n",
       "<g clip-path=\"url(#clip0300)\">\n",
       "<text style=\"fill:#000000; fill-opacity:1; font-family:Arial,Helvetica Neue,Helvetica,sans-serif; font-size:48px; text-anchor:end;\" transform=\"rotate(0, 124.013, 552.869)\" x=\"124.013\" y=\"552.869\">12</text>\n",
       "</g>\n",
       "<g clip-path=\"url(#clip0300)\">\n",
       "<text style=\"fill:#000000; fill-opacity:1; font-family:Arial,Helvetica Neue,Helvetica,sans-serif; font-size:48px; text-anchor:end;\" transform=\"rotate(0, 124.013, 274.415)\" x=\"124.013\" y=\"274.415\">14</text>\n",
       "</g>\n",
       "<circle clip-path=\"url(#clip0302)\" style=\"fill:#000000; stroke:none; fill-opacity:1\" cx=\"209.52\" cy=\"1434.19\" r=\"18\"/>\n",
       "<circle clip-path=\"url(#clip0302)\" style=\"fill:#009af9; stroke:none; fill-opacity:1\" cx=\"209.52\" cy=\"1434.19\" r=\"14\"/>\n",
       "<circle clip-path=\"url(#clip0302)\" style=\"fill:#000000; stroke:none; fill-opacity:1\" cx=\"232.3\" cy=\"1448.64\" r=\"18\"/>\n",
       "<circle clip-path=\"url(#clip0302)\" style=\"fill:#009af9; stroke:none; fill-opacity:1\" cx=\"232.3\" cy=\"1448.64\" r=\"14\"/>\n",
       "<circle clip-path=\"url(#clip0302)\" style=\"fill:#000000; stroke:none; fill-opacity:1\" cx=\"255.081\" cy=\"1440.69\" r=\"18\"/>\n",
       "<circle clip-path=\"url(#clip0302)\" style=\"fill:#009af9; stroke:none; fill-opacity:1\" cx=\"255.081\" cy=\"1440.69\" r=\"14\"/>\n",
       "<circle clip-path=\"url(#clip0302)\" style=\"fill:#000000; stroke:none; fill-opacity:1\" cx=\"277.861\" cy=\"1462.26\" r=\"18\"/>\n",
       "<circle clip-path=\"url(#clip0302)\" style=\"fill:#009af9; stroke:none; fill-opacity:1\" cx=\"277.861\" cy=\"1462.26\" r=\"14\"/>\n",
       "<circle clip-path=\"url(#clip0302)\" style=\"fill:#000000; stroke:none; fill-opacity:1\" cx=\"300.641\" cy=\"1445.88\" r=\"18\"/>\n",
       "<circle clip-path=\"url(#clip0302)\" style=\"fill:#009af9; stroke:none; fill-opacity:1\" cx=\"300.641\" cy=\"1445.88\" r=\"14\"/>\n",
       "<circle clip-path=\"url(#clip0302)\" style=\"fill:#000000; stroke:none; fill-opacity:1\" cx=\"323.422\" cy=\"1436.77\" r=\"18\"/>\n",
       "<circle clip-path=\"url(#clip0302)\" style=\"fill:#009af9; stroke:none; fill-opacity:1\" cx=\"323.422\" cy=\"1436.77\" r=\"14\"/>\n",
       "<circle clip-path=\"url(#clip0302)\" style=\"fill:#000000; stroke:none; fill-opacity:1\" cx=\"346.202\" cy=\"1409.21\" r=\"18\"/>\n",
       "<circle clip-path=\"url(#clip0302)\" style=\"fill:#009af9; stroke:none; fill-opacity:1\" cx=\"346.202\" cy=\"1409.21\" r=\"14\"/>\n",
       "<circle clip-path=\"url(#clip0302)\" style=\"fill:#000000; stroke:none; fill-opacity:1\" cx=\"368.982\" cy=\"1460.73\" r=\"18\"/>\n",
       "<circle clip-path=\"url(#clip0302)\" style=\"fill:#009af9; stroke:none; fill-opacity:1\" cx=\"368.982\" cy=\"1460.73\" r=\"14\"/>\n",
       "<circle clip-path=\"url(#clip0302)\" style=\"fill:#000000; stroke:none; fill-opacity:1\" cx=\"391.763\" cy=\"1443.24\" r=\"18\"/>\n",
       "<circle clip-path=\"url(#clip0302)\" style=\"fill:#009af9; stroke:none; fill-opacity:1\" cx=\"391.763\" cy=\"1443.24\" r=\"14\"/>\n",
       "<circle clip-path=\"url(#clip0302)\" style=\"fill:#000000; stroke:none; fill-opacity:1\" cx=\"414.543\" cy=\"1402.84\" r=\"18\"/>\n",
       "<circle clip-path=\"url(#clip0302)\" style=\"fill:#009af9; stroke:none; fill-opacity:1\" cx=\"414.543\" cy=\"1402.84\" r=\"14\"/>\n",
       "<circle clip-path=\"url(#clip0302)\" style=\"fill:#000000; stroke:none; fill-opacity:1\" cx=\"437.324\" cy=\"1429.2\" r=\"18\"/>\n",
       "<circle clip-path=\"url(#clip0302)\" style=\"fill:#009af9; stroke:none; fill-opacity:1\" cx=\"437.324\" cy=\"1429.2\" r=\"14\"/>\n",
       "<circle clip-path=\"url(#clip0302)\" style=\"fill:#000000; stroke:none; fill-opacity:1\" cx=\"460.104\" cy=\"1427.07\" r=\"18\"/>\n",
       "<circle clip-path=\"url(#clip0302)\" style=\"fill:#009af9; stroke:none; fill-opacity:1\" cx=\"460.104\" cy=\"1427.07\" r=\"14\"/>\n",
       "<circle clip-path=\"url(#clip0302)\" style=\"fill:#000000; stroke:none; fill-opacity:1\" cx=\"482.884\" cy=\"1410.16\" r=\"18\"/>\n",
       "<circle clip-path=\"url(#clip0302)\" style=\"fill:#009af9; stroke:none; fill-opacity:1\" cx=\"482.884\" cy=\"1410.16\" r=\"14\"/>\n",
       "<circle clip-path=\"url(#clip0302)\" style=\"fill:#000000; stroke:none; fill-opacity:1\" cx=\"505.665\" cy=\"1382.56\" r=\"18\"/>\n",
       "<circle clip-path=\"url(#clip0302)\" style=\"fill:#009af9; stroke:none; fill-opacity:1\" cx=\"505.665\" cy=\"1382.56\" r=\"14\"/>\n",
       "<circle clip-path=\"url(#clip0302)\" style=\"fill:#000000; stroke:none; fill-opacity:1\" cx=\"528.445\" cy=\"1405.36\" r=\"18\"/>\n",
       "<circle clip-path=\"url(#clip0302)\" style=\"fill:#009af9; stroke:none; fill-opacity:1\" cx=\"528.445\" cy=\"1405.36\" r=\"14\"/>\n",
       "<circle clip-path=\"url(#clip0302)\" style=\"fill:#000000; stroke:none; fill-opacity:1\" cx=\"551.225\" cy=\"1359.52\" r=\"18\"/>\n",
       "<circle clip-path=\"url(#clip0302)\" style=\"fill:#009af9; stroke:none; fill-opacity:1\" cx=\"551.225\" cy=\"1359.52\" r=\"14\"/>\n",
       "<circle clip-path=\"url(#clip0302)\" style=\"fill:#000000; stroke:none; fill-opacity:1\" cx=\"574.006\" cy=\"1367.27\" r=\"18\"/>\n",
       "<circle clip-path=\"url(#clip0302)\" style=\"fill:#009af9; stroke:none; fill-opacity:1\" cx=\"574.006\" cy=\"1367.27\" r=\"14\"/>\n",
       "<circle clip-path=\"url(#clip0302)\" style=\"fill:#000000; stroke:none; fill-opacity:1\" cx=\"596.786\" cy=\"1380.2\" r=\"18\"/>\n",
       "<circle clip-path=\"url(#clip0302)\" style=\"fill:#009af9; stroke:none; fill-opacity:1\" cx=\"596.786\" cy=\"1380.2\" r=\"14\"/>\n",
       "<circle clip-path=\"url(#clip0302)\" style=\"fill:#000000; stroke:none; fill-opacity:1\" cx=\"619.566\" cy=\"1337.23\" r=\"18\"/>\n",
       "<circle clip-path=\"url(#clip0302)\" style=\"fill:#009af9; stroke:none; fill-opacity:1\" cx=\"619.566\" cy=\"1337.23\" r=\"14\"/>\n",
       "<circle clip-path=\"url(#clip0302)\" style=\"fill:#000000; stroke:none; fill-opacity:1\" cx=\"642.347\" cy=\"1369.18\" r=\"18\"/>\n",
       "<circle clip-path=\"url(#clip0302)\" style=\"fill:#009af9; stroke:none; fill-opacity:1\" cx=\"642.347\" cy=\"1369.18\" r=\"14\"/>\n",
       "<circle clip-path=\"url(#clip0302)\" style=\"fill:#000000; stroke:none; fill-opacity:1\" cx=\"665.127\" cy=\"1346.64\" r=\"18\"/>\n",
       "<circle clip-path=\"url(#clip0302)\" style=\"fill:#009af9; stroke:none; fill-opacity:1\" cx=\"665.127\" cy=\"1346.64\" r=\"14\"/>\n",
       "<circle clip-path=\"url(#clip0302)\" style=\"fill:#000000; stroke:none; fill-opacity:1\" cx=\"687.908\" cy=\"1333.33\" r=\"18\"/>\n",
       "<circle clip-path=\"url(#clip0302)\" style=\"fill:#009af9; stroke:none; fill-opacity:1\" cx=\"687.908\" cy=\"1333.33\" r=\"14\"/>\n",
       "<circle clip-path=\"url(#clip0302)\" style=\"fill:#000000; stroke:none; fill-opacity:1\" cx=\"710.688\" cy=\"1309.67\" r=\"18\"/>\n",
       "<circle clip-path=\"url(#clip0302)\" style=\"fill:#009af9; stroke:none; fill-opacity:1\" cx=\"710.688\" cy=\"1309.67\" r=\"14\"/>\n",
       "<circle clip-path=\"url(#clip0302)\" style=\"fill:#000000; stroke:none; fill-opacity:1\" cx=\"733.468\" cy=\"1357.5\" r=\"18\"/>\n",
       "<circle clip-path=\"url(#clip0302)\" style=\"fill:#009af9; stroke:none; fill-opacity:1\" cx=\"733.468\" cy=\"1357.5\" r=\"14\"/>\n",
       "<circle clip-path=\"url(#clip0302)\" style=\"fill:#000000; stroke:none; fill-opacity:1\" cx=\"756.249\" cy=\"1287.39\" r=\"18\"/>\n",
       "<circle clip-path=\"url(#clip0302)\" style=\"fill:#009af9; stroke:none; fill-opacity:1\" cx=\"756.249\" cy=\"1287.39\" r=\"14\"/>\n",
       "<circle clip-path=\"url(#clip0302)\" style=\"fill:#000000; stroke:none; fill-opacity:1\" cx=\"779.029\" cy=\"1307.4\" r=\"18\"/>\n",
       "<circle clip-path=\"url(#clip0302)\" style=\"fill:#009af9; stroke:none; fill-opacity:1\" cx=\"779.029\" cy=\"1307.4\" r=\"14\"/>\n",
       "<circle clip-path=\"url(#clip0302)\" style=\"fill:#000000; stroke:none; fill-opacity:1\" cx=\"801.809\" cy=\"1312.34\" r=\"18\"/>\n",
       "<circle clip-path=\"url(#clip0302)\" style=\"fill:#009af9; stroke:none; fill-opacity:1\" cx=\"801.809\" cy=\"1312.34\" r=\"14\"/>\n",
       "<circle clip-path=\"url(#clip0302)\" style=\"fill:#000000; stroke:none; fill-opacity:1\" cx=\"824.59\" cy=\"1268.8\" r=\"18\"/>\n",
       "<circle clip-path=\"url(#clip0302)\" style=\"fill:#009af9; stroke:none; fill-opacity:1\" cx=\"824.59\" cy=\"1268.8\" r=\"14\"/>\n",
       "<circle clip-path=\"url(#clip0302)\" style=\"fill:#000000; stroke:none; fill-opacity:1\" cx=\"847.37\" cy=\"1272.64\" r=\"18\"/>\n",
       "<circle clip-path=\"url(#clip0302)\" style=\"fill:#009af9; stroke:none; fill-opacity:1\" cx=\"847.37\" cy=\"1272.64\" r=\"14\"/>\n",
       "<circle clip-path=\"url(#clip0302)\" style=\"fill:#000000; stroke:none; fill-opacity:1\" cx=\"870.15\" cy=\"1234.99\" r=\"18\"/>\n",
       "<circle clip-path=\"url(#clip0302)\" style=\"fill:#009af9; stroke:none; fill-opacity:1\" cx=\"870.15\" cy=\"1234.99\" r=\"14\"/>\n",
       "<circle clip-path=\"url(#clip0302)\" style=\"fill:#000000; stroke:none; fill-opacity:1\" cx=\"892.931\" cy=\"1237.31\" r=\"18\"/>\n",
       "<circle clip-path=\"url(#clip0302)\" style=\"fill:#009af9; stroke:none; fill-opacity:1\" cx=\"892.931\" cy=\"1237.31\" r=\"14\"/>\n",
       "<circle clip-path=\"url(#clip0302)\" style=\"fill:#000000; stroke:none; fill-opacity:1\" cx=\"915.711\" cy=\"1256.4\" r=\"18\"/>\n",
       "<circle clip-path=\"url(#clip0302)\" style=\"fill:#009af9; stroke:none; fill-opacity:1\" cx=\"915.711\" cy=\"1256.4\" r=\"14\"/>\n",
       "<circle clip-path=\"url(#clip0302)\" style=\"fill:#000000; stroke:none; fill-opacity:1\" cx=\"938.492\" cy=\"1205.69\" r=\"18\"/>\n",
       "<circle clip-path=\"url(#clip0302)\" style=\"fill:#009af9; stroke:none; fill-opacity:1\" cx=\"938.492\" cy=\"1205.69\" r=\"14\"/>\n",
       "<circle clip-path=\"url(#clip0302)\" style=\"fill:#000000; stroke:none; fill-opacity:1\" cx=\"961.272\" cy=\"1234.15\" r=\"18\"/>\n",
       "<circle clip-path=\"url(#clip0302)\" style=\"fill:#009af9; stroke:none; fill-opacity:1\" cx=\"961.272\" cy=\"1234.15\" r=\"14\"/>\n",
       "<circle clip-path=\"url(#clip0302)\" style=\"fill:#000000; stroke:none; fill-opacity:1\" cx=\"984.052\" cy=\"1214.67\" r=\"18\"/>\n",
       "<circle clip-path=\"url(#clip0302)\" style=\"fill:#009af9; stroke:none; fill-opacity:1\" cx=\"984.052\" cy=\"1214.67\" r=\"14\"/>\n",
       "<circle clip-path=\"url(#clip0302)\" style=\"fill:#000000; stroke:none; fill-opacity:1\" cx=\"1006.83\" cy=\"1195.36\" r=\"18\"/>\n",
       "<circle clip-path=\"url(#clip0302)\" style=\"fill:#009af9; stroke:none; fill-opacity:1\" cx=\"1006.83\" cy=\"1195.36\" r=\"14\"/>\n",
       "<circle clip-path=\"url(#clip0302)\" style=\"fill:#000000; stroke:none; fill-opacity:1\" cx=\"1029.61\" cy=\"1167.26\" r=\"18\"/>\n",
       "<circle clip-path=\"url(#clip0302)\" style=\"fill:#009af9; stroke:none; fill-opacity:1\" cx=\"1029.61\" cy=\"1167.26\" r=\"14\"/>\n",
       "<circle clip-path=\"url(#clip0302)\" style=\"fill:#000000; stroke:none; fill-opacity:1\" cx=\"1052.39\" cy=\"1181.73\" r=\"18\"/>\n",
       "<circle clip-path=\"url(#clip0302)\" style=\"fill:#009af9; stroke:none; fill-opacity:1\" cx=\"1052.39\" cy=\"1181.73\" r=\"14\"/>\n",
       "<circle clip-path=\"url(#clip0302)\" style=\"fill:#000000; stroke:none; fill-opacity:1\" cx=\"1075.17\" cy=\"1123.51\" r=\"18\"/>\n",
       "<circle clip-path=\"url(#clip0302)\" style=\"fill:#009af9; stroke:none; fill-opacity:1\" cx=\"1075.17\" cy=\"1123.51\" r=\"14\"/>\n",
       "<circle clip-path=\"url(#clip0302)\" style=\"fill:#000000; stroke:none; fill-opacity:1\" cx=\"1097.95\" cy=\"1138.97\" r=\"18\"/>\n",
       "<circle clip-path=\"url(#clip0302)\" style=\"fill:#009af9; stroke:none; fill-opacity:1\" cx=\"1097.95\" cy=\"1138.97\" r=\"14\"/>\n",
       "<circle clip-path=\"url(#clip0302)\" style=\"fill:#000000; stroke:none; fill-opacity:1\" cx=\"1120.73\" cy=\"1127.99\" r=\"18\"/>\n",
       "<circle clip-path=\"url(#clip0302)\" style=\"fill:#009af9; stroke:none; fill-opacity:1\" cx=\"1120.73\" cy=\"1127.99\" r=\"14\"/>\n",
       "<circle clip-path=\"url(#clip0302)\" style=\"fill:#000000; stroke:none; fill-opacity:1\" cx=\"1143.51\" cy=\"1107.84\" r=\"18\"/>\n",
       "<circle clip-path=\"url(#clip0302)\" style=\"fill:#009af9; stroke:none; fill-opacity:1\" cx=\"1143.51\" cy=\"1107.84\" r=\"14\"/>\n",
       "<circle clip-path=\"url(#clip0302)\" style=\"fill:#000000; stroke:none; fill-opacity:1\" cx=\"1166.3\" cy=\"1080.04\" r=\"18\"/>\n",
       "<circle clip-path=\"url(#clip0302)\" style=\"fill:#009af9; stroke:none; fill-opacity:1\" cx=\"1166.3\" cy=\"1080.04\" r=\"14\"/>\n",
       "<circle clip-path=\"url(#clip0302)\" style=\"fill:#000000; stroke:none; fill-opacity:1\" cx=\"1189.08\" cy=\"1106.92\" r=\"18\"/>\n",
       "<circle clip-path=\"url(#clip0302)\" style=\"fill:#009af9; stroke:none; fill-opacity:1\" cx=\"1189.08\" cy=\"1106.92\" r=\"14\"/>\n",
       "<circle clip-path=\"url(#clip0302)\" style=\"fill:#000000; stroke:none; fill-opacity:1\" cx=\"1211.86\" cy=\"1054.9\" r=\"18\"/>\n",
       "<circle clip-path=\"url(#clip0302)\" style=\"fill:#009af9; stroke:none; fill-opacity:1\" cx=\"1211.86\" cy=\"1054.9\" r=\"14\"/>\n",
       "<circle clip-path=\"url(#clip0302)\" style=\"fill:#000000; stroke:none; fill-opacity:1\" cx=\"1234.64\" cy=\"1025.8\" r=\"18\"/>\n",
       "<circle clip-path=\"url(#clip0302)\" style=\"fill:#009af9; stroke:none; fill-opacity:1\" cx=\"1234.64\" cy=\"1025.8\" r=\"14\"/>\n",
       "<circle clip-path=\"url(#clip0302)\" style=\"fill:#000000; stroke:none; fill-opacity:1\" cx=\"1257.42\" cy=\"1059.94\" r=\"18\"/>\n",
       "<circle clip-path=\"url(#clip0302)\" style=\"fill:#009af9; stroke:none; fill-opacity:1\" cx=\"1257.42\" cy=\"1059.94\" r=\"14\"/>\n",
       "<circle clip-path=\"url(#clip0302)\" style=\"fill:#000000; stroke:none; fill-opacity:1\" cx=\"1280.2\" cy=\"1046.59\" r=\"18\"/>\n",
       "<circle clip-path=\"url(#clip0302)\" style=\"fill:#009af9; stroke:none; fill-opacity:1\" cx=\"1280.2\" cy=\"1046.59\" r=\"14\"/>\n",
       "<circle clip-path=\"url(#clip0302)\" style=\"fill:#000000; stroke:none; fill-opacity:1\" cx=\"1302.98\" cy=\"979.778\" r=\"18\"/>\n",
       "<circle clip-path=\"url(#clip0302)\" style=\"fill:#009af9; stroke:none; fill-opacity:1\" cx=\"1302.98\" cy=\"979.778\" r=\"14\"/>\n",
       "<circle clip-path=\"url(#clip0302)\" style=\"fill:#000000; stroke:none; fill-opacity:1\" cx=\"1325.76\" cy=\"1024.3\" r=\"18\"/>\n",
       "<circle clip-path=\"url(#clip0302)\" style=\"fill:#009af9; stroke:none; fill-opacity:1\" cx=\"1325.76\" cy=\"1024.3\" r=\"14\"/>\n",
       "<circle clip-path=\"url(#clip0302)\" style=\"fill:#000000; stroke:none; fill-opacity:1\" cx=\"1348.54\" cy=\"958.96\" r=\"18\"/>\n",
       "<circle clip-path=\"url(#clip0302)\" style=\"fill:#009af9; stroke:none; fill-opacity:1\" cx=\"1348.54\" cy=\"958.96\" r=\"14\"/>\n",
       "<circle clip-path=\"url(#clip0302)\" style=\"fill:#000000; stroke:none; fill-opacity:1\" cx=\"1371.32\" cy=\"929.399\" r=\"18\"/>\n",
       "<circle clip-path=\"url(#clip0302)\" style=\"fill:#009af9; stroke:none; fill-opacity:1\" cx=\"1371.32\" cy=\"929.399\" r=\"14\"/>\n",
       "<circle clip-path=\"url(#clip0302)\" style=\"fill:#000000; stroke:none; fill-opacity:1\" cx=\"1394.1\" cy=\"959.298\" r=\"18\"/>\n",
       "<circle clip-path=\"url(#clip0302)\" style=\"fill:#009af9; stroke:none; fill-opacity:1\" cx=\"1394.1\" cy=\"959.298\" r=\"14\"/>\n",
       "<circle clip-path=\"url(#clip0302)\" style=\"fill:#000000; stroke:none; fill-opacity:1\" cx=\"1416.88\" cy=\"887.966\" r=\"18\"/>\n",
       "<circle clip-path=\"url(#clip0302)\" style=\"fill:#009af9; stroke:none; fill-opacity:1\" cx=\"1416.88\" cy=\"887.966\" r=\"14\"/>\n",
       "<circle clip-path=\"url(#clip0302)\" style=\"fill:#000000; stroke:none; fill-opacity:1\" cx=\"1439.66\" cy=\"907.082\" r=\"18\"/>\n",
       "<circle clip-path=\"url(#clip0302)\" style=\"fill:#009af9; stroke:none; fill-opacity:1\" cx=\"1439.66\" cy=\"907.082\" r=\"14\"/>\n",
       "<circle clip-path=\"url(#clip0302)\" style=\"fill:#000000; stroke:none; fill-opacity:1\" cx=\"1462.44\" cy=\"913.315\" r=\"18\"/>\n",
       "<circle clip-path=\"url(#clip0302)\" style=\"fill:#009af9; stroke:none; fill-opacity:1\" cx=\"1462.44\" cy=\"913.315\" r=\"14\"/>\n",
       "<circle clip-path=\"url(#clip0302)\" style=\"fill:#000000; stroke:none; fill-opacity:1\" cx=\"1485.22\" cy=\"901.673\" r=\"18\"/>\n",
       "<circle clip-path=\"url(#clip0302)\" style=\"fill:#009af9; stroke:none; fill-opacity:1\" cx=\"1485.22\" cy=\"901.673\" r=\"14\"/>\n",
       "<circle clip-path=\"url(#clip0302)\" style=\"fill:#000000; stroke:none; fill-opacity:1\" cx=\"1508\" cy=\"857.35\" r=\"18\"/>\n",
       "<circle clip-path=\"url(#clip0302)\" style=\"fill:#009af9; stroke:none; fill-opacity:1\" cx=\"1508\" cy=\"857.35\" r=\"14\"/>\n",
       "<circle clip-path=\"url(#clip0302)\" style=\"fill:#000000; stroke:none; fill-opacity:1\" cx=\"1530.78\" cy=\"805.733\" r=\"18\"/>\n",
       "<circle clip-path=\"url(#clip0302)\" style=\"fill:#009af9; stroke:none; fill-opacity:1\" cx=\"1530.78\" cy=\"805.733\" r=\"14\"/>\n",
       "<circle clip-path=\"url(#clip0302)\" style=\"fill:#000000; stroke:none; fill-opacity:1\" cx=\"1553.56\" cy=\"810.126\" r=\"18\"/>\n",
       "<circle clip-path=\"url(#clip0302)\" style=\"fill:#009af9; stroke:none; fill-opacity:1\" cx=\"1553.56\" cy=\"810.126\" r=\"14\"/>\n",
       "<circle clip-path=\"url(#clip0302)\" style=\"fill:#000000; stroke:none; fill-opacity:1\" cx=\"1576.34\" cy=\"825.574\" r=\"18\"/>\n",
       "<circle clip-path=\"url(#clip0302)\" style=\"fill:#009af9; stroke:none; fill-opacity:1\" cx=\"1576.34\" cy=\"825.574\" r=\"14\"/>\n",
       "<circle clip-path=\"url(#clip0302)\" style=\"fill:#000000; stroke:none; fill-opacity:1\" cx=\"1599.12\" cy=\"745.902\" r=\"18\"/>\n",
       "<circle clip-path=\"url(#clip0302)\" style=\"fill:#009af9; stroke:none; fill-opacity:1\" cx=\"1599.12\" cy=\"745.902\" r=\"14\"/>\n",
       "<circle clip-path=\"url(#clip0302)\" style=\"fill:#000000; stroke:none; fill-opacity:1\" cx=\"1621.9\" cy=\"719.151\" r=\"18\"/>\n",
       "<circle clip-path=\"url(#clip0302)\" style=\"fill:#009af9; stroke:none; fill-opacity:1\" cx=\"1621.9\" cy=\"719.151\" r=\"14\"/>\n",
       "<circle clip-path=\"url(#clip0302)\" style=\"fill:#000000; stroke:none; fill-opacity:1\" cx=\"1644.68\" cy=\"698.552\" r=\"18\"/>\n",
       "<circle clip-path=\"url(#clip0302)\" style=\"fill:#009af9; stroke:none; fill-opacity:1\" cx=\"1644.68\" cy=\"698.552\" r=\"14\"/>\n",
       "<circle clip-path=\"url(#clip0302)\" style=\"fill:#000000; stroke:none; fill-opacity:1\" cx=\"1667.46\" cy=\"741.677\" r=\"18\"/>\n",
       "<circle clip-path=\"url(#clip0302)\" style=\"fill:#009af9; stroke:none; fill-opacity:1\" cx=\"1667.46\" cy=\"741.677\" r=\"14\"/>\n",
       "<circle clip-path=\"url(#clip0302)\" style=\"fill:#000000; stroke:none; fill-opacity:1\" cx=\"1690.24\" cy=\"707.274\" r=\"18\"/>\n",
       "<circle clip-path=\"url(#clip0302)\" style=\"fill:#009af9; stroke:none; fill-opacity:1\" cx=\"1690.24\" cy=\"707.274\" r=\"14\"/>\n",
       "<circle clip-path=\"url(#clip0302)\" style=\"fill:#000000; stroke:none; fill-opacity:1\" cx=\"1713.02\" cy=\"660.6\" r=\"18\"/>\n",
       "<circle clip-path=\"url(#clip0302)\" style=\"fill:#009af9; stroke:none; fill-opacity:1\" cx=\"1713.02\" cy=\"660.6\" r=\"14\"/>\n",
       "<circle clip-path=\"url(#clip0302)\" style=\"fill:#000000; stroke:none; fill-opacity:1\" cx=\"1735.8\" cy=\"649.432\" r=\"18\"/>\n",
       "<circle clip-path=\"url(#clip0302)\" style=\"fill:#009af9; stroke:none; fill-opacity:1\" cx=\"1735.8\" cy=\"649.432\" r=\"14\"/>\n",
       "<circle clip-path=\"url(#clip0302)\" style=\"fill:#000000; stroke:none; fill-opacity:1\" cx=\"1758.58\" cy=\"656.689\" r=\"18\"/>\n",
       "<circle clip-path=\"url(#clip0302)\" style=\"fill:#009af9; stroke:none; fill-opacity:1\" cx=\"1758.58\" cy=\"656.689\" r=\"14\"/>\n",
       "<circle clip-path=\"url(#clip0302)\" style=\"fill:#000000; stroke:none; fill-opacity:1\" cx=\"1781.37\" cy=\"576.152\" r=\"18\"/>\n",
       "<circle clip-path=\"url(#clip0302)\" style=\"fill:#009af9; stroke:none; fill-opacity:1\" cx=\"1781.37\" cy=\"576.152\" r=\"14\"/>\n",
       "<circle clip-path=\"url(#clip0302)\" style=\"fill:#000000; stroke:none; fill-opacity:1\" cx=\"1804.15\" cy=\"615.135\" r=\"18\"/>\n",
       "<circle clip-path=\"url(#clip0302)\" style=\"fill:#009af9; stroke:none; fill-opacity:1\" cx=\"1804.15\" cy=\"615.135\" r=\"14\"/>\n",
       "<circle clip-path=\"url(#clip0302)\" style=\"fill:#000000; stroke:none; fill-opacity:1\" cx=\"1826.93\" cy=\"547.106\" r=\"18\"/>\n",
       "<circle clip-path=\"url(#clip0302)\" style=\"fill:#009af9; stroke:none; fill-opacity:1\" cx=\"1826.93\" cy=\"547.106\" r=\"14\"/>\n",
       "<circle clip-path=\"url(#clip0302)\" style=\"fill:#000000; stroke:none; fill-opacity:1\" cx=\"1849.71\" cy=\"569.463\" r=\"18\"/>\n",
       "<circle clip-path=\"url(#clip0302)\" style=\"fill:#009af9; stroke:none; fill-opacity:1\" cx=\"1849.71\" cy=\"569.463\" r=\"14\"/>\n",
       "<circle clip-path=\"url(#clip0302)\" style=\"fill:#000000; stroke:none; fill-opacity:1\" cx=\"1872.49\" cy=\"533.611\" r=\"18\"/>\n",
       "<circle clip-path=\"url(#clip0302)\" style=\"fill:#009af9; stroke:none; fill-opacity:1\" cx=\"1872.49\" cy=\"533.611\" r=\"14\"/>\n",
       "<circle clip-path=\"url(#clip0302)\" style=\"fill:#000000; stroke:none; fill-opacity:1\" cx=\"1895.27\" cy=\"513.608\" r=\"18\"/>\n",
       "<circle clip-path=\"url(#clip0302)\" style=\"fill:#009af9; stroke:none; fill-opacity:1\" cx=\"1895.27\" cy=\"513.608\" r=\"14\"/>\n",
       "<circle clip-path=\"url(#clip0302)\" style=\"fill:#000000; stroke:none; fill-opacity:1\" cx=\"1918.05\" cy=\"501.901\" r=\"18\"/>\n",
       "<circle clip-path=\"url(#clip0302)\" style=\"fill:#009af9; stroke:none; fill-opacity:1\" cx=\"1918.05\" cy=\"501.901\" r=\"14\"/>\n",
       "<circle clip-path=\"url(#clip0302)\" style=\"fill:#000000; stroke:none; fill-opacity:1\" cx=\"1940.83\" cy=\"466.653\" r=\"18\"/>\n",
       "<circle clip-path=\"url(#clip0302)\" style=\"fill:#009af9; stroke:none; fill-opacity:1\" cx=\"1940.83\" cy=\"466.653\" r=\"14\"/>\n",
       "<circle clip-path=\"url(#clip0302)\" style=\"fill:#000000; stroke:none; fill-opacity:1\" cx=\"1963.61\" cy=\"434.72\" r=\"18\"/>\n",
       "<circle clip-path=\"url(#clip0302)\" style=\"fill:#009af9; stroke:none; fill-opacity:1\" cx=\"1963.61\" cy=\"434.72\" r=\"14\"/>\n",
       "<circle clip-path=\"url(#clip0302)\" style=\"fill:#000000; stroke:none; fill-opacity:1\" cx=\"1986.39\" cy=\"420.569\" r=\"18\"/>\n",
       "<circle clip-path=\"url(#clip0302)\" style=\"fill:#009af9; stroke:none; fill-opacity:1\" cx=\"1986.39\" cy=\"420.569\" r=\"14\"/>\n",
       "<circle clip-path=\"url(#clip0302)\" style=\"fill:#000000; stroke:none; fill-opacity:1\" cx=\"2009.17\" cy=\"378.498\" r=\"18\"/>\n",
       "<circle clip-path=\"url(#clip0302)\" style=\"fill:#009af9; stroke:none; fill-opacity:1\" cx=\"2009.17\" cy=\"378.498\" r=\"14\"/>\n",
       "<circle clip-path=\"url(#clip0302)\" style=\"fill:#000000; stroke:none; fill-opacity:1\" cx=\"2031.95\" cy=\"356.113\" r=\"18\"/>\n",
       "<circle clip-path=\"url(#clip0302)\" style=\"fill:#009af9; stroke:none; fill-opacity:1\" cx=\"2031.95\" cy=\"356.113\" r=\"14\"/>\n",
       "<circle clip-path=\"url(#clip0302)\" style=\"fill:#000000; stroke:none; fill-opacity:1\" cx=\"2054.73\" cy=\"356.944\" r=\"18\"/>\n",
       "<circle clip-path=\"url(#clip0302)\" style=\"fill:#009af9; stroke:none; fill-opacity:1\" cx=\"2054.73\" cy=\"356.944\" r=\"14\"/>\n",
       "<circle clip-path=\"url(#clip0302)\" style=\"fill:#000000; stroke:none; fill-opacity:1\" cx=\"2077.51\" cy=\"271.772\" r=\"18\"/>\n",
       "<circle clip-path=\"url(#clip0302)\" style=\"fill:#009af9; stroke:none; fill-opacity:1\" cx=\"2077.51\" cy=\"271.772\" r=\"14\"/>\n",
       "<circle clip-path=\"url(#clip0302)\" style=\"fill:#000000; stroke:none; fill-opacity:1\" cx=\"2100.29\" cy=\"298.644\" r=\"18\"/>\n",
       "<circle clip-path=\"url(#clip0302)\" style=\"fill:#009af9; stroke:none; fill-opacity:1\" cx=\"2100.29\" cy=\"298.644\" r=\"14\"/>\n",
       "<circle clip-path=\"url(#clip0302)\" style=\"fill:#000000; stroke:none; fill-opacity:1\" cx=\"2123.07\" cy=\"261.694\" r=\"18\"/>\n",
       "<circle clip-path=\"url(#clip0302)\" style=\"fill:#009af9; stroke:none; fill-opacity:1\" cx=\"2123.07\" cy=\"261.694\" r=\"14\"/>\n",
       "<circle clip-path=\"url(#clip0302)\" style=\"fill:#000000; stroke:none; fill-opacity:1\" cx=\"2145.85\" cy=\"187.045\" r=\"18\"/>\n",
       "<circle clip-path=\"url(#clip0302)\" style=\"fill:#009af9; stroke:none; fill-opacity:1\" cx=\"2145.85\" cy=\"187.045\" r=\"14\"/>\n",
       "<circle clip-path=\"url(#clip0302)\" style=\"fill:#000000; stroke:none; fill-opacity:1\" cx=\"2168.63\" cy=\"218.339\" r=\"18\"/>\n",
       "<circle clip-path=\"url(#clip0302)\" style=\"fill:#009af9; stroke:none; fill-opacity:1\" cx=\"2168.63\" cy=\"218.339\" r=\"14\"/>\n",
       "<circle clip-path=\"url(#clip0302)\" style=\"fill:#000000; stroke:none; fill-opacity:1\" cx=\"2191.41\" cy=\"136.563\" r=\"18\"/>\n",
       "<circle clip-path=\"url(#clip0302)\" style=\"fill:#009af9; stroke:none; fill-opacity:1\" cx=\"2191.41\" cy=\"136.563\" r=\"14\"/>\n",
       "<circle clip-path=\"url(#clip0302)\" style=\"fill:#000000; stroke:none; fill-opacity:1\" cx=\"2214.19\" cy=\"132.815\" r=\"18\"/>\n",
       "<circle clip-path=\"url(#clip0302)\" style=\"fill:#009af9; stroke:none; fill-opacity:1\" cx=\"2214.19\" cy=\"132.815\" r=\"14\"/>\n",
       "<circle clip-path=\"url(#clip0302)\" style=\"fill:#000000; stroke:none; fill-opacity:1\" cx=\"2236.97\" cy=\"131.358\" r=\"18\"/>\n",
       "<circle clip-path=\"url(#clip0302)\" style=\"fill:#009af9; stroke:none; fill-opacity:1\" cx=\"2236.97\" cy=\"131.358\" r=\"14\"/>\n",
       "<circle clip-path=\"url(#clip0302)\" style=\"fill:#000000; stroke:none; fill-opacity:1\" cx=\"2259.75\" cy=\"88.4582\" r=\"18\"/>\n",
       "<circle clip-path=\"url(#clip0302)\" style=\"fill:#009af9; stroke:none; fill-opacity:1\" cx=\"2259.75\" cy=\"88.4582\" r=\"14\"/>\n",
       "<polyline clip-path=\"url(#clip0302)\" style=\"stroke:#e26f46; stroke-width:4; stroke-opacity:1; fill:none\" points=\"\n",
       "  209.52,1457.15 232.3,1453.98 255.081,1450.56 277.861,1446.87 300.641,1442.93 323.422,1438.73 346.202,1434.27 368.982,1429.54 391.763,1424.56 414.543,1419.31 \n",
       "  437.324,1413.81 460.104,1408.04 482.884,1402.01 505.665,1395.71 528.445,1389.15 551.225,1382.33 574.006,1375.24 596.786,1367.89 619.566,1360.28 642.347,1352.4 \n",
       "  665.127,1344.25 687.908,1335.84 710.688,1327.16 733.468,1318.22 756.249,1309.01 779.029,1299.53 801.809,1289.78 824.59,1279.77 847.37,1269.48 870.15,1258.93 \n",
       "  892.931,1248.1 915.711,1237.01 938.492,1225.65 961.272,1214.02 984.052,1202.11 1006.83,1189.94 1029.61,1177.49 1052.39,1164.77 1075.17,1151.78 1097.95,1138.51 \n",
       "  1120.73,1124.97 1143.51,1111.16 1166.3,1097.07 1189.08,1082.71 1211.86,1068.08 1234.64,1053.17 1257.42,1037.98 1280.2,1022.52 1302.98,1006.78 1325.76,990.763 \n",
       "  1348.54,974.47 1371.32,957.9 1394.1,941.051 1416.88,923.925 1439.66,906.519 1462.44,888.835 1485.22,870.871 1508,852.627 1530.78,834.103 1553.56,815.299 \n",
       "  1576.34,796.213 1599.12,776.846 1621.9,757.197 1644.68,737.266 1667.46,717.052 1690.24,696.555 1713.02,675.775 1735.8,654.711 1758.58,633.364 1781.37,611.731 \n",
       "  1804.15,589.814 1826.93,567.611 1849.71,545.123 1872.49,522.349 1895.27,499.288 1918.05,475.941 1940.83,452.306 1963.61,428.384 1986.39,404.174 2009.17,379.675 \n",
       "  2031.95,354.888 2054.73,329.811 2077.51,304.445 2100.29,278.789 2123.07,252.843 2145.85,226.606 2168.63,200.078 2191.41,173.258 2214.19,146.147 2236.97,118.744 \n",
       "  2259.75,91.0474 \n",
       "  \"/>\n",
       "<polygon clip-path=\"url(#clip0300)\" points=\"\n",
       "1958.43,312.204 2249.26,312.204 2249.26,130.764 1958.43,130.764 \n",
       "  \" fill=\"#ffffff\" fill-rule=\"evenodd\" fill-opacity=\"1\"/>\n",
       "<polyline clip-path=\"url(#clip0300)\" style=\"stroke:#000000; stroke-width:4; stroke-opacity:1; fill:none\" points=\"\n",
       "  1958.43,312.204 2249.26,312.204 2249.26,130.764 1958.43,130.764 1958.43,312.204 \n",
       "  \"/>\n",
       "<circle clip-path=\"url(#clip0300)\" style=\"fill:#000000; stroke:none; fill-opacity:1\" cx=\"2066.43\" cy=\"191.244\" r=\"25\"/>\n",
       "<circle clip-path=\"url(#clip0300)\" style=\"fill:#009af9; stroke:none; fill-opacity:1\" cx=\"2066.43\" cy=\"191.244\" r=\"21\"/>\n",
       "<g clip-path=\"url(#clip0300)\">\n",
       "<text style=\"fill:#000000; fill-opacity:1; font-family:Arial,Helvetica Neue,Helvetica,sans-serif; font-size:48px; text-anchor:start;\" transform=\"rotate(0, 2150.43, 208.744)\" x=\"2150.43\" y=\"208.744\">y1</text>\n",
       "</g>\n",
       "<polyline clip-path=\"url(#clip0300)\" style=\"stroke:#e26f46; stroke-width:4; stroke-opacity:1; fill:none\" points=\"\n",
       "  1982.43,251.724 2126.43,251.724 \n",
       "  \"/>\n",
       "<g clip-path=\"url(#clip0300)\">\n",
       "<text style=\"fill:#000000; fill-opacity:1; font-family:Arial,Helvetica Neue,Helvetica,sans-serif; font-size:48px; text-anchor:start;\" transform=\"rotate(0, 2150.43, 269.224)\" x=\"2150.43\" y=\"269.224\">y2</text>\n",
       "</g>\n",
       "</svg>\n"
      ]
     },
     "execution_count": 12,
     "metadata": {},
     "output_type": "execute_result"
    }
   ],
   "source": [
    "scatter(dat_x',dat_y')\n",
    "plot!(dat_x',f(dat_x,P)')"
   ]
  },
  {
   "cell_type": "markdown",
   "metadata": {},
   "source": [
    "## Why do we want to do this?\n"
   ]
  },
  {
   "cell_type": "code",
   "execution_count": 13,
   "metadata": {},
   "outputs": [],
   "source": [
    "using StaticArrays"
   ]
  },
  {
   "cell_type": "code",
   "execution_count": 14,
   "metadata": {},
   "outputs": [
    {
     "data": {
      "text/plain": [
       "4-element SArray{Tuple{4},Float64,1,4}:\n",
       " 0.03399284265980596  \n",
       " 0.0913569201692656   \n",
       " 0.0004622040824610041\n",
       " 5.253517563007837    "
      ]
     },
     "execution_count": 14,
     "metadata": {},
     "output_type": "execute_result"
    }
   ],
   "source": [
    "ps = SVector(P...)"
   ]
  },
  {
   "cell_type": "code",
   "execution_count": 22,
   "metadata": {},
   "outputs": [
    {
     "data": {
      "text/plain": [
       "f_frz (generic function with 1 method)"
      ]
     },
     "execution_count": 22,
     "metadata": {},
     "output_type": "execute_result"
    }
   ],
   "source": [
    "@inline @eval f_frz(x::Real) = f(x,$ps)"
   ]
  },
  {
   "cell_type": "code",
   "execution_count": 24,
   "metadata": {},
   "outputs": [
    {
     "data": {
      "text/plain": [
       "CodeInfo(\n",
       "\u001b[90m1 ─\u001b[39m %1 = 1:3\n",
       "\u001b[90m│  \u001b[39m %2 = (Base.getindex)(P, %1)\n",
       "\u001b[90m│  \u001b[39m %3 = (Base.adjoint)(%2)\n",
       "\u001b[90m│  \u001b[39m %4 = (Main.poly)(x)\n",
       "\u001b[90m│  \u001b[39m %5 = %3 * %4\n",
       "\u001b[90m│  \u001b[39m %6 = (Base.getindex)(P, 4)\n",
       "\u001b[90m│  \u001b[39m %7 = (Base.broadcasted)(Main.:+, %5, %6)\n",
       "\u001b[90m│  \u001b[39m %8 = (Base.materialize)(%7)\n",
       "\u001b[90m└──\u001b[39m      return %8\n",
       ")"
      ]
     },
     "execution_count": 24,
     "metadata": {},
     "output_type": "execute_result"
    }
   ],
   "source": [
    "@code_lowered f(1.0,ps)"
   ]
  },
  {
   "cell_type": "code",
   "execution_count": 17,
   "metadata": {},
   "outputs": [
    {
     "data": {
      "text/plain": [
       "4-element Array{Float64,1}:\n",
       " 0.03399284265980596  \n",
       " 0.0913569201692656   \n",
       " 0.0004622040824610041\n",
       " 5.253517563007837    "
      ]
     },
     "execution_count": 17,
     "metadata": {},
     "output_type": "execute_result"
    }
   ],
   "source": [
    "pf=reshape(P,(:,))"
   ]
  },
  {
   "cell_type": "code",
   "execution_count": 18,
   "metadata": {},
   "outputs": [
    {
     "data": {
      "text/plain": [
       "CodeInfo(\n",
       "\u001b[90m1 ─\u001b[39m %1 = 1:3\n",
       "\u001b[90m│  \u001b[39m %2 = (Base.getindex)(P, %1)\n",
       "\u001b[90m│  \u001b[39m %3 = (Base.adjoint)(%2)\n",
       "\u001b[90m│  \u001b[39m %4 = (Main.poly)(x)\n",
       "\u001b[90m│  \u001b[39m %5 = %3 * %4\n",
       "\u001b[90m│  \u001b[39m %6 = (Base.getindex)(P, 4)\n",
       "\u001b[90m│  \u001b[39m %7 = (Base.broadcasted)(Main.:+, %5, %6)\n",
       "\u001b[90m│  \u001b[39m %8 = (Base.materialize)(%7)\n",
       "\u001b[90m└──\u001b[39m      return %8\n",
       ")"
      ]
     },
     "execution_count": 18,
     "metadata": {},
     "output_type": "execute_result"
    }
   ],
   "source": [
    "@code_lowered f(1.0, pf)"
   ]
  },
  {
   "cell_type": "markdown",
   "metadata": {},
   "source": [
    "Ideally, we would want to backward differentiate the loss because it's more efficient when $N_{outputs} \\ll N_{inputs}$. I'm note sure which algorithm would be better for the derivative of the gradient; probably forward differentiation. However, Zygote still has trouble forward differentiating something that was backward differentiated:"
   ]
  },
  {
   "cell_type": "code",
   "execution_count": 19,
   "metadata": {},
   "outputs": [
    {
     "ename": "MethodError",
     "evalue": "MethodError: no method matching (::Zygote.Jnew{ForwardDiff.Dual{Nothing,Float64,4},Nothing,false})(::ForwardDiff.Dual{Nothing,Float64,4})\nClosest candidates are:\n  Jnew(!Matched::Union{Nothing, RefValue, NamedTuple}) where {T, G} at /Users/afq/.julia/packages/Zygote/p7pxY/src/lib/lib.jl:218",
     "output_type": "error",
     "traceback": [
      "MethodError: no method matching (::Zygote.Jnew{ForwardDiff.Dual{Nothing,Float64,4},Nothing,false})(::ForwardDiff.Dual{Nothing,Float64,4})\nClosest candidates are:\n  Jnew(!Matched::Union{Nothing, RefValue, NamedTuple}) where {T, G} at /Users/afq/.julia/packages/Zygote/p7pxY/src/lib/lib.jl:218",
      "",
      "Stacktrace:",
      " [1] (::getfield(Zygote, Symbol(\"##351#back#187\")){Zygote.Jnew{ForwardDiff.Dual{Nothing,Float64,4},Nothing,false}})(::ForwardDiff.Dual{Nothing,Float64,4}) at /Users/afq/.julia/packages/Zygote/p7pxY/src/lib/grad.jl:46",
      " [2] Type at /Users/afq/.julia/packages/ForwardDiff/N0wMF/src/dual.jl:19 [inlined]",
      " [3] (::typeof(∂(ForwardDiff.Dual{Nothing,Float64,4})))(::ForwardDiff.Dual{Nothing,Float64,4}) at /Users/afq/.julia/packages/Zygote/p7pxY/src/compiler/interface2.jl:0",
      " [4] Type at /Users/afq/.julia/packages/ForwardDiff/N0wMF/src/dual.jl:55 [inlined]",
      " [5] literal_pow at /Users/afq/.julia/packages/ForwardDiff/N0wMF/src/dual.jl:477 [inlined]",
      " [6] (::getfield(Zygote, Symbol(\"##1052#1059\")))(::typeof(∂(Base.literal_pow)), ::ForwardDiff.Dual{Nothing,Float64,4}) at /Users/afq/.julia/packages/Zygote/p7pxY/src/lib/broadcast.jl:86",
      " [7] iterate at ./generator.jl:36 [inlined]",
      " [8] collect(::Base.Generator{Base.Iterators.Zip{Tuple{Array{typeof(∂(Base.literal_pow)),2},Zygote.FillArray{ForwardDiff.Dual{Nothing,Float64,4},2}}},getfield(Base, Symbol(\"##3#4\")){getfield(Zygote, Symbol(\"##1052#1059\"))}}) at ./array.jl:606",
      " [9] map at ./abstractarray.jl:2091 [inlined]",
      " [10] (::getfield(Zygote, Symbol(\"##1051#1058\")){Tuple{Base.RefValue{typeof(^)},Array{ForwardDiff.Dual{Nothing,Float64,4},2},Base.RefValue{Val{2}}},Val{4},Array{typeof(∂(Base.literal_pow)),2}})(::Zygote.FillArray{ForwardDiff.Dual{Nothing,Float64,4},2}) at /Users/afq/.julia/packages/Zygote/p7pxY/src/lib/broadcast.jl:86",
      " [11] (::getfield(Zygote, Symbol(\"##3020#back#1062\")){getfield(Zygote, Symbol(\"##1051#1058\")){Tuple{Base.RefValue{typeof(^)},Array{ForwardDiff.Dual{Nothing,Float64,4},2},Base.RefValue{Val{2}}},Val{4},Array{typeof(∂(Base.literal_pow)),2}}})(::Zygote.FillArray{ForwardDiff.Dual{Nothing,Float64,4},2}) at /Users/afq/.julia/packages/Zygote/p7pxY/src/lib/grad.jl:46",
      " [12] (::getfield(Zygote, Symbol(\"##201#202\")){Zygote.Context,Tuple{Nothing,Nothing,Nothing,Nothing,Zygote.Key,Nothing},Zygote.Key,getfield(Zygote, Symbol(\"##3020#back#1062\")){getfield(Zygote, Symbol(\"##1051#1058\")){Tuple{Base.RefValue{typeof(^)},Array{ForwardDiff.Dual{Nothing,Float64,4},2},Base.RefValue{Val{2}}},Val{4},Array{typeof(∂(Base.literal_pow)),2}}}})(::Zygote.FillArray{ForwardDiff.Dual{Nothing,Float64,4},2}) at /Users/afq/.julia/packages/Zygote/p7pxY/src/lib/lib.jl:270",
      " [13] (::getfield(Zygote, Symbol(\"##164#165\")){getfield(Zygote, Symbol(\"##201#202\")){Zygote.Context,Tuple{Nothing,Nothing,Nothing,Nothing,Zygote.Key,Nothing},Zygote.Key,getfield(Zygote, Symbol(\"##3020#back#1062\")){getfield(Zygote, Symbol(\"##1051#1058\")){Tuple{Base.RefValue{typeof(^)},Array{ForwardDiff.Dual{Nothing,Float64,4},2},Base.RefValue{Val{2}}},Val{4},Array{typeof(∂(Base.literal_pow)),2}}}},Tuple{NTuple{4,Nothing},Tuple{Nothing}}})(::Zygote.FillArray{ForwardDiff.Dual{Nothing,Float64,4},2}) at /Users/afq/.julia/packages/Zygote/p7pxY/src/lib/lib.jl:109",
      " [14] (::getfield(Zygote, Symbol(\"##296#back#166\")){getfield(Zygote, Symbol(\"##164#165\")){getfield(Zygote, Symbol(\"##201#202\")){Zygote.Context,Tuple{Nothing,Nothing,Nothing,Nothing,Zygote.Key,Nothing},Zygote.Key,getfield(Zygote, Symbol(\"##3020#back#1062\")){getfield(Zygote, Symbol(\"##1051#1058\")){Tuple{Base.RefValue{typeof(^)},Array{ForwardDiff.Dual{Nothing,Float64,4},2},Base.RefValue{Val{2}}},Val{4},Array{typeof(∂(Base.literal_pow)),2}}}},Tuple{NTuple{4,Nothing},Tuple{Nothing}}}})(::Zygote.FillArray{ForwardDiff.Dual{Nothing,Float64,4},2}) at /Users/afq/.julia/packages/Zygote/p7pxY/src/lib/grad.jl:46",
      " [15] (::getfield(Zygote, Symbol(\"##201#202\")){Zygote.Context,NTuple{4,Nothing},Zygote.Key,getfield(Zygote, Symbol(\"##296#back#166\")){getfield(Zygote, Symbol(\"##164#165\")){getfield(Zygote, Symbol(\"##201#202\")){Zygote.Context,Tuple{Nothing,Nothing,Nothing,Nothing,Zygote.Key,Nothing},Zygote.Key,getfield(Zygote, Symbol(\"##3020#back#1062\")){getfield(Zygote, Symbol(\"##1051#1058\")){Tuple{Base.RefValue{typeof(^)},Array{ForwardDiff.Dual{Nothing,Float64,4},2},Base.RefValue{Val{2}}},Val{4},Array{typeof(∂(Base.literal_pow)),2}}}},Tuple{NTuple{4,Nothing},Tuple{Nothing}}}}})(::Nothing) at /Users/afq/.julia/packages/Zygote/p7pxY/src/lib/lib.jl:270",
      " [16] broadcasted at ./broadcast.jl:1167 [inlined]",
      " [17] mse at /Users/afq/.julia/packages/Flux/lz7S9/src/layers/stateless.jl:5 [inlined]",
      " [18] (::typeof(∂(Flux.mse)))(::ForwardDiff.Dual{Nothing,Float64,4}) at /Users/afq/.julia/packages/Zygote/p7pxY/src/compiler/interface2.jl:0",
      " [19] loss at ./In[4]:8 [inlined]",
      " [20] (::typeof(∂(loss)))(::ForwardDiff.Dual{Nothing,Float64,4}) at /Users/afq/.julia/packages/Zygote/p7pxY/src/compiler/interface2.jl:0",
      " [21] #7 at ./In[19]:1 [inlined]",
      " [22] (::typeof(∂(getfield(Main, Symbol(\"##7#8\"))())))(::ForwardDiff.Dual{Nothing,Float64,4}) at /Users/afq/.julia/packages/Zygote/p7pxY/src/compiler/interface2.jl:0",
      " [23] (::getfield(Zygote, Symbol(\"##71#72\")){Zygote.Context,Tuple{Nothing,Zygote.Key},typeof(∂(getfield(Main, Symbol(\"##7#8\"))()))})(::ForwardDiff.Dual{Nothing,Float64,4}) at /Users/afq/.julia/packages/Zygote/p7pxY/src/compiler/interface.jl:44",
      " [24] (::getfield(Zygote, Symbol(\"##73#74\")){getfield(Zygote, Symbol(\"##71#72\")){Zygote.Context,Tuple{Nothing,Zygote.Key},typeof(∂(getfield(Main, Symbol(\"##7#8\"))()))}})(::ForwardDiff.Dual{Nothing,Float64,4}) at /Users/afq/.julia/packages/Zygote/p7pxY/src/compiler/interface.jl:52",
      " [25] gradient(::Function, ::Array{ForwardDiff.Dual{Nothing,Float64,4},1}) at /Users/afq/.julia/packages/Zygote/p7pxY/src/compiler/interface.jl:61",
      " [26] (::getfield(Zygote, Symbol(\"##1086#1087\")){getfield(Main, Symbol(\"##7#8\"))})(::Array{ForwardDiff.Dual{Nothing,Float64,4},1}) at /Users/afq/.julia/packages/Zygote/p7pxY/src/lib/utils.jl:12",
      " [27] forward_jacobian(::getfield(Zygote, Symbol(\"##1086#1087\")){getfield(Main, Symbol(\"##7#8\"))}, ::Array{Float64,1}, ::Val{4}) at /Users/afq/.julia/packages/Zygote/p7pxY/src/lib/forward.jl:23",
      " [28] forward_jacobian(::Function, ::Array{Float64,1}) at /Users/afq/.julia/packages/Zygote/p7pxY/src/lib/forward.jl:38",
      " [29] hessian(::Function, ::Array{Float64,1}) at /Users/afq/.julia/packages/Zygote/p7pxY/src/lib/utils.jl:12",
      " [30] top-level scope at In[19]:1"
     ]
    }
   ],
   "source": [
    "Zygote.hessian( (P->loss(dat_x,dat_y, P)), P0 )"
   ]
  },
  {
   "cell_type": "code",
   "execution_count": 20,
   "metadata": {},
   "outputs": [],
   "source": []
  },
  {
   "cell_type": "code",
   "execution_count": null,
   "metadata": {},
   "outputs": [],
   "source": []
  }
 ],
 "metadata": {
  "kernelspec": {
   "display_name": "Julia 1.1.0",
   "language": "julia",
   "name": "julia-1.1"
  },
  "language_info": {
   "file_extension": ".jl",
   "mimetype": "application/julia",
   "name": "julia",
   "version": "1.1.0"
  }
 },
 "nbformat": 4,
 "nbformat_minor": 2
}
