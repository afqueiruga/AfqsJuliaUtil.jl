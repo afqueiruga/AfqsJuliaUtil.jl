{
 "cells": [
  {
   "cell_type": "markdown",
   "metadata": {},
   "source": [
    "# Manipulating Expressions in Julia\n",
    "\n",
    "Let's work through more examples of making expressions.\n",
    "\n",
    "## What's an Expr?\n",
    "\n",
    "Expressions have the head-tail structure that's like M-expressions."
   ]
  },
  {
   "cell_type": "code",
   "execution_count": 12,
   "metadata": {},
   "outputs": [],
   "source": [
    "a=2;\n",
    "b=3;"
   ]
  },
  {
   "cell_type": "code",
   "execution_count": 5,
   "metadata": {},
   "outputs": [
    {
     "data": {
      "text/plain": [
       ":($(Expr(:*, :a, :b)))"
      ]
     },
     "execution_count": 5,
     "metadata": {},
     "output_type": "execute_result"
    }
   ],
   "source": [
    "e = Expr(:*, :a, :b)"
   ]
  },
  {
   "cell_type": "code",
   "execution_count": 6,
   "metadata": {},
   "outputs": [
    {
     "data": {
      "text/plain": [
       ":*"
      ]
     },
     "execution_count": 6,
     "metadata": {},
     "output_type": "execute_result"
    }
   ],
   "source": [
    "e.head"
   ]
  },
  {
   "cell_type": "code",
   "execution_count": 7,
   "metadata": {},
   "outputs": [
    {
     "data": {
      "text/plain": [
       "2-element Array{Any,1}:\n",
       " :a\n",
       " :b"
      ]
     },
     "execution_count": 7,
     "metadata": {},
     "output_type": "execute_result"
    }
   ],
   "source": [
    "e.args"
   ]
  },
  {
   "cell_type": "code",
   "execution_count": 13,
   "metadata": {},
   "outputs": [
    {
     "data": {
      "text/plain": [
       "6"
      ]
     },
     "execution_count": 13,
     "metadata": {},
     "output_type": "execute_result"
    }
   ],
   "source": [
    "eval(e)"
   ]
  },
  {
   "cell_type": "markdown",
   "metadata": {},
   "source": [
    "We can generate that same expression with the `:` quote, but the resulting AST looks different:"
   ]
  },
  {
   "cell_type": "code",
   "execution_count": 14,
   "metadata": {},
   "outputs": [
    {
     "data": {
      "text/plain": [
       ":(a * b)"
      ]
     },
     "execution_count": 14,
     "metadata": {},
     "output_type": "execute_result"
    }
   ],
   "source": [
    "e = :(a*b)"
   ]
  },
  {
   "cell_type": "code",
   "execution_count": 15,
   "metadata": {},
   "outputs": [
    {
     "data": {
      "text/plain": [
       ":call"
      ]
     },
     "execution_count": 15,
     "metadata": {},
     "output_type": "execute_result"
    }
   ],
   "source": [
    "e.head"
   ]
  },
  {
   "cell_type": "code",
   "execution_count": 16,
   "metadata": {},
   "outputs": [
    {
     "data": {
      "text/plain": [
       "3-element Array{Any,1}:\n",
       " :*\n",
       " :a\n",
       " :b"
      ]
     },
     "execution_count": 16,
     "metadata": {},
     "output_type": "execute_result"
    }
   ],
   "source": [
    "e.args"
   ]
  },
  {
   "cell_type": "code",
   "execution_count": 17,
   "metadata": {},
   "outputs": [
    {
     "data": {
      "text/plain": [
       "6"
      ]
     },
     "execution_count": 17,
     "metadata": {},
     "output_type": "execute_result"
    }
   ],
   "source": [
    "eval(e)"
   ]
  },
  {
   "cell_type": "markdown",
   "metadata": {},
   "source": [
    "This shows us how call syntax and infix syntax for operators get's parsed exactly the same way:"
   ]
  },
  {
   "cell_type": "code",
   "execution_count": 18,
   "metadata": {},
   "outputs": [
    {
     "data": {
      "text/plain": [
       ":(a * b)"
      ]
     },
     "execution_count": 18,
     "metadata": {},
     "output_type": "execute_result"
    }
   ],
   "source": [
    "e = :(*(a,b))"
   ]
  },
  {
   "cell_type": "code",
   "execution_count": 19,
   "metadata": {},
   "outputs": [
    {
     "data": {
      "text/plain": [
       ":call"
      ]
     },
     "execution_count": 19,
     "metadata": {},
     "output_type": "execute_result"
    }
   ],
   "source": [
    "e.head"
   ]
  },
  {
   "cell_type": "code",
   "execution_count": 20,
   "metadata": {},
   "outputs": [
    {
     "data": {
      "text/plain": [
       "3-element Array{Any,1}:\n",
       " :*\n",
       " :a\n",
       " :b"
      ]
     },
     "execution_count": 20,
     "metadata": {},
     "output_type": "execute_result"
    }
   ],
   "source": [
    "e.args"
   ]
  },
  {
   "cell_type": "markdown",
   "metadata": {},
   "source": [
    "Looks like by manually creating the `Expr` object, we skipped an extra `:call` node."
   ]
  },
  {
   "cell_type": "markdown",
   "metadata": {},
   "source": [
    "## Putting Expressions together\n",
    "\n",
    "If we want to programatically generate code, we're going to end up with lists and generators of codeblocks. How do we put them together? We'll have to create the data structures manually.\n",
    "\n",
    "Suppose we have two quotes in an array:"
   ]
  },
  {
   "cell_type": "code",
   "execution_count": 21,
   "metadata": {},
   "outputs": [
    {
     "data": {
      "text/plain": [
       "2-element Array{Expr,1}:\n",
       " quote\n",
       "    #= In[21]:3 =#\n",
       "    a = 1\n",
       "end                                        \n",
       " quote\n",
       "    #= In[21]:6 =#\n",
       "    b = 3\n",
       "    #= In[21]:7 =#\n",
       "    println(\"hello\")\n",
       "end"
      ]
     },
     "execution_count": 21,
     "metadata": {},
     "output_type": "execute_result"
    }
   ],
   "source": [
    "quotes = [\n",
    "    quote\n",
    "        a=1\n",
    "    end,\n",
    "    quote\n",
    "        b=3\n",
    "        println(\"hello\")\n",
    "    end\n",
    "]"
   ]
  },
  {
   "cell_type": "markdown",
   "metadata": {},
   "source": [
    "The principal-of-least surprise dictates this should return a new `Expr` by analogy to strings and sets:"
   ]
  },
  {
   "cell_type": "code",
   "execution_count": 3,
   "metadata": {},
   "outputs": [
    {
     "ename": "MethodError",
     "evalue": "MethodError: no method matching *(::Expr, ::Expr)\nClosest candidates are:\n  *(::Any, ::Any, !Matched::Any, !Matched::Any...) at operators.jl:502",
     "output_type": "error",
     "traceback": [
      "MethodError: no method matching *(::Expr, ::Expr)\nClosest candidates are:\n  *(::Any, ::Any, !Matched::Any, !Matched::Any...) at operators.jl:502",
      "",
      "Stacktrace:",
      " [1] top-level scope at In[3]:1"
     ]
    }
   ],
   "source": [
    "quotes[1] * quotes[2]"
   ]
  },
  {
   "cell_type": "markdown",
   "metadata": {},
   "source": [
    "I'm surprised. It took me a few hours to realize there is no support for this seemingly basic operation, and we need to build an expression by manipulating the structures ourselves.\n",
    "\n",
    "Quotes are blocks, and their contents are in the args:"
   ]
  },
  {
   "cell_type": "code",
   "execution_count": 22,
   "metadata": {},
   "outputs": [
    {
     "data": {
      "text/plain": [
       ":block"
      ]
     },
     "execution_count": 22,
     "metadata": {},
     "output_type": "execute_result"
    }
   ],
   "source": [
    "quotes[1].head"
   ]
  },
  {
   "cell_type": "code",
   "execution_count": 23,
   "metadata": {},
   "outputs": [
    {
     "data": {
      "text/plain": [
       "2-element Array{Any,1}:\n",
       " :(#= In[21]:3 =#)\n",
       " :(a = 1)         "
      ]
     },
     "execution_count": 23,
     "metadata": {},
     "output_type": "execute_result"
    }
   ],
   "source": [
    "quotes[1].args"
   ]
  },
  {
   "cell_type": "markdown",
   "metadata": {},
   "source": [
    "Note how quotes include comments.\n",
    "\n",
    "Both quotes are blocks with arrays of expressions. We want to take in two blocks, and return one block."
   ]
  },
  {
   "cell_type": "code",
   "execution_count": 41,
   "metadata": {},
   "outputs": [
    {
     "data": {
      "text/plain": [
       "4-element Array{Any,1}:\n",
       " :(#= In[21]:6 =#)  \n",
       " :(b = 3)           \n",
       " :(#= In[21]:7 =#)  \n",
       " :(println(\"hello\"))"
      ]
     },
     "execution_count": 41,
     "metadata": {},
     "output_type": "execute_result"
    }
   ],
   "source": [
    "quotes[2].args"
   ]
  },
  {
   "cell_type": "code",
   "execution_count": 50,
   "metadata": {},
   "outputs": [
    {
     "data": {
      "text/plain": [
       "2-element Array{Array{Any,1},1}:\n",
       " [:(#= In[21]:3 =#), :(a = 1)]                                        \n",
       " [:(#= In[21]:6 =#), :(b = 3), :(#= In[21]:7 =#), :(println(\"hello\"))]"
      ]
     },
     "execution_count": 50,
     "metadata": {},
     "output_type": "execute_result"
    }
   ],
   "source": [
    "s = [q.args for q in quotes]"
   ]
  },
  {
   "cell_type": "code",
   "execution_count": 51,
   "metadata": {},
   "outputs": [
    {
     "data": {
      "text/plain": [
       "6-element Array{Any,1}:\n",
       " :(#= In[21]:3 =#)  \n",
       " :(a = 1)           \n",
       " :(#= In[21]:6 =#)  \n",
       " :(b = 3)           \n",
       " :(#= In[21]:7 =#)  \n",
       " :(println(\"hello\"))"
      ]
     },
     "execution_count": 51,
     "metadata": {},
     "output_type": "execute_result"
    }
   ],
   "source": [
    "vcat(s...)"
   ]
  },
  {
   "cell_type": "markdown",
   "metadata": {},
   "source": [
    "We can do this as a one-liner using the argument-unpacking syntax `...` (I think it's called \"splatting: in the Julia lingo):"
   ]
  },
  {
   "cell_type": "code",
   "execution_count": 58,
   "metadata": {},
   "outputs": [
    {
     "data": {
      "text/plain": [
       "quote\n",
       "    #= In[21]:3 =#\n",
       "    a = 1\n",
       "    #= In[21]:6 =#\n",
       "    b = 3\n",
       "    #= In[21]:7 =#\n",
       "    println(\"hello\")\n",
       "end"
      ]
     },
     "execution_count": 58,
     "metadata": {},
     "output_type": "execute_result"
    }
   ],
   "source": [
    "e = Expr(:block, vcat([q.args for q in quotes]...)...)"
   ]
  },
  {
   "cell_type": "markdown",
   "metadata": {},
   "source": [
    "One-liners are not necessarily the best, but I'm betting that the `...` is quite fast. Besides, certain parts of metaprogramming does not need to be *fast*, since it's only run once. (Of course, I have some kernels that take up to 10 minutes to generate, but that's the symbolic operations to derive shape functions. I'm hoping Julia can solve that problem.)\n",
    "\n",
    "We can check to make sure this works:"
   ]
  },
  {
   "cell_type": "code",
   "execution_count": 61,
   "metadata": {},
   "outputs": [
    {
     "name": "stdout",
     "output_type": "stream",
     "text": [
      "hello\n",
      "1 3\n"
     ]
    }
   ],
   "source": [
    "eval(e)\n",
    "println(a,\" \",b)"
   ]
  },
  {
   "cell_type": "markdown",
   "metadata": {},
   "source": [
    "What if non-quote expressions are mixed in?"
   ]
  },
  {
   "cell_type": "code",
   "execution_count": 62,
   "metadata": {},
   "outputs": [
    {
     "data": {
      "text/plain": [
       "4-element Array{Expr,1}:\n",
       " quote\n",
       "    #= In[62]:3 =#\n",
       "    a = 12\n",
       "end                                        \n",
       " quote\n",
       "    #= In[62]:6 =#\n",
       "    b = 33\n",
       "    #= In[62]:7 =#\n",
       "    println(\"hello\")\n",
       "end\n",
       " :(println(a + b))                                                              \n",
       " :(c = a * b)                                                                   "
      ]
     },
     "execution_count": 62,
     "metadata": {},
     "output_type": "execute_result"
    }
   ],
   "source": [
    "quotes2 = [\n",
    "    quote\n",
    "        a=12\n",
    "    end,\n",
    "    quote\n",
    "        b=33\n",
    "        println(\"hello\")\n",
    "    end,\n",
    "    :(println(a+b)),\n",
    "    :(c=a*b)\n",
    "]"
   ]
  },
  {
   "cell_type": "code",
   "execution_count": 64,
   "metadata": {},
   "outputs": [
    {
     "data": {
      "text/plain": [
       "quote\n",
       "    #= In[62]:3 =#\n",
       "    a = 12\n",
       "    #= In[62]:6 =#\n",
       "    b = 33\n",
       "    #= In[62]:7 =#\n",
       "    println(\"hello\")\n",
       "    println\n",
       "    a + b\n",
       "    c\n",
       "    a * b\n",
       "end"
      ]
     },
     "execution_count": 64,
     "metadata": {},
     "output_type": "execute_result"
    }
   ],
   "source": [
    "e = Expr(:block, vcat([q.args for q in quotes2]...)...)"
   ]
  },
  {
   "cell_type": "code",
   "execution_count": 65,
   "metadata": {},
   "outputs": [
    {
     "name": "stdout",
     "output_type": "stream",
     "text": [
      "hello\n"
     ]
    },
    {
     "ename": "UndefVarError",
     "evalue": "UndefVarError: c not defined",
     "output_type": "error",
     "traceback": [
      "UndefVarError: c not defined",
      "",
      "Stacktrace:",
      " [1] top-level scope at In[62]:7",
      " [2] eval at ./boot.jl:328 [inlined]",
      " [3] eval(::Expr) at ./client.jl:404",
      " [4] top-level scope at In[65]:1"
     ]
    }
   ],
   "source": [
    "eval(e)"
   ]
  },
  {
   "cell_type": "markdown",
   "metadata": {},
   "source": [
    "Something went wrong because we just stripped the args. We need to add some type-checking on the blocks. The more robust function function unifies expressions and blocks into one block. Let's instead apply a sanitizing step first:"
   ]
  },
  {
   "cell_type": "code",
   "execution_count": 79,
   "metadata": {},
   "outputs": [
    {
     "data": {
      "text/plain": [
       "strip (generic function with 1 method)"
      ]
     },
     "execution_count": 79,
     "metadata": {},
     "output_type": "execute_result"
    }
   ],
   "source": [
    "strip(q::Expr) = (q.head == :block ? q.args : q )"
   ]
  },
  {
   "cell_type": "code",
   "execution_count": 90,
   "metadata": {},
   "outputs": [
    {
     "data": {
      "text/plain": [
       "quote\n",
       "    #= In[62]:3 =#\n",
       "    a = 12\n",
       "    #= In[62]:6 =#\n",
       "    b = 33\n",
       "    #= In[62]:7 =#\n",
       "    println(\"hello\")\n",
       "    println(a + b)\n",
       "    c = a * b\n",
       "end"
      ]
     },
     "execution_count": 90,
     "metadata": {},
     "output_type": "execute_result"
    }
   ],
   "source": [
    "e = Expr(:block, vcat(map(strip, quotes2)...)...)"
   ]
  },
  {
   "cell_type": "markdown",
   "metadata": {},
   "source": [
    "## Putting it together in an unsurprising way."
   ]
  },
  {
   "cell_type": "code",
   "execution_count": 95,
   "metadata": {},
   "outputs": [
    {
     "data": {
      "text/plain": [
       "f (generic function with 1 method)"
      ]
     },
     "execution_count": 95,
     "metadata": {},
     "output_type": "execute_result"
    }
   ],
   "source": [
    "f(args...) = args"
   ]
  },
  {
   "cell_type": "code",
   "execution_count": 97,
   "metadata": {},
   "outputs": [
    {
     "data": {
      "text/plain": [
       "2-element Array{Expr,1}:\n",
       " quote\n",
       "    #= In[21]:3 =#\n",
       "    a = 1\n",
       "end                                        \n",
       " quote\n",
       "    #= In[21]:6 =#\n",
       "    b = 3\n",
       "    #= In[21]:7 =#\n",
       "    println(\"hello\")\n",
       "end"
      ]
     },
     "execution_count": 97,
     "metadata": {},
     "output_type": "execute_result"
    }
   ],
   "source": [
    "f(quotes)[2]"
   ]
  },
  {
   "cell_type": "code",
   "execution_count": 99,
   "metadata": {},
   "outputs": [
    {
     "data": {
      "text/plain": [
       "ExprCat (generic function with 1 method)"
      ]
     },
     "execution_count": 99,
     "metadata": {},
     "output_type": "execute_result"
    }
   ],
   "source": [
    "ExprCat(quotes...) = Expr(:block, vcat([(q.head == :block ? q.args : q ) for q in quotes]...)...)"
   ]
  },
  {
   "cell_type": "markdown",
   "metadata": {},
   "source": [
    "Now we can splat into it:"
   ]
  },
  {
   "cell_type": "code",
   "execution_count": 100,
   "metadata": {},
   "outputs": [
    {
     "data": {
      "text/plain": [
       "quote\n",
       "    #= In[21]:3 =#\n",
       "    a = 1\n",
       "    #= In[21]:6 =#\n",
       "    b = 3\n",
       "    #= In[21]:7 =#\n",
       "    println(\"hello\")\n",
       "end"
      ]
     },
     "execution_count": 100,
     "metadata": {},
     "output_type": "execute_result"
    }
   ],
   "source": [
    "ExprCat(quotes...)"
   ]
  },
  {
   "cell_type": "markdown",
   "metadata": {},
   "source": [
    "But this doesn't work: Should it?"
   ]
  },
  {
   "cell_type": "code",
   "execution_count": 102,
   "metadata": {},
   "outputs": [
    {
     "ename": "ErrorException",
     "evalue": "type Array has no field head",
     "output_type": "error",
     "traceback": [
      "type Array has no field head",
      "",
      "Stacktrace:",
      " [1] getproperty(::Any, ::Symbol) at ./sysimg.jl:18",
      " [2] (::getfield(Main, Symbol(\"##53#54\")))(::Array{Expr,1}) at ./none:0",
      " [3] collect(::Base.Generator{Tuple{Array{Expr,1}},getfield(Main, Symbol(\"##53#54\"))}) at ./generator.jl:47",
      " [4] ExprCat(::Array{Expr,1}) at ./In[99]:1",
      " [5] top-level scope at In[102]:1"
     ]
    }
   ],
   "source": [
    "ExprCat(quotes)"
   ]
  },
  {
   "cell_type": "markdown",
   "metadata": {},
   "source": [
    "We can add an array override to help with that principal of least surprise. It makes sense to use arrays of expressions/quotes interchangably with explicit it quote structs internally."
   ]
  },
  {
   "cell_type": "code",
   "execution_count": 128,
   "metadata": {},
   "outputs": [
    {
     "data": {
      "text/plain": [
       "ExprCat (generic function with 3 methods)"
      ]
     },
     "execution_count": 128,
     "metadata": {},
     "output_type": "execute_result"
    }
   ],
   "source": [
    "sanitize_quotes(q::Expr) = (q.head == :block ? q.args : q )\n",
    "ExprCat(quotes::Array) = ExprCat(quotes...)\n",
    "ExprCat(quotes...) = Expr(:block, vcat(map(sanitize_quotes,quotes)...)...)"
   ]
  },
  {
   "cell_type": "code",
   "execution_count": 118,
   "metadata": {},
   "outputs": [
    {
     "data": {
      "text/plain": [
       "quote\n",
       "    #= In[21]:3 =#\n",
       "    a = 1\n",
       "    #= In[21]:6 =#\n",
       "    b = 3\n",
       "    #= In[21]:7 =#\n",
       "    println(\"hello\")\n",
       "end"
      ]
     },
     "execution_count": 118,
     "metadata": {},
     "output_type": "execute_result"
    }
   ],
   "source": [
    "ExprCat(quotes)"
   ]
  },
  {
   "cell_type": "code",
   "execution_count": 119,
   "metadata": {},
   "outputs": [
    {
     "data": {
      "text/plain": [
       "quote\n",
       "    #= In[62]:3 =#\n",
       "    a = 12\n",
       "    #= In[62]:6 =#\n",
       "    b = 33\n",
       "    #= In[62]:7 =#\n",
       "    println(\"hello\")\n",
       "    println(a + b)\n",
       "    c = a * b\n",
       "end"
      ]
     },
     "execution_count": 119,
     "metadata": {},
     "output_type": "execute_result"
    }
   ],
   "source": [
    "ExprCat(quotes2)"
   ]
  },
  {
   "cell_type": "markdown",
   "metadata": {},
   "source": [
    "## Maximizing unsurprise\n",
    "\n",
    "Quotes **should** join together exactly like Strings. So,"
   ]
  },
  {
   "cell_type": "code",
   "execution_count": 111,
   "metadata": {},
   "outputs": [
    {
     "data": {
      "text/plain": [
       "* (generic function with 347 methods)"
      ]
     },
     "execution_count": 111,
     "metadata": {},
     "output_type": "execute_result"
    }
   ],
   "source": [
    "import Base.*\n",
    "*(quote1::Expr,quote2::Expr) = ExprCat(quote1,quote2)"
   ]
  },
  {
   "cell_type": "markdown",
   "metadata": {},
   "source": [
    "We can also include typematching into varargs:"
   ]
  },
  {
   "cell_type": "code",
   "execution_count": 126,
   "metadata": {},
   "outputs": [
    {
     "data": {
      "text/plain": [
       "* (generic function with 348 methods)"
      ]
     },
     "execution_count": 126,
     "metadata": {},
     "output_type": "execute_result"
    }
   ],
   "source": [
    "*(quotes::Expr...) = ExprCat(quotes...)"
   ]
  },
  {
   "cell_type": "markdown",
   "metadata": {},
   "source": [
    "That's a lot of methods using this name! Maybe we don't want to do this, but it gives us the most stylistically-Julia way of joining expressions:"
   ]
  },
  {
   "cell_type": "code",
   "execution_count": 112,
   "metadata": {},
   "outputs": [
    {
     "data": {
      "text/plain": [
       "quote\n",
       "    #= In[21]:3 =#\n",
       "    a = 1\n",
       "    #= In[21]:6 =#\n",
       "    b = 3\n",
       "    #= In[21]:7 =#\n",
       "    println(\"hello\")\n",
       "end"
      ]
     },
     "execution_count": 112,
     "metadata": {},
     "output_type": "execute_result"
    }
   ],
   "source": [
    "quotes[1] * quotes[2]"
   ]
  },
  {
   "cell_type": "code",
   "execution_count": 114,
   "metadata": {},
   "outputs": [
    {
     "data": {
      "text/plain": [
       "quote\n",
       "    #= In[62]:3 =#\n",
       "    a = 12\n",
       "    #= In[62]:6 =#\n",
       "    b = 33\n",
       "    #= In[62]:7 =#\n",
       "    println(\"hello\")\n",
       "    println(a + b)\n",
       "    c = a * b\n",
       "end"
      ]
     },
     "execution_count": 114,
     "metadata": {},
     "output_type": "execute_result"
    }
   ],
   "source": [
    "foldr(*, quotes2)"
   ]
  },
  {
   "cell_type": "code",
   "execution_count": 115,
   "metadata": {},
   "outputs": [
    {
     "data": {
      "text/plain": [
       "quote\n",
       "    #= In[21]:3 =#\n",
       "    a = 1\n",
       "    #= In[21]:6 =#\n",
       "    b = 3\n",
       "    #= In[21]:7 =#\n",
       "    println(\"hello\")\n",
       "    println(a + b)\n",
       "end"
      ]
     },
     "execution_count": 115,
     "metadata": {},
     "output_type": "execute_result"
    }
   ],
   "source": [
    "quotes[1] * quotes[2] * quotes2[3]"
   ]
  },
  {
   "cell_type": "markdown",
   "metadata": {},
   "source": [
    "We can splat into the operator with our varargs typing, but I think any more aggressive overloading would be too reckless."
   ]
  },
  {
   "cell_type": "code",
   "execution_count": 127,
   "metadata": {},
   "outputs": [
    {
     "data": {
      "text/plain": [
       "quote\n",
       "    #= In[62]:3 =#\n",
       "    a = 12\n",
       "    #= In[62]:6 =#\n",
       "    b = 33\n",
       "    #= In[62]:7 =#\n",
       "    println(\"hello\")\n",
       "    println(a + b)\n",
       "    c = a * b\n",
       "end"
      ]
     },
     "execution_count": 127,
     "metadata": {},
     "output_type": "execute_result"
    }
   ],
   "source": [
    "*(quotes2...)"
   ]
  },
  {
   "cell_type": "markdown",
   "metadata": {},
   "source": [
    "## Summing it all up:\n",
    "\n",
    "We maximized co-suprise and came up with the must Julia-esque way to join together expressions into blocks. It's all just 6 lines code, which are now in the accompanyng Julia module."
   ]
  },
  {
   "cell_type": "code",
   "execution_count": 129,
   "metadata": {},
   "outputs": [
    {
     "data": {
      "text/plain": [
       "* (generic function with 348 methods)"
      ]
     },
     "execution_count": 129,
     "metadata": {},
     "output_type": "execute_result"
    }
   ],
   "source": [
    "sanitize_quotes(q::Expr) = (q.head == :block ? q.args : q )\n",
    "ExprCat(quotes::Array) = ExprCat(quotes...)\n",
    "ExprCat(quotes...) = Expr(:block, vcat(map(sanitize_quotes,quotes)...)...)\n",
    "import Base.*\n",
    "*(quote1::Expr,quote2::Expr) = ExprCat(quote1,quote2)\n",
    "*(quotes::Expr...) = ExprCat(quotes...)"
   ]
  }
 ],
 "metadata": {
  "kernelspec": {
   "display_name": "Julia 1.1.0",
   "language": "julia",
   "name": "julia-1.1"
  },
  "language_info": {
   "file_extension": ".jl",
   "mimetype": "application/julia",
   "name": "julia",
   "version": "1.1.0"
  }
 },
 "nbformat": 4,
 "nbformat_minor": 2
}
