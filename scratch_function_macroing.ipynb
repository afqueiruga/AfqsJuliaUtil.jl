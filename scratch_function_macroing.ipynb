{
 "cells": [
  {
   "cell_type": "code",
   "execution_count": 8,
   "metadata": {},
   "outputs": [
    {
     "name": "stderr",
     "output_type": "stream",
     "text": [
      "WARNING: replacing module AfqsJuliaUtil.\n"
     ]
    },
    {
     "data": {
      "text/plain": [
       "Main.AfqsJuliaUtil"
      ]
     },
     "execution_count": 8,
     "metadata": {},
     "output_type": "execute_result"
    }
   ],
   "source": [
    "include(\"./AfqsJuliaUtil.jl\")"
   ]
  },
  {
   "cell_type": "code",
   "execution_count": 10,
   "metadata": {},
   "outputs": [],
   "source": [
    "using .AfqsJuliaUtil"
   ]
  },
  {
   "cell_type": "code",
   "execution_count": 56,
   "metadata": {},
   "outputs": [
    {
     "data": {
      "text/plain": [
       "19-element Array{Any,1}:\n",
       " [1]      \n",
       " [2]      \n",
       " [3]      \n",
       " [1, 1]   \n",
       " [1, 2]   \n",
       " [1, 3]   \n",
       " [2, 2]   \n",
       " [2, 3]   \n",
       " [3, 3]   \n",
       " [1, 1, 1]\n",
       " [1, 1, 2]\n",
       " [1, 1, 3]\n",
       " [1, 2, 2]\n",
       " [1, 2, 3]\n",
       " [1, 3, 3]\n",
       " [2, 2, 2]\n",
       " [2, 2, 3]\n",
       " [2, 3, 3]\n",
       " [3, 3, 3]"
      ]
     },
     "execution_count": 56,
     "metadata": {},
     "output_type": "execute_result"
    }
   ],
   "source": [
    "terms = polynomial_indices(3,3)"
   ]
  },
  {
   "cell_type": "code",
   "execution_count": 55,
   "metadata": {},
   "outputs": [
    {
     "data": {
      "text/plain": [
       "19-element Array{Expr,1}:\n",
       " :(lhs = (*)(x[1]))            \n",
       " :(lhs = (*)(x[2]))            \n",
       " :(lhs = (*)(x[3]))            \n",
       " :(lhs = (*)(x[1], x[1]))      \n",
       " :(lhs = (*)(x[1], x[2]))      \n",
       " :(lhs = (*)(x[1], x[3]))      \n",
       " :(lhs = (*)(x[2], x[2]))      \n",
       " :(lhs = (*)(x[2], x[3]))      \n",
       " :(lhs = (*)(x[3], x[3]))      \n",
       " :(lhs = (*)(x[1], x[1], x[1]))\n",
       " :(lhs = (*)(x[1], x[1], x[2]))\n",
       " :(lhs = (*)(x[1], x[1], x[3]))\n",
       " :(lhs = (*)(x[1], x[2], x[2]))\n",
       " :(lhs = (*)(x[1], x[2], x[3]))\n",
       " :(lhs = (*)(x[1], x[3], x[3]))\n",
       " :(lhs = (*)(x[2], x[2], x[2]))\n",
       " :(lhs = (*)(x[2], x[2], x[3]))\n",
       " :(lhs = (*)(x[2], x[3], x[3]))\n",
       " :(lhs = (*)(x[3], x[3], x[3]))"
      ]
     },
     "execution_count": 55,
     "metadata": {},
     "output_type": "execute_result"
    }
   ],
   "source": [
    "multiply_terms(indcs) = Expr(:call,*,[:(x[$i]) for i in indcs]...)\n",
    "asgn(rhs) = :(lhs = $(multiply_terms(rhs)) )\n",
    "map( asgn, terms)"
   ]
  },
  {
   "cell_type": "code",
   "execution_count": 87,
   "metadata": {},
   "outputs": [
    {
     "data": {
      "text/plain": [
       ":(NumT[(*)(x[1]), (*)(x[2]), (*)(x[3]), (*)(x[1], x[1]), (*)(x[1], x[2]), (*)(x[1], x[3]), (*)(x[2], x[2]), (*)(x[2], x[3]), (*)(x[3], x[3]), (*)(x[1], x[1], x[1]), (*)(x[1], x[1], x[2]), (*)(x[1], x[1], x[3]), (*)(x[1], x[2], x[2]), (*)(x[1], x[2], x[3]), (*)(x[1], x[3], x[3]), (*)(x[2], x[2], x[2]), (*)(x[2], x[2], x[3]), (*)(x[2], x[3], x[3]), (*)(x[3], x[3], x[3])])"
      ]
     },
     "execution_count": 87,
     "metadata": {},
     "output_type": "execute_result"
    }
   ],
   "source": [
    "lhs = :(NumT[$(map(multiply_terms,terms)...)])"
   ]
  },
  {
   "cell_type": "code",
   "execution_count": 80,
   "metadata": {},
   "outputs": [
    {
     "data": {
      "text/plain": [
       "quote\n",
       "    #= In[80]:2 =#\n",
       "    function f(x::Array{T}) where T <: Number\n",
       "        #= In[80]:3 =#\n",
       "        #= In[80]:3 =# @inbounds begin\n",
       "                #= In[80]:4 =#\n",
       "                T[(*)(x[1]), (*)(x[2]), (*)(x[3]), (*)(x[1], x[1]), (*)(x[1], x[2]), (*)(x[1], x[3]), (*)(x[2], x[2]), (*)(x[2], x[3]), (*)(x[3], x[3]), (*)(x[1], x[1], x[1]), (*)(x[1], x[1], x[2]), (*)(x[1], x[1], x[3]), (*)(x[1], x[2], x[2]), (*)(x[1], x[2], x[3]), (*)(x[1], x[3], x[3]), (*)(x[2], x[2], x[2]), (*)(x[2], x[2], x[3]), (*)(x[2], x[3], x[3]), (*)(x[3], x[3], x[3])]\n",
       "            end\n",
       "    end\n",
       "end"
      ]
     },
     "execution_count": 80,
     "metadata": {},
     "output_type": "execute_result"
    }
   ],
   "source": [
    "func = quote\n",
    "    function f(x::Array{NumT}) where NumT <: Number\n",
    "        @inbounds begin\n",
    "        $lhs\n",
    "        end\n",
    "    end\n",
    "end"
   ]
  },
  {
   "cell_type": "code",
   "execution_count": 81,
   "metadata": {},
   "outputs": [
    {
     "data": {
      "text/plain": [
       "f (generic function with 3 methods)"
      ]
     },
     "execution_count": 81,
     "metadata": {},
     "output_type": "execute_result"
    }
   ],
   "source": [
    "eval(func)"
   ]
  },
  {
   "cell_type": "code",
   "execution_count": 86,
   "metadata": {},
   "outputs": [
    {
     "data": {
      "text/plain": [
       "19-element Array{Int64,1}:\n",
       "   2\n",
       "   3\n",
       "   5\n",
       "   4\n",
       "   6\n",
       "  10\n",
       "   9\n",
       "  15\n",
       "  25\n",
       "   8\n",
       "  12\n",
       "  20\n",
       "  18\n",
       "  30\n",
       "  50\n",
       "  27\n",
       "  45\n",
       "  75\n",
       " 125"
      ]
     },
     "execution_count": 86,
     "metadata": {},
     "output_type": "execute_result"
    }
   ],
   "source": [
    "f([2,3,5])"
   ]
  },
  {
   "cell_type": "code",
   "execution_count": 75,
   "metadata": {},
   "outputs": [
    {
     "name": "stdout",
     "output_type": "stream",
     "text": [
      "\n",
      ";  @ In[72]:3 within `f'\n",
      "define nonnull %jl_value_t addrspace(10)* @japi1_f_13603(%jl_value_t addrspace(10)*, %jl_value_t addrspace(10)**, i32) #0 {\n",
      "top:\n",
      "  %3 = alloca %jl_value_t addrspace(10)**, align 8\n",
      "  store volatile %jl_value_t addrspace(10)** %1, %jl_value_t addrspace(10)*** %3, align 8\n",
      "  %4 = load %jl_value_t addrspace(10)*, %jl_value_t addrspace(10)** %1, align 8\n",
      ";  @ In[72]:4 within `f'\n",
      "; ┌ @ array.jl:729 within `getindex'\n",
      "   %5 = addrspacecast %jl_value_t addrspace(10)* %4 to %jl_value_t addrspace(11)*\n",
      "   %6 = bitcast %jl_value_t addrspace(11)* %5 to i64 addrspace(13)* addrspace(11)*\n",
      "   %7 = load i64 addrspace(13)*, i64 addrspace(13)* addrspace(11)* %6, align 8\n",
      "   %8 = load i64, i64 addrspace(13)* %7, align 8\n",
      "   %9 = getelementptr inbounds i64, i64 addrspace(13)* %7, i64 1\n",
      "   %10 = load i64, i64 addrspace(13)* %9, align 8\n",
      "   %11 = getelementptr inbounds i64, i64 addrspace(13)* %7, i64 2\n",
      "   %12 = load i64, i64 addrspace(13)* %11, align 8\n",
      "; └\n",
      "; ┌ @ int.jl:54 within `*'\n",
      "   %13 = mul i64 %8, %8\n",
      "   %14 = mul i64 %10, %8\n",
      "   %15 = mul i64 %12, %8\n",
      "   %16 = mul i64 %10, %10\n",
      "   %17 = mul i64 %12, %10\n",
      "   %18 = mul i64 %12, %12\n",
      "; └\n",
      "; ┌ @ array.jl:343 within `getindex'\n",
      "; │┌ @ boot.jl:402 within `Type'\n",
      "    %19 = call %jl_value_t addrspace(10)* inttoptr (i64 4370689024 to %jl_value_t addrspace(10)* (%jl_value_t addrspace(10)*, i64)*)(%jl_value_t addrspace(10)* addrspacecast (%jl_value_t* inttoptr (i64 4465673888 to %jl_value_t*) to %jl_value_t addrspace(10)*), i64 19)\n",
      "    %20 = addrspacecast %jl_value_t addrspace(10)* %19 to %jl_value_t addrspace(11)*\n",
      "    %21 = bitcast %jl_value_t addrspace(11)* %20 to double addrspace(13)* addrspace(11)*\n",
      "    %22 = load double addrspace(13)*, double addrspace(13)* addrspace(11)* %21, align 8\n",
      "; └└\n",
      "; ┌ @ operators.jl:502 within `*' @ int.jl:54\n",
      "   %23 = mul i64 %18, %12\n",
      "   %24 = mul i64 %17, %12\n",
      "   %25 = mul i64 %16, %12\n",
      "   %26 = mul i64 %16, %10\n",
      "   %27 = mul i64 %15, %12\n",
      "   %28 = mul i64 %14, %12\n",
      "   %29 = mul i64 %14, %10\n",
      "   %30 = mul i64 %13, %12\n",
      "   %31 = mul i64 %13, %10\n",
      "   %32 = mul i64 %13, %8\n",
      "; └\n",
      "; ┌ @ array.jl:345 within `getindex'\n",
      "; │┌ @ array.jl:767 within `setindex!'\n",
      "; ││┌ @ number.jl:7 within `convert'\n",
      "; │││┌ @ float.jl:60 within `Type'\n",
      "      %33 = sitofp i64 %8 to double\n",
      "; ││└└\n",
      "    store double %33, double addrspace(13)* %22, align 8\n",
      "; ││┌ @ number.jl:7 within `convert'\n",
      "; │││┌ @ float.jl:60 within `Type'\n",
      "      %34 = sitofp i64 %10 to double\n",
      "; ││└└\n",
      "    %35 = getelementptr inbounds double, double addrspace(13)* %22, i64 1\n",
      "    store double %34, double addrspace(13)* %35, align 8\n",
      "; ││┌ @ number.jl:7 within `convert'\n",
      "; │││┌ @ float.jl:60 within `Type'\n",
      "      %36 = sitofp i64 %12 to double\n",
      "; ││└└\n",
      "    %37 = getelementptr inbounds double, double addrspace(13)* %22, i64 2\n",
      "    store double %36, double addrspace(13)* %37, align 8\n",
      "; ││┌ @ number.jl:7 within `convert'\n",
      "; │││┌ @ float.jl:60 within `Type'\n",
      "      %38 = sitofp i64 %13 to double\n",
      "; ││└└\n",
      "    %39 = getelementptr inbounds double, double addrspace(13)* %22, i64 3\n",
      "    store double %38, double addrspace(13)* %39, align 8\n",
      "; ││┌ @ number.jl:7 within `convert'\n",
      "; │││┌ @ float.jl:60 within `Type'\n",
      "      %40 = sitofp i64 %14 to double\n",
      "; ││└└\n",
      "    %41 = getelementptr inbounds double, double addrspace(13)* %22, i64 4\n",
      "    store double %40, double addrspace(13)* %41, align 8\n",
      "; ││┌ @ number.jl:7 within `convert'\n",
      "; │││┌ @ float.jl:60 within `Type'\n",
      "      %42 = sitofp i64 %15 to double\n",
      "; ││└└\n",
      "    %43 = getelementptr inbounds double, double addrspace(13)* %22, i64 5\n",
      "    store double %42, double addrspace(13)* %43, align 8\n",
      "; ││┌ @ number.jl:7 within `convert'\n",
      "; │││┌ @ float.jl:60 within `Type'\n",
      "      %44 = sitofp i64 %16 to double\n",
      "; ││└└\n",
      "    %45 = getelementptr inbounds double, double addrspace(13)* %22, i64 6\n",
      "    store double %44, double addrspace(13)* %45, align 8\n",
      "; ││┌ @ number.jl:7 within `convert'\n",
      "; │││┌ @ float.jl:60 within `Type'\n",
      "      %46 = sitofp i64 %17 to double\n",
      "; ││└└\n",
      "    %47 = getelementptr inbounds double, double addrspace(13)* %22, i64 7\n",
      "    store double %46, double addrspace(13)* %47, align 8\n",
      "; ││┌ @ number.jl:7 within `convert'\n",
      "; │││┌ @ float.jl:60 within `Type'\n",
      "      %48 = sitofp i64 %18 to double\n",
      "; ││└└\n",
      "    %49 = getelementptr inbounds double, double addrspace(13)* %22, i64 8\n",
      "    store double %48, double addrspace(13)* %49, align 8\n",
      "; ││┌ @ number.jl:7 within `convert'\n",
      "; │││┌ @ float.jl:60 within `Type'\n",
      "      %50 = sitofp i64 %32 to double\n",
      "; ││└└\n",
      "    %51 = getelementptr inbounds double, double addrspace(13)* %22, i64 9\n",
      "    store double %50, double addrspace(13)* %51, align 8\n",
      "; ││┌ @ number.jl:7 within `convert'\n",
      "; │││┌ @ float.jl:60 within `Type'\n",
      "      %52 = sitofp i64 %31 to double\n",
      "; ││└└\n",
      "    %53 = getelementptr inbounds double, double addrspace(13)* %22, i64 10\n",
      "    store double %52, double addrspace(13)* %53, align 8\n",
      "; ││┌ @ number.jl:7 within `convert'\n",
      "; │││┌ @ float.jl:60 within `Type'\n",
      "      %54 = sitofp i64 %30 to double\n",
      "; ││└└\n",
      "    %55 = getelementptr inbounds double, double addrspace(13)* %22, i64 11\n",
      "    store double %54, double addrspace(13)* %55, align 8\n",
      "; ││┌ @ number.jl:7 within `convert'\n",
      "; │││┌ @ float.jl:60 within `Type'\n",
      "      %56 = sitofp i64 %29 to double\n",
      "; ││└└\n",
      "    %57 = getelementptr inbounds double, double addrspace(13)* %22, i64 12\n",
      "    store double %56, double addrspace(13)* %57, align 8\n",
      "; ││┌ @ number.jl:7 within `convert'\n",
      "; │││┌ @ float.jl:60 within `Type'\n",
      "      %58 = sitofp i64 %28 to double\n",
      "; ││└└\n",
      "    %59 = getelementptr inbounds double, double addrspace(13)* %22, i64 13\n",
      "    store double %58, double addrspace(13)* %59, align 8\n",
      "; ││┌ @ number.jl:7 within `convert'\n",
      "; │││┌ @ float.jl:60 within `Type'\n",
      "      %60 = sitofp i64 %27 to double\n",
      "; ││└└\n",
      "    %61 = getelementptr inbounds double, double addrspace(13)* %22, i64 14\n",
      "    store double %60, double addrspace(13)* %61, align 8\n",
      "; ││┌ @ number.jl:7 within `convert'\n",
      "; │││┌ @ float.jl:60 within `Type'\n",
      "      %62 = sitofp i64 %26 to double\n",
      "; ││└└\n",
      "    %63 = getelementptr inbounds double, double addrspace(13)* %22, i64 15\n",
      "    store double %62, double addrspace(13)* %63, align 8\n",
      "; ││┌ @ number.jl:7 within `convert'\n",
      "; │││┌ @ float.jl:60 within `Type'\n",
      "      %64 = sitofp i64 %25 to double\n",
      "; ││└└\n",
      "    %65 = getelementptr inbounds double, double addrspace(13)* %22, i64 16\n",
      "    store double %64, double addrspace(13)* %65, align 8\n",
      "; ││┌ @ number.jl:7 within `convert'\n",
      "; │││┌ @ float.jl:60 within `Type'\n",
      "      %66 = sitofp i64 %24 to double\n",
      "; ││└└\n",
      "    %67 = getelementptr inbounds double, double addrspace(13)* %22, i64 17\n",
      "    store double %66, double addrspace(13)* %67, align 8\n",
      "; ││┌ @ number.jl:7 within `convert'\n",
      "; │││┌ @ float.jl:60 within `Type'\n",
      "      %68 = sitofp i64 %23 to double\n",
      "; ││└└\n",
      "    %69 = getelementptr inbounds double, double addrspace(13)* %22, i64 18\n",
      "    store double %68, double addrspace(13)* %69, align 8\n",
      "; └└\n",
      "  ret %jl_value_t addrspace(10)* %19\n",
      "}\n"
     ]
    }
   ],
   "source": [
    "@code_llvm f([2,3,3])"
   ]
  },
  {
   "cell_type": "markdown",
   "metadata": {},
   "source": [
    "# Putting it together\n",
    "\n",
    "This version needs to know the array length a priori. The problem is that the default Julia arrays are dynamically typed. We would need a FixedArray type to do the inspection."
   ]
  },
  {
   "cell_type": "code",
   "execution_count": 125,
   "metadata": {},
   "outputs": [
    {
     "data": {
      "text/plain": [
       "@poly_func (macro with 2 methods)"
      ]
     },
     "execution_count": 125,
     "metadata": {},
     "output_type": "execute_result"
    }
   ],
   "source": [
    "macro poly_func(len,order)\n",
    "    terms = polynomial_indices(len,order)\n",
    "    multiply_terms(indcs) = Expr(:call,*,[:(x[$i]) for i in indcs]...)\n",
    "    quote\n",
    "    function poly(x::Array{NumT}) where {NumT <: Number}\n",
    "        NumT[$(map(multiply_terms,terms)...)]\n",
    "    end\n",
    "    end\n",
    "end"
   ]
  },
  {
   "cell_type": "code",
   "execution_count": 126,
   "metadata": {},
   "outputs": [
    {
     "data": {
      "text/plain": [
       "#110#poly (generic function with 1 method)"
      ]
     },
     "execution_count": 126,
     "metadata": {},
     "output_type": "execute_result"
    }
   ],
   "source": [
    "g = @poly_func(2,2)"
   ]
  },
  {
   "cell_type": "code",
   "execution_count": 127,
   "metadata": {},
   "outputs": [
    {
     "data": {
      "text/plain": [
       "5-element Array{Int64,1}:\n",
       " 2\n",
       " 3\n",
       " 4\n",
       " 6\n",
       " 9"
      ]
     },
     "execution_count": 127,
     "metadata": {},
     "output_type": "execute_result"
    }
   ],
   "source": [
    "g([2,3])"
   ]
  },
  {
   "cell_type": "code",
   "execution_count": 128,
   "metadata": {},
   "outputs": [
    {
     "data": {
      "text/plain": [
       "quote\n",
       "    #= In[125]:5 =#\n",
       "    function #113#poly(#114#x::(Main.Array){#115#NumT}) where #115#NumT <: Main.Number\n",
       "        #= In[125]:6 =#\n",
       "        #115#NumT[(*)(#114#x[1]), (*)(#114#x[2]), (*)(#114#x[1], #114#x[1]), (*)(#114#x[1], #114#x[2]), (*)(#114#x[2], #114#x[2])]\n",
       "    end\n",
       "end"
      ]
     },
     "execution_count": 128,
     "metadata": {},
     "output_type": "execute_result"
    }
   ],
   "source": [
    "@macroexpand @poly_func(2,2)"
   ]
  },
  {
   "cell_type": "code",
   "execution_count": null,
   "metadata": {},
   "outputs": [],
   "source": []
  }
 ],
 "metadata": {
  "kernelspec": {
   "display_name": "Julia 1.1.0",
   "language": "julia",
   "name": "julia-1.1"
  },
  "language_info": {
   "file_extension": ".jl",
   "mimetype": "application/julia",
   "name": "julia",
   "version": "1.1.0"
  }
 },
 "nbformat": 4,
 "nbformat_minor": 2
}
