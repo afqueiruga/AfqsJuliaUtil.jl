{
 "cells": [
  {
   "cell_type": "code",
   "execution_count": 118,
   "metadata": {},
   "outputs": [
    {
     "name": "stderr",
     "output_type": "stream",
     "text": [
      "WARNING: replacing module AfqsJuliaUtil.\n"
     ]
    }
   ],
   "source": [
    "using Flux\n",
    "using Statistics\n",
    "using Plots\n",
    "include(\"./AfqsJuliaUtil.jl\")\n",
    "using .AfqsJuliaUtil"
   ]
  },
  {
   "cell_type": "markdown",
   "metadata": {},
   "source": [
    "# Fitting a Linear Model"
   ]
  },
  {
   "cell_type": "code",
   "execution_count": 391,
   "metadata": {},
   "outputs": [
    {
     "data": {
      "text/plain": [
       "Dense(2, 2)"
      ]
     },
     "execution_count": 391,
     "metadata": {},
     "output_type": "execute_result"
    }
   ],
   "source": [
    "d = Dense(2,2)"
   ]
  },
  {
   "cell_type": "code",
   "execution_count": 386,
   "metadata": {},
   "outputs": [],
   "source": [
    "dat_x = Azip(1f0:0.1f0:10f0, 1f0:0.1f0:10f0);\n",
    "dat_y = 3.2f0.*dat_x .- 0.2f0;"
   ]
  },
  {
   "cell_type": "code",
   "execution_count": 387,
   "metadata": {},
   "outputs": [
    {
     "data": {
      "text/plain": [
       "2×91 Array{Float32,2}:\n",
       " 1.0  1.1  1.2  1.3  1.4  1.5  1.6  …  9.4  9.5  9.6  9.7  9.8  9.9  10.0\n",
       " 1.0  1.1  1.2  1.3  1.4  1.5  1.6     9.4  9.5  9.6  9.7  9.8  9.9  10.0"
      ]
     },
     "execution_count": 387,
     "metadata": {},
     "output_type": "execute_result"
    }
   ],
   "source": [
    "dat_x"
   ]
  },
  {
   "cell_type": "code",
   "execution_count": 388,
   "metadata": {},
   "outputs": [
    {
     "data": {
      "text/plain": [
       "2×91 Array{Float32,2}:\n",
       " 3.0  3.32  3.64  3.96  4.28  4.6  4.92  …  30.52  30.84  31.16  31.48  31.8\n",
       " 3.0  3.32  3.64  3.96  4.28  4.6  4.92     30.52  30.84  31.16  31.48  31.8"
      ]
     },
     "execution_count": 388,
     "metadata": {},
     "output_type": "execute_result"
    }
   ],
   "source": [
    "dat_y"
   ]
  },
  {
   "cell_type": "code",
   "execution_count": 392,
   "metadata": {},
   "outputs": [
    {
     "data": {
      "text/plain": [
       "Tracked 2×91 Array{Float32,2}:\n",
       " -0.774453  -0.851898  -0.929344  -1.00679   …  -7.58964  -7.66709  -7.74453\n",
       "  0.546411   0.601052   0.655693   0.710334      5.35482   5.40947   5.46411"
      ]
     },
     "execution_count": 392,
     "metadata": {},
     "output_type": "execute_result"
    }
   ],
   "source": [
    "d(dat_x)"
   ]
  },
  {
   "cell_type": "code",
   "execution_count": 402,
   "metadata": {},
   "outputs": [
    {
     "data": {
      "text/plain": [
       "Grads(...)\n"
      ]
     },
     "execution_count": 402,
     "metadata": {},
     "output_type": "execute_result"
    }
   ],
   "source": [
    "pars=params(d)\n",
    "loss(x,y) = Flux.mse( y, d(x) )\n",
    "grads = Flux.Tracker.gradient(() -> loss(dat_x, dat_y)/length(dat_x), pars)"
   ]
  },
  {
   "cell_type": "code",
   "execution_count": 403,
   "metadata": {},
   "outputs": [
    {
     "name": "stdout",
     "output_type": "stream",
     "text": [
      "Float32[-8.06381 -8.48092; -5.62046 -4.32294] (tracked)\n",
      "Float32[-1.16827, -0.776819] (tracked)\n"
     ]
    }
   ],
   "source": [
    "for l in pars println(l) end"
   ]
  },
  {
   "cell_type": "code",
   "execution_count": 406,
   "metadata": {},
   "outputs": [
    {
     "name": "stdout",
     "output_type": "stream",
     "text": [
      "1.0317796f0 (tracked)Float32[1.71653 1.29942; 0.885099 2.18262] (tracked)Float32[0.277296, 0.183907] (tracked)\n",
      "0.37939823f0 (tracked)Float32[1.73968 1.32256; 0.900499 2.19802] (tracked)Float32[0.280235, 0.185796] (tracked)\n",
      "0.15435159f0 (tracked)Float32[1.75328 1.33617; 0.909555 2.20707] (tracked)Float32[0.28176, 0.186743] (tracked)\n",
      "0.07668793f0 (tracked)Float32[1.76129 1.34418; 0.914885 2.2124] (tracked)Float32[0.282453, 0.187137] (tracked)\n",
      "0.049855087f0 (tracked)Float32[1.76601 1.34889; 0.918028 2.21555] (tracked)Float32[0.282659, 0.187207] (tracked)\n",
      "0.040553395f0 (tracked)Float32[1.76879 1.35168; 0.919885 2.2174] (tracked)Float32[0.282579, 0.187087] (tracked)\n",
      "0.037298243f0 (tracked)Float32[1.77044 1.35333; 0.920988 2.21851] (tracked)Float32[0.282331, 0.186855] (tracked)\n",
      "0.036128614f0 (tracked)Float32[1.77143 1.35431; 0.921648 2.21917] (tracked)Float32[0.281984, 0.186558] (tracked)\n",
      "0.0356783f0 (tracked)Float32[1.77202 1.3549; 0.922047 2.21957] (tracked)Float32[0.28158, 0.186223] (tracked)\n",
      "0.035476103f0 (tracked)Float32[1.77238 1.35527; 0.922293 2.21981] (tracked)Float32[0.281142, 0.185865] (tracked)\n",
      "0.035359576f0 (tracked)Float32[1.77261 1.3555; 0.92245 2.21997] (tracked)Float32[0.280685, 0.185495] (tracked)\n",
      "0.035272766f0 (tracked)Float32[1.77276 1.35564; 0.922554 2.22007] (tracked)Float32[0.280217, 0.185117] (tracked)\n",
      "0.03519629f0 (tracked)Float32[1.77286 1.35575; 0.922627 2.22015] (tracked)Float32[0.279742, 0.184734] (tracked)\n",
      "0.0351234f0 (tracked)Float32[1.77294 1.35582; 0.922681 2.2202] (tracked)Float32[0.279263, 0.18435] (tracked)\n",
      "0.035051946f0 (tracked)Float32[1.77299 1.35588; 0.922725 2.22024] (tracked)Float32[0.278783, 0.183964] (tracked)\n",
      "0.034980945f0 (tracked)Float32[1.77304 1.35593; 0.922763 2.22028] (tracked)Float32[0.278302, 0.183578] (tracked)\n",
      "0.034910273f0 (tracked)Float32[1.77309 1.35597; 0.922797 2.22032] (tracked)Float32[0.27782, 0.183192] (tracked)\n",
      "0.034839783f0 (tracked)Float32[1.77313 1.35601; 0.922829 2.22035] (tracked)Float32[0.277338, 0.182805] (tracked)\n",
      "0.03476948f0 (tracked)Float32[1.77317 1.35605; 0.922859 2.22038] (tracked)Float32[0.276857, 0.182419] (tracked)\n",
      "0.0346993f0 (tracked)Float32[1.7732 1.35609; 0.922889 2.22041] (tracked)Float32[0.276376, 0.182033] (tracked)\n",
      "0.03462936f0 (tracked)Float32[1.77324 1.35613; 0.922918 2.22044] (tracked)Float32[0.275895, 0.181648] (tracked)\n",
      "0.03455945f0 (tracked)Float32[1.77328 1.35616; 0.922947 2.22047] (tracked)Float32[0.275415, 0.181262] (tracked)\n",
      "0.034489658f0 (tracked)Float32[1.77331 1.3562; 0.922976 2.2205] (tracked)Float32[0.274935, 0.180878] (tracked)\n",
      "0.034420125f0 (tracked)Float32[1.77335 1.35623; 0.923005 2.22052] (tracked)Float32[0.274455, 0.180493] (tracked)\n",
      "0.034350663f0 (tracked)Float32[1.77338 1.35627; 0.923033 2.22055] (tracked)Float32[0.273977, 0.180109] (tracked)\n",
      "0.0342813f0 (tracked)Float32[1.77342 1.35631; 0.923062 2.22058] (tracked)Float32[0.273498, 0.179725] (tracked)\n",
      "0.034212213f0 (tracked)Float32[1.77346 1.35634; 0.92309 2.22061] (tracked)Float32[0.27302, 0.179342] (tracked)\n",
      "0.034143146f0 (tracked)Float32[1.77349 1.35638; 0.923119 2.22064] (tracked)Float32[0.272543, 0.178959] (tracked)\n",
      "0.03407426f0 (tracked)Float32[1.77353 1.35641; 0.923147 2.22067] (tracked)Float32[0.272066, 0.178577] (tracked)\n",
      "0.034005478f0 (tracked)Float32[1.77356 1.35645; 0.923175 2.22069] (tracked)Float32[0.271589, 0.178195] (tracked)\n",
      "0.033936895f0 (tracked)Float32[1.7736 1.35648; 0.923204 2.22072] (tracked)Float32[0.271113, 0.177813] (tracked)\n",
      "0.033868417f0 (tracked)Float32[1.77363 1.35652; 0.923232 2.22075] (tracked)Float32[0.270638, 0.177431] (tracked)\n",
      "0.033800036f0 (tracked)Float32[1.77367 1.35655; 0.92326 2.22078] (tracked)Float32[0.270162, 0.17705] (tracked)\n",
      "0.033731893f0 (tracked)Float32[1.7737 1.35659; 0.923289 2.22081] (tracked)Float32[0.269688, 0.17667] (tracked)\n",
      "0.033663776f0 (tracked)Float32[1.77374 1.35662; 0.923317 2.22084] (tracked)Float32[0.269214, 0.17629] (tracked)\n",
      "0.0335958f0 (tracked)Float32[1.77377 1.35666; 0.923345 2.22086] (tracked)Float32[0.26874, 0.17591] (tracked)\n",
      "0.033528093f0 (tracked)Float32[1.77381 1.35669; 0.923373 2.22089] (tracked)Float32[0.268267, 0.17553] (tracked)\n",
      "0.03346045f0 (tracked)Float32[1.77384 1.35673; 0.923401 2.22092] (tracked)Float32[0.267794, 0.175151] (tracked)\n",
      "0.033392895f0 (tracked)Float32[1.77388 1.35676; 0.923429 2.22095] (tracked)Float32[0.267322, 0.174773] (tracked)\n",
      "0.03332547f0 (tracked)Float32[1.77391 1.3568; 0.923458 2.22098] (tracked)Float32[0.26685, 0.174394] (tracked)\n",
      "0.033258315f0 (tracked)Float32[1.77395 1.35683; 0.923486 2.221] (tracked)Float32[0.266379, 0.174016] (tracked)\n",
      "0.03319117f0 (tracked)Float32[1.77398 1.35687; 0.923514 2.22103] (tracked)Float32[0.265908, 0.173639] (tracked)\n",
      "0.033124115f0 (tracked)Float32[1.77402 1.3569; 0.923542 2.22106] (tracked)Float32[0.265438, 0.173262] (tracked)\n",
      "0.033057366f0 (tracked)Float32[1.77405 1.35694; 0.92357 2.22109] (tracked)Float32[0.264968, 0.172885] (tracked)\n",
      "0.03299062f0 (tracked)Float32[1.77409 1.35697; 0.923598 2.22112] (tracked)Float32[0.264499, 0.172508] (tracked)\n",
      "0.03292402f0 (tracked)Float32[1.77412 1.35701; 0.923625 2.22114] (tracked)Float32[0.26403, 0.172132] (tracked)\n",
      "0.032857604f0 (tracked)Float32[1.77416 1.35704; 0.923653 2.22117] (tracked)Float32[0.263561, 0.171757] (tracked)\n",
      "0.03279134f0 (tracked)Float32[1.77419 1.35708; 0.923681 2.2212] (tracked)Float32[0.263094, 0.171382] (tracked)\n",
      "0.032725208f0 (tracked)Float32[1.77423 1.35711; 0.923709 2.22123] (tracked)Float32[0.262626, 0.171007] (tracked)\n",
      "0.03265907f0 (tracked)Float32[1.77426 1.35715; 0.923737 2.22126] (tracked)Float32[0.262159, 0.170632] (tracked)\n",
      "0.03259329f0 (tracked)Float32[1.7743 1.35718; 0.923765 2.22128] (tracked)Float32[0.261693, 0.170258] (tracked)\n",
      "0.03252749f0 (tracked)Float32[1.77433 1.35722; 0.923792 2.22131] (tracked)Float32[0.261227, 0.169884] (tracked)\n",
      "0.032461885f0 (tracked)Float32[1.77437 1.35725; 0.92382 2.22134] (tracked)Float32[0.260761, 0.169511] (tracked)\n",
      "0.032396298f0 (tracked)Float32[1.7744 1.35729; 0.923848 2.22137] (tracked)Float32[0.260296, 0.169138] (tracked)\n",
      "0.032330967f0 (tracked)Float32[1.77443 1.35732; 0.923875 2.22139] (tracked)Float32[0.259831, 0.168765] (tracked)\n",
      "0.032265734f0 (tracked)Float32[1.77447 1.35735; 0.923903 2.22142] (tracked)Float32[0.259367, 0.168393] (tracked)\n",
      "0.032200627f0 (tracked)Float32[1.7745 1.35739; 0.923931 2.22145] (tracked)Float32[0.258903, 0.168021] (tracked)\n",
      "0.032135617f0 (tracked)Float32[1.77454 1.35742; 0.923958 2.22148] (tracked)Float32[0.25844, 0.16765] (tracked)\n",
      "0.03207076f0 (tracked)Float32[1.77457 1.35746; 0.923986 2.2215] (tracked)Float32[0.257977, 0.167279] (tracked)\n",
      "0.032006126f0 (tracked)Float32[1.77461 1.35749; 0.924013 2.22153] (tracked)Float32[0.257515, 0.166908] (tracked)\n",
      "0.0319415f0 (tracked)Float32[1.77464 1.35753; 0.924041 2.22156] (tracked)Float32[0.257053, 0.166538] (tracked)\n",
      "0.031877004f0 (tracked)Float32[1.77467 1.35756; 0.924068 2.22159] (tracked)Float32[0.256592, 0.166168] (tracked)\n",
      "0.0318127f0 (tracked)Float32[1.77471 1.35759; 0.924096 2.22161] (tracked)Float32[0.256131, 0.165798] (tracked)\n",
      "0.031748574f0 (tracked)Float32[1.77474 1.35763; 0.924123 2.22164] (tracked)Float32[0.255671, 0.165429] (tracked)\n",
      "0.03168451f0 (tracked)Float32[1.77478 1.35766; 0.92415 2.22167] (tracked)Float32[0.255211, 0.16506] (tracked)\n",
      "0.03162057f0 (tracked)Float32[1.77481 1.3577; 0.924178 2.2217] (tracked)Float32[0.254751, 0.164691] (tracked)\n",
      "0.031556692f0 (tracked)Float32[1.77485 1.35773; 0.924205 2.22172] (tracked)Float32[0.254292, 0.164323] (tracked)\n",
      "0.031493053f0 (tracked)Float32[1.77488 1.35776; 0.924232 2.22175] (tracked)Float32[0.253834, 0.163955] (tracked)\n",
      "0.031429507f0 (tracked)Float32[1.77491 1.3578; 0.92426 2.22178] (tracked)Float32[0.253375, 0.163588] (tracked)\n",
      "0.031366047f0 (tracked)Float32[1.77495 1.35783; 0.924287 2.22181] (tracked)Float32[0.252918, 0.163221] (tracked)\n",
      "0.031302784f0 (tracked)Float32[1.77498 1.35787; 0.924314 2.22183] (tracked)Float32[0.252461, 0.162854] (tracked)\n",
      "0.031239605f0 (tracked)Float32[1.77501 1.3579; 0.924341 2.22186] (tracked)Float32[0.252004, 0.162488] (tracked)\n",
      "0.03117651f0 (tracked)Float32[1.77505 1.35793; 0.924369 2.22189] (tracked)Float32[0.251548, 0.162122] (tracked)\n",
      "0.031113688f0 (tracked)Float32[1.77508 1.35797; 0.924396 2.22191] (tracked)Float32[0.251092, 0.161757] (tracked)\n",
      "0.031050924f0 (tracked)Float32[1.77512 1.358; 0.924423 2.22194] (tracked)Float32[0.250636, 0.161391] (tracked)\n",
      "0.030988196f0 (tracked)Float32[1.77515 1.35804; 0.92445 2.22197] (tracked)Float32[0.250182, 0.161027] (tracked)\n",
      "0.030925756f0 (tracked)Float32[1.77518 1.35807; 0.924477 2.222] (tracked)Float32[0.249727, 0.160662] (tracked)\n",
      "0.030863348f0 (tracked)Float32[1.77522 1.3581; 0.924504 2.22202] (tracked)Float32[0.249273, 0.160298] (tracked)\n",
      "0.030801075f0 (tracked)Float32[1.77525 1.35814; 0.924531 2.22205] (tracked)Float32[0.24882, 0.159935] (tracked)\n",
      "0.03073886f0 (tracked)Float32[1.77528 1.35817; 0.924558 2.22208] (tracked)Float32[0.248367, 0.159571] (tracked)\n",
      "0.030676868f0 (tracked)Float32[1.77532 1.3582; 0.924585 2.2221] (tracked)Float32[0.247914, 0.159208] (tracked)\n",
      "0.030614998f0 (tracked)Float32[1.77535 1.35824; 0.924612 2.22213] (tracked)Float32[0.247462, 0.158846] (tracked)\n",
      "0.030553227f0 (tracked)Float32[1.77539 1.35827; 0.924639 2.22216] (tracked)Float32[0.24701, 0.158483] (tracked)\n",
      "0.030491568f0 (tracked)Float32[1.77542 1.3583; 0.924665 2.22218] (tracked)Float32[0.246559, 0.158122] (tracked)\n",
      "0.030430004f0 (tracked)Float32[1.77545 1.35834; 0.924692 2.22221] (tracked)Float32[0.246108, 0.15776] (tracked)\n",
      "0.030368514f0 (tracked)Float32[1.77549 1.35837; 0.924719 2.22224] (tracked)Float32[0.245658, 0.157399] (tracked)\n",
      "0.030307375f0 (tracked)Float32[1.77552 1.3584; 0.924746 2.22226] (tracked)Float32[0.245208, 0.157038] (tracked)\n",
      "0.03024613f0 (tracked)Float32[1.77555 1.35844; 0.924773 2.22229] (tracked)Float32[0.244759, 0.156678] (tracked)\n",
      "0.030185163f0 (tracked)Float32[1.77559 1.35847; 0.924799 2.22232] (tracked)Float32[0.24431, 0.156318] (tracked)\n",
      "0.030124165f0 (tracked)Float32[1.77562 1.3585; 0.924826 2.22234] (tracked)Float32[0.243861, 0.155958] (tracked)\n",
      "0.030063417f0 (tracked)Float32[1.77565 1.35854; 0.924853 2.22237] (tracked)Float32[0.243413, 0.155599] (tracked)\n",
      "0.03000272f0 (tracked)Float32[1.77569 1.35857; 0.924879 2.2224] (tracked)Float32[0.242966, 0.15524] (tracked)\n",
      "0.029942261f0 (tracked)Float32[1.77572 1.3586; 0.924906 2.22242] (tracked)Float32[0.242518, 0.154881] (tracked)\n",
      "0.029881848f0 (tracked)Float32[1.77575 1.35864; 0.924933 2.22245] (tracked)Float32[0.242072, 0.154523] (tracked)\n",
      "0.029821528f0 (tracked)Float32[1.77579 1.35867; 0.924959 2.22248] (tracked)Float32[0.241626, 0.154165] (tracked)\n",
      "0.029761394f0 (tracked)Float32[1.77582 1.3587; 0.924986 2.2225] (tracked)Float32[0.24118, 0.153808] (tracked)\n",
      "0.02970129f0 (tracked)Float32[1.77585 1.35874; 0.925012 2.22253] (tracked)Float32[0.240734, 0.153451] (tracked)\n",
      "0.029641408f0 (tracked)Float32[1.77588 1.35877; 0.925039 2.22256] (tracked)Float32[0.24029, 0.153094] (tracked)\n",
      "0.029581577f0 (tracked)Float32[1.77592 1.3588; 0.925065 2.22258] (tracked)Float32[0.239845, 0.152737] (tracked)\n",
      "0.029521909f0 (tracked)Float32[1.77595 1.35884; 0.925092 2.22261] (tracked)Float32[0.239401, 0.152381] (tracked)\n"
     ]
    }
   ],
   "source": [
    "for epoch = 1:100\n",
    "    r = 1.0\n",
    "    l = loss(dat_x,dat_y)\n",
    "    grads = Flux.Tracker.gradient(() -> loss(dat_x, dat_y)/length(dat_x), pars)\n",
    "    for p in pars\n",
    "        Flux.Tracker.update!(p, -r*grads[p])\n",
    "    end\n",
    "    println(l, pars...)\n",
    "end"
   ]
  },
  {
   "cell_type": "code",
   "execution_count": 401,
   "metadata": {},
   "outputs": [
    {
     "data": {
      "text/plain": [
       "Tracked 2×91 Array{Float32,2}:\n",
       " -17.713   -19.3675  -21.022   -22.6764  …  -163.307   -164.961   -166.616\n",
       " -10.7202  -11.7146  -12.7089  -13.7032      -98.2221   -99.2165  -100.211"
      ]
     },
     "execution_count": 401,
     "metadata": {},
     "output_type": "execute_result"
    }
   ],
   "source": [
    "d(dat_x)"
   ]
  },
  {
   "cell_type": "code",
   "execution_count": 397,
   "metadata": {},
   "outputs": [
    {
     "data": {
      "text/plain": [
       "Params([Float32[-1.15115 -1.56826; -1.02241 0.275105] (tracked), Float32[-0.143831, -0.0956032] (tracked)])"
      ]
     },
     "execution_count": 397,
     "metadata": {},
     "output_type": "execute_result"
    }
   ],
   "source": [
    "pars"
   ]
  },
  {
   "cell_type": "markdown",
   "metadata": {},
   "source": [
    "# Fitting a Linear Model Under the Hood"
   ]
  },
  {
   "cell_type": "markdown",
   "metadata": {},
   "source": [
    "The two-point check"
   ]
  },
  {
   "cell_type": "code",
   "execution_count": 360,
   "metadata": {},
   "outputs": [
    {
     "data": {
      "text/plain": [
       "2-element Array{Float64,1}:\n",
       " 4.0\n",
       " 7.0"
      ]
     },
     "execution_count": 360,
     "metadata": {},
     "output_type": "execute_result"
    }
   ],
   "source": [
    "dat_x = [1.0,2.0]\n",
    "dat_y = 3*dat_x .+ 1"
   ]
  },
  {
   "cell_type": "markdown",
   "metadata": {},
   "source": [
    "A standard linear regression dataset"
   ]
  },
  {
   "cell_type": "code",
   "execution_count": 428,
   "metadata": {},
   "outputs": [],
   "source": [
    "dat_x = collect(1:0.1:10);\n",
    "dat_y = 3.2*dat_x .- 0.2 .+ rand(length(dat_x));"
   ]
  },
  {
   "cell_type": "code",
   "execution_count": 429,
   "metadata": {},
   "outputs": [],
   "source": [
    "W = param([2]);\n",
    "b = param([2]);\n",
    "f(x) = W.*x.+b;"
   ]
  },
  {
   "cell_type": "code",
   "execution_count": 430,
   "metadata": {},
   "outputs": [
    {
     "data": {
      "text/plain": [
       "Grads(...)\n"
      ]
     },
     "execution_count": 430,
     "metadata": {},
     "output_type": "execute_result"
    }
   ],
   "source": [
    "pars=Flux.Tracker.Params([W,b])\n",
    "loss(x,y) = Flux.mse(y,f(x))\n",
    "grads = Flux.Tracker.gradient(() -> loss(dat_x, dat_y), pars)"
   ]
  },
  {
   "cell_type": "markdown",
   "metadata": {},
   "source": [
    "Verify that my definition of the loss made sense:"
   ]
  },
  {
   "cell_type": "code",
   "execution_count": 431,
   "metadata": {},
   "outputs": [
    {
     "data": {
      "text/plain": [
       "34.14229018515163 (tracked)"
      ]
     },
     "execution_count": 431,
     "metadata": {},
     "output_type": "execute_result"
    }
   ],
   "source": [
    "sum((dat_y - f(dat_x)).^2)/length(dat_y)"
   ]
  },
  {
   "cell_type": "code",
   "execution_count": 432,
   "metadata": {},
   "outputs": [
    {
     "data": {
      "text/plain": [
       "34.14229018515164 (tracked)"
      ]
     },
     "execution_count": 432,
     "metadata": {},
     "output_type": "execute_result"
    }
   ],
   "source": [
    "Flux.mse(dat_y,f(dat_x))"
   ]
  },
  {
   "cell_type": "code",
   "execution_count": 433,
   "metadata": {},
   "outputs": [
    {
     "data": {
      "text/plain": [
       "34.14229018515164 (tracked)"
      ]
     },
     "execution_count": 433,
     "metadata": {},
     "output_type": "execute_result"
    }
   ],
   "source": [
    "loss(dat_x,dat_y)"
   ]
  },
  {
   "cell_type": "code",
   "execution_count": 434,
   "metadata": {},
   "outputs": [
    {
     "data": {
      "text/plain": [
       "([-70.6198] (tracked), [-9.8452] (tracked))"
      ]
     },
     "execution_count": 434,
     "metadata": {},
     "output_type": "execute_result"
    }
   ],
   "source": [
    "grads[W], grads[b]"
   ]
  },
  {
   "cell_type": "code",
   "execution_count": 438,
   "metadata": {},
   "outputs": [
    {
     "name": "stdout",
     "output_type": "stream",
     "text": [
      "0.14236591346894747 (tracked)\n",
      "0.1380318360567977 (tracked)\n",
      "0.13400168736059784 (tracked)\n",
      "0.13025415427132975 (tracked)\n",
      "0.12676941826930507 (tracked)\n",
      "0.12352905061555967 (tracked)\n",
      "0.12051591489298555 (tracked)\n",
      "0.1177140763818036 (tracked)\n",
      "0.11510871779011157 (tracked)\n",
      "0.11268606089385841 (tracked)\n",
      "0.11268606089385841 (tracked)\n"
     ]
    },
    {
     "data": {
      "image/svg+xml": [
       "<?xml version=\"1.0\" encoding=\"utf-8\"?>\n",
       "<svg xmlns=\"http://www.w3.org/2000/svg\" xmlns:xlink=\"http://www.w3.org/1999/xlink\" width=\"600\" height=\"400\" viewBox=\"0 0 2400 1600\">\n",
       "<defs>\n",
       "  <clipPath id=\"clip1300\">\n",
       "    <rect x=\"0\" y=\"0\" width=\"2400\" height=\"1600\"/>\n",
       "  </clipPath>\n",
       "</defs>\n",
       "<polygon clip-path=\"url(#clip1300)\" points=\"\n",
       "0,1600 2400,1600 2400,0 0,0 \n",
       "  \" fill=\"#ffffff\" fill-rule=\"evenodd\" fill-opacity=\"1\"/>\n",
       "<defs>\n",
       "  <clipPath id=\"clip1301\">\n",
       "    <rect x=\"480\" y=\"0\" width=\"1681\" height=\"1600\"/>\n",
       "  </clipPath>\n",
       "</defs>\n",
       "<polygon clip-path=\"url(#clip1300)\" points=\"\n",
       "148.013,1503.47 2321.26,1503.47 2321.26,47.2441 148.013,47.2441 \n",
       "  \" fill=\"#ffffff\" fill-rule=\"evenodd\" fill-opacity=\"1\"/>\n",
       "<defs>\n",
       "  <clipPath id=\"clip1302\">\n",
       "    <rect x=\"148\" y=\"47\" width=\"2174\" height=\"1457\"/>\n",
       "  </clipPath>\n",
       "</defs>\n",
       "<polyline clip-path=\"url(#clip1302)\" style=\"stroke:#000000; stroke-width:2; stroke-opacity:0.1; fill:none\" points=\"\n",
       "  437.324,1503.47 437.324,47.2441 \n",
       "  \"/>\n",
       "<polyline clip-path=\"url(#clip1302)\" style=\"stroke:#000000; stroke-width:2; stroke-opacity:0.1; fill:none\" points=\"\n",
       "  892.931,1503.47 892.931,47.2441 \n",
       "  \"/>\n",
       "<polyline clip-path=\"url(#clip1302)\" style=\"stroke:#000000; stroke-width:2; stroke-opacity:0.1; fill:none\" points=\"\n",
       "  1348.54,1503.47 1348.54,47.2441 \n",
       "  \"/>\n",
       "<polyline clip-path=\"url(#clip1302)\" style=\"stroke:#000000; stroke-width:2; stroke-opacity:0.1; fill:none\" points=\"\n",
       "  1804.15,1503.47 1804.15,47.2441 \n",
       "  \"/>\n",
       "<polyline clip-path=\"url(#clip1302)\" style=\"stroke:#000000; stroke-width:2; stroke-opacity:0.1; fill:none\" points=\"\n",
       "  2259.75,1503.47 2259.75,47.2441 \n",
       "  \"/>\n",
       "<polyline clip-path=\"url(#clip1302)\" style=\"stroke:#000000; stroke-width:2; stroke-opacity:0.1; fill:none\" points=\"\n",
       "  148.013,1382.13 2321.26,1382.13 \n",
       "  \"/>\n",
       "<polyline clip-path=\"url(#clip1302)\" style=\"stroke:#000000; stroke-width:2; stroke-opacity:0.1; fill:none\" points=\"\n",
       "  148.013,1145.6 2321.26,1145.6 \n",
       "  \"/>\n",
       "<polyline clip-path=\"url(#clip1302)\" style=\"stroke:#000000; stroke-width:2; stroke-opacity:0.1; fill:none\" points=\"\n",
       "  148.013,909.068 2321.26,909.068 \n",
       "  \"/>\n",
       "<polyline clip-path=\"url(#clip1302)\" style=\"stroke:#000000; stroke-width:2; stroke-opacity:0.1; fill:none\" points=\"\n",
       "  148.013,672.536 2321.26,672.536 \n",
       "  \"/>\n",
       "<polyline clip-path=\"url(#clip1302)\" style=\"stroke:#000000; stroke-width:2; stroke-opacity:0.1; fill:none\" points=\"\n",
       "  148.013,436.004 2321.26,436.004 \n",
       "  \"/>\n",
       "<polyline clip-path=\"url(#clip1302)\" style=\"stroke:#000000; stroke-width:2; stroke-opacity:0.1; fill:none\" points=\"\n",
       "  148.013,199.472 2321.26,199.472 \n",
       "  \"/>\n",
       "<polyline clip-path=\"url(#clip1300)\" style=\"stroke:#000000; stroke-width:4; stroke-opacity:1; fill:none\" points=\"\n",
       "  148.013,1503.47 2321.26,1503.47 \n",
       "  \"/>\n",
       "<polyline clip-path=\"url(#clip1300)\" style=\"stroke:#000000; stroke-width:4; stroke-opacity:1; fill:none\" points=\"\n",
       "  148.013,1503.47 148.013,47.2441 \n",
       "  \"/>\n",
       "<polyline clip-path=\"url(#clip1300)\" style=\"stroke:#000000; stroke-width:4; stroke-opacity:1; fill:none\" points=\"\n",
       "  437.324,1503.47 437.324,1481.63 \n",
       "  \"/>\n",
       "<polyline clip-path=\"url(#clip1300)\" style=\"stroke:#000000; stroke-width:4; stroke-opacity:1; fill:none\" points=\"\n",
       "  892.931,1503.47 892.931,1481.63 \n",
       "  \"/>\n",
       "<polyline clip-path=\"url(#clip1300)\" style=\"stroke:#000000; stroke-width:4; stroke-opacity:1; fill:none\" points=\"\n",
       "  1348.54,1503.47 1348.54,1481.63 \n",
       "  \"/>\n",
       "<polyline clip-path=\"url(#clip1300)\" style=\"stroke:#000000; stroke-width:4; stroke-opacity:1; fill:none\" points=\"\n",
       "  1804.15,1503.47 1804.15,1481.63 \n",
       "  \"/>\n",
       "<polyline clip-path=\"url(#clip1300)\" style=\"stroke:#000000; stroke-width:4; stroke-opacity:1; fill:none\" points=\"\n",
       "  2259.75,1503.47 2259.75,1481.63 \n",
       "  \"/>\n",
       "<polyline clip-path=\"url(#clip1300)\" style=\"stroke:#000000; stroke-width:4; stroke-opacity:1; fill:none\" points=\"\n",
       "  148.013,1382.13 180.612,1382.13 \n",
       "  \"/>\n",
       "<polyline clip-path=\"url(#clip1300)\" style=\"stroke:#000000; stroke-width:4; stroke-opacity:1; fill:none\" points=\"\n",
       "  148.013,1145.6 180.612,1145.6 \n",
       "  \"/>\n",
       "<polyline clip-path=\"url(#clip1300)\" style=\"stroke:#000000; stroke-width:4; stroke-opacity:1; fill:none\" points=\"\n",
       "  148.013,909.068 180.612,909.068 \n",
       "  \"/>\n",
       "<polyline clip-path=\"url(#clip1300)\" style=\"stroke:#000000; stroke-width:4; stroke-opacity:1; fill:none\" points=\"\n",
       "  148.013,672.536 180.612,672.536 \n",
       "  \"/>\n",
       "<polyline clip-path=\"url(#clip1300)\" style=\"stroke:#000000; stroke-width:4; stroke-opacity:1; fill:none\" points=\"\n",
       "  148.013,436.004 180.612,436.004 \n",
       "  \"/>\n",
       "<polyline clip-path=\"url(#clip1300)\" style=\"stroke:#000000; stroke-width:4; stroke-opacity:1; fill:none\" points=\"\n",
       "  148.013,199.472 180.612,199.472 \n",
       "  \"/>\n",
       "<g clip-path=\"url(#clip1300)\">\n",
       "<text style=\"fill:#000000; fill-opacity:1; font-family:Arial,Helvetica Neue,Helvetica,sans-serif; font-size:48px; text-anchor:middle;\" transform=\"rotate(0, 437.324, 1557.47)\" x=\"437.324\" y=\"1557.47\">2</text>\n",
       "</g>\n",
       "<g clip-path=\"url(#clip1300)\">\n",
       "<text style=\"fill:#000000; fill-opacity:1; font-family:Arial,Helvetica Neue,Helvetica,sans-serif; font-size:48px; text-anchor:middle;\" transform=\"rotate(0, 892.931, 1557.47)\" x=\"892.931\" y=\"1557.47\">4</text>\n",
       "</g>\n",
       "<g clip-path=\"url(#clip1300)\">\n",
       "<text style=\"fill:#000000; fill-opacity:1; font-family:Arial,Helvetica Neue,Helvetica,sans-serif; font-size:48px; text-anchor:middle;\" transform=\"rotate(0, 1348.54, 1557.47)\" x=\"1348.54\" y=\"1557.47\">6</text>\n",
       "</g>\n",
       "<g clip-path=\"url(#clip1300)\">\n",
       "<text style=\"fill:#000000; fill-opacity:1; font-family:Arial,Helvetica Neue,Helvetica,sans-serif; font-size:48px; text-anchor:middle;\" transform=\"rotate(0, 1804.15, 1557.47)\" x=\"1804.15\" y=\"1557.47\">8</text>\n",
       "</g>\n",
       "<g clip-path=\"url(#clip1300)\">\n",
       "<text style=\"fill:#000000; fill-opacity:1; font-family:Arial,Helvetica Neue,Helvetica,sans-serif; font-size:48px; text-anchor:middle;\" transform=\"rotate(0, 2259.75, 1557.47)\" x=\"2259.75\" y=\"1557.47\">10</text>\n",
       "</g>\n",
       "<g clip-path=\"url(#clip1300)\">\n",
       "<text style=\"fill:#000000; fill-opacity:1; font-family:Arial,Helvetica Neue,Helvetica,sans-serif; font-size:48px; text-anchor:end;\" transform=\"rotate(0, 124.013, 1399.63)\" x=\"124.013\" y=\"1399.63\">5</text>\n",
       "</g>\n",
       "<g clip-path=\"url(#clip1300)\">\n",
       "<text style=\"fill:#000000; fill-opacity:1; font-family:Arial,Helvetica Neue,Helvetica,sans-serif; font-size:48px; text-anchor:end;\" transform=\"rotate(0, 124.013, 1163.1)\" x=\"124.013\" y=\"1163.1\">10</text>\n",
       "</g>\n",
       "<g clip-path=\"url(#clip1300)\">\n",
       "<text style=\"fill:#000000; fill-opacity:1; font-family:Arial,Helvetica Neue,Helvetica,sans-serif; font-size:48px; text-anchor:end;\" transform=\"rotate(0, 124.013, 926.568)\" x=\"124.013\" y=\"926.568\">15</text>\n",
       "</g>\n",
       "<g clip-path=\"url(#clip1300)\">\n",
       "<text style=\"fill:#000000; fill-opacity:1; font-family:Arial,Helvetica Neue,Helvetica,sans-serif; font-size:48px; text-anchor:end;\" transform=\"rotate(0, 124.013, 690.036)\" x=\"124.013\" y=\"690.036\">20</text>\n",
       "</g>\n",
       "<g clip-path=\"url(#clip1300)\">\n",
       "<text style=\"fill:#000000; fill-opacity:1; font-family:Arial,Helvetica Neue,Helvetica,sans-serif; font-size:48px; text-anchor:end;\" transform=\"rotate(0, 124.013, 453.504)\" x=\"124.013\" y=\"453.504\">25</text>\n",
       "</g>\n",
       "<g clip-path=\"url(#clip1300)\">\n",
       "<text style=\"fill:#000000; fill-opacity:1; font-family:Arial,Helvetica Neue,Helvetica,sans-serif; font-size:48px; text-anchor:end;\" transform=\"rotate(0, 124.013, 216.972)\" x=\"124.013\" y=\"216.972\">30</text>\n",
       "</g>\n",
       "<circle clip-path=\"url(#clip1302)\" style=\"fill:#000000; stroke:none; fill-opacity:1\" cx=\"209.52\" cy=\"1462.26\" r=\"18\"/>\n",
       "<circle clip-path=\"url(#clip1302)\" style=\"fill:#009af9; stroke:none; fill-opacity:1\" cx=\"209.52\" cy=\"1462.26\" r=\"14\"/>\n",
       "<circle clip-path=\"url(#clip1302)\" style=\"fill:#000000; stroke:none; fill-opacity:1\" cx=\"232.3\" cy=\"1416.95\" r=\"18\"/>\n",
       "<circle clip-path=\"url(#clip1302)\" style=\"fill:#009af9; stroke:none; fill-opacity:1\" cx=\"232.3\" cy=\"1416.95\" r=\"14\"/>\n",
       "<circle clip-path=\"url(#clip1302)\" style=\"fill:#000000; stroke:none; fill-opacity:1\" cx=\"255.081\" cy=\"1412.23\" r=\"18\"/>\n",
       "<circle clip-path=\"url(#clip1302)\" style=\"fill:#009af9; stroke:none; fill-opacity:1\" cx=\"255.081\" cy=\"1412.23\" r=\"14\"/>\n",
       "<circle clip-path=\"url(#clip1302)\" style=\"fill:#000000; stroke:none; fill-opacity:1\" cx=\"277.861\" cy=\"1414.58\" r=\"18\"/>\n",
       "<circle clip-path=\"url(#clip1302)\" style=\"fill:#009af9; stroke:none; fill-opacity:1\" cx=\"277.861\" cy=\"1414.58\" r=\"14\"/>\n",
       "<circle clip-path=\"url(#clip1302)\" style=\"fill:#000000; stroke:none; fill-opacity:1\" cx=\"300.641\" cy=\"1415.61\" r=\"18\"/>\n",
       "<circle clip-path=\"url(#clip1302)\" style=\"fill:#009af9; stroke:none; fill-opacity:1\" cx=\"300.641\" cy=\"1415.61\" r=\"14\"/>\n",
       "<circle clip-path=\"url(#clip1302)\" style=\"fill:#000000; stroke:none; fill-opacity:1\" cx=\"323.422\" cy=\"1361.93\" r=\"18\"/>\n",
       "<circle clip-path=\"url(#clip1302)\" style=\"fill:#009af9; stroke:none; fill-opacity:1\" cx=\"323.422\" cy=\"1361.93\" r=\"14\"/>\n",
       "<circle clip-path=\"url(#clip1302)\" style=\"fill:#000000; stroke:none; fill-opacity:1\" cx=\"346.202\" cy=\"1351.42\" r=\"18\"/>\n",
       "<circle clip-path=\"url(#clip1302)\" style=\"fill:#009af9; stroke:none; fill-opacity:1\" cx=\"346.202\" cy=\"1351.42\" r=\"14\"/>\n",
       "<circle clip-path=\"url(#clip1302)\" style=\"fill:#000000; stroke:none; fill-opacity:1\" cx=\"368.982\" cy=\"1356.11\" r=\"18\"/>\n",
       "<circle clip-path=\"url(#clip1302)\" style=\"fill:#009af9; stroke:none; fill-opacity:1\" cx=\"368.982\" cy=\"1356.11\" r=\"14\"/>\n",
       "<circle clip-path=\"url(#clip1302)\" style=\"fill:#000000; stroke:none; fill-opacity:1\" cx=\"391.763\" cy=\"1353.77\" r=\"18\"/>\n",
       "<circle clip-path=\"url(#clip1302)\" style=\"fill:#009af9; stroke:none; fill-opacity:1\" cx=\"391.763\" cy=\"1353.77\" r=\"14\"/>\n",
       "<circle clip-path=\"url(#clip1302)\" style=\"fill:#000000; stroke:none; fill-opacity:1\" cx=\"414.543\" cy=\"1294.26\" r=\"18\"/>\n",
       "<circle clip-path=\"url(#clip1302)\" style=\"fill:#009af9; stroke:none; fill-opacity:1\" cx=\"414.543\" cy=\"1294.26\" r=\"14\"/>\n",
       "<circle clip-path=\"url(#clip1302)\" style=\"fill:#000000; stroke:none; fill-opacity:1\" cx=\"437.324\" cy=\"1294.1\" r=\"18\"/>\n",
       "<circle clip-path=\"url(#clip1302)\" style=\"fill:#009af9; stroke:none; fill-opacity:1\" cx=\"437.324\" cy=\"1294.1\" r=\"14\"/>\n",
       "<circle clip-path=\"url(#clip1302)\" style=\"fill:#000000; stroke:none; fill-opacity:1\" cx=\"460.104\" cy=\"1292.68\" r=\"18\"/>\n",
       "<circle clip-path=\"url(#clip1302)\" style=\"fill:#009af9; stroke:none; fill-opacity:1\" cx=\"460.104\" cy=\"1292.68\" r=\"14\"/>\n",
       "<circle clip-path=\"url(#clip1302)\" style=\"fill:#000000; stroke:none; fill-opacity:1\" cx=\"482.884\" cy=\"1252.65\" r=\"18\"/>\n",
       "<circle clip-path=\"url(#clip1302)\" style=\"fill:#009af9; stroke:none; fill-opacity:1\" cx=\"482.884\" cy=\"1252.65\" r=\"14\"/>\n",
       "<circle clip-path=\"url(#clip1302)\" style=\"fill:#000000; stroke:none; fill-opacity:1\" cx=\"505.665\" cy=\"1242.29\" r=\"18\"/>\n",
       "<circle clip-path=\"url(#clip1302)\" style=\"fill:#009af9; stroke:none; fill-opacity:1\" cx=\"505.665\" cy=\"1242.29\" r=\"14\"/>\n",
       "<circle clip-path=\"url(#clip1302)\" style=\"fill:#000000; stroke:none; fill-opacity:1\" cx=\"528.445\" cy=\"1237.24\" r=\"18\"/>\n",
       "<circle clip-path=\"url(#clip1302)\" style=\"fill:#009af9; stroke:none; fill-opacity:1\" cx=\"528.445\" cy=\"1237.24\" r=\"14\"/>\n",
       "<circle clip-path=\"url(#clip1302)\" style=\"fill:#000000; stroke:none; fill-opacity:1\" cx=\"551.225\" cy=\"1237.3\" r=\"18\"/>\n",
       "<circle clip-path=\"url(#clip1302)\" style=\"fill:#009af9; stroke:none; fill-opacity:1\" cx=\"551.225\" cy=\"1237.3\" r=\"14\"/>\n",
       "<circle clip-path=\"url(#clip1302)\" style=\"fill:#000000; stroke:none; fill-opacity:1\" cx=\"574.006\" cy=\"1192.11\" r=\"18\"/>\n",
       "<circle clip-path=\"url(#clip1302)\" style=\"fill:#009af9; stroke:none; fill-opacity:1\" cx=\"574.006\" cy=\"1192.11\" r=\"14\"/>\n",
       "<circle clip-path=\"url(#clip1302)\" style=\"fill:#000000; stroke:none; fill-opacity:1\" cx=\"596.786\" cy=\"1172.11\" r=\"18\"/>\n",
       "<circle clip-path=\"url(#clip1302)\" style=\"fill:#009af9; stroke:none; fill-opacity:1\" cx=\"596.786\" cy=\"1172.11\" r=\"14\"/>\n",
       "<circle clip-path=\"url(#clip1302)\" style=\"fill:#000000; stroke:none; fill-opacity:1\" cx=\"619.566\" cy=\"1190.53\" r=\"18\"/>\n",
       "<circle clip-path=\"url(#clip1302)\" style=\"fill:#009af9; stroke:none; fill-opacity:1\" cx=\"619.566\" cy=\"1190.53\" r=\"14\"/>\n",
       "<circle clip-path=\"url(#clip1302)\" style=\"fill:#000000; stroke:none; fill-opacity:1\" cx=\"642.347\" cy=\"1147.47\" r=\"18\"/>\n",
       "<circle clip-path=\"url(#clip1302)\" style=\"fill:#009af9; stroke:none; fill-opacity:1\" cx=\"642.347\" cy=\"1147.47\" r=\"14\"/>\n",
       "<circle clip-path=\"url(#clip1302)\" style=\"fill:#000000; stroke:none; fill-opacity:1\" cx=\"665.127\" cy=\"1133.48\" r=\"18\"/>\n",
       "<circle clip-path=\"url(#clip1302)\" style=\"fill:#009af9; stroke:none; fill-opacity:1\" cx=\"665.127\" cy=\"1133.48\" r=\"14\"/>\n",
       "<circle clip-path=\"url(#clip1302)\" style=\"fill:#000000; stroke:none; fill-opacity:1\" cx=\"687.908\" cy=\"1127.67\" r=\"18\"/>\n",
       "<circle clip-path=\"url(#clip1302)\" style=\"fill:#009af9; stroke:none; fill-opacity:1\" cx=\"687.908\" cy=\"1127.67\" r=\"14\"/>\n",
       "<circle clip-path=\"url(#clip1302)\" style=\"fill:#000000; stroke:none; fill-opacity:1\" cx=\"710.688\" cy=\"1136.31\" r=\"18\"/>\n",
       "<circle clip-path=\"url(#clip1302)\" style=\"fill:#009af9; stroke:none; fill-opacity:1\" cx=\"710.688\" cy=\"1136.31\" r=\"14\"/>\n",
       "<circle clip-path=\"url(#clip1302)\" style=\"fill:#000000; stroke:none; fill-opacity:1\" cx=\"733.468\" cy=\"1104.86\" r=\"18\"/>\n",
       "<circle clip-path=\"url(#clip1302)\" style=\"fill:#009af9; stroke:none; fill-opacity:1\" cx=\"733.468\" cy=\"1104.86\" r=\"14\"/>\n",
       "<circle clip-path=\"url(#clip1302)\" style=\"fill:#000000; stroke:none; fill-opacity:1\" cx=\"756.249\" cy=\"1103.83\" r=\"18\"/>\n",
       "<circle clip-path=\"url(#clip1302)\" style=\"fill:#009af9; stroke:none; fill-opacity:1\" cx=\"756.249\" cy=\"1103.83\" r=\"14\"/>\n",
       "<circle clip-path=\"url(#clip1302)\" style=\"fill:#000000; stroke:none; fill-opacity:1\" cx=\"779.029\" cy=\"1068.86\" r=\"18\"/>\n",
       "<circle clip-path=\"url(#clip1302)\" style=\"fill:#009af9; stroke:none; fill-opacity:1\" cx=\"779.029\" cy=\"1068.86\" r=\"14\"/>\n",
       "<circle clip-path=\"url(#clip1302)\" style=\"fill:#000000; stroke:none; fill-opacity:1\" cx=\"801.809\" cy=\"1039.19\" r=\"18\"/>\n",
       "<circle clip-path=\"url(#clip1302)\" style=\"fill:#009af9; stroke:none; fill-opacity:1\" cx=\"801.809\" cy=\"1039.19\" r=\"14\"/>\n",
       "<circle clip-path=\"url(#clip1302)\" style=\"fill:#000000; stroke:none; fill-opacity:1\" cx=\"824.59\" cy=\"1046.3\" r=\"18\"/>\n",
       "<circle clip-path=\"url(#clip1302)\" style=\"fill:#009af9; stroke:none; fill-opacity:1\" cx=\"824.59\" cy=\"1046.3\" r=\"14\"/>\n",
       "<circle clip-path=\"url(#clip1302)\" style=\"fill:#000000; stroke:none; fill-opacity:1\" cx=\"847.37\" cy=\"1043.59\" r=\"18\"/>\n",
       "<circle clip-path=\"url(#clip1302)\" style=\"fill:#009af9; stroke:none; fill-opacity:1\" cx=\"847.37\" cy=\"1043.59\" r=\"14\"/>\n",
       "<circle clip-path=\"url(#clip1302)\" style=\"fill:#000000; stroke:none; fill-opacity:1\" cx=\"870.15\" cy=\"1022.34\" r=\"18\"/>\n",
       "<circle clip-path=\"url(#clip1302)\" style=\"fill:#009af9; stroke:none; fill-opacity:1\" cx=\"870.15\" cy=\"1022.34\" r=\"14\"/>\n",
       "<circle clip-path=\"url(#clip1302)\" style=\"fill:#000000; stroke:none; fill-opacity:1\" cx=\"892.931\" cy=\"1018.92\" r=\"18\"/>\n",
       "<circle clip-path=\"url(#clip1302)\" style=\"fill:#009af9; stroke:none; fill-opacity:1\" cx=\"892.931\" cy=\"1018.92\" r=\"14\"/>\n",
       "<circle clip-path=\"url(#clip1302)\" style=\"fill:#000000; stroke:none; fill-opacity:1\" cx=\"915.711\" cy=\"965.606\" r=\"18\"/>\n",
       "<circle clip-path=\"url(#clip1302)\" style=\"fill:#009af9; stroke:none; fill-opacity:1\" cx=\"915.711\" cy=\"965.606\" r=\"14\"/>\n",
       "<circle clip-path=\"url(#clip1302)\" style=\"fill:#000000; stroke:none; fill-opacity:1\" cx=\"938.492\" cy=\"964.381\" r=\"18\"/>\n",
       "<circle clip-path=\"url(#clip1302)\" style=\"fill:#009af9; stroke:none; fill-opacity:1\" cx=\"938.492\" cy=\"964.381\" r=\"14\"/>\n",
       "<circle clip-path=\"url(#clip1302)\" style=\"fill:#000000; stroke:none; fill-opacity:1\" cx=\"961.272\" cy=\"958.237\" r=\"18\"/>\n",
       "<circle clip-path=\"url(#clip1302)\" style=\"fill:#009af9; stroke:none; fill-opacity:1\" cx=\"961.272\" cy=\"958.237\" r=\"14\"/>\n",
       "<circle clip-path=\"url(#clip1302)\" style=\"fill:#000000; stroke:none; fill-opacity:1\" cx=\"984.052\" cy=\"935.422\" r=\"18\"/>\n",
       "<circle clip-path=\"url(#clip1302)\" style=\"fill:#009af9; stroke:none; fill-opacity:1\" cx=\"984.052\" cy=\"935.422\" r=\"14\"/>\n",
       "<circle clip-path=\"url(#clip1302)\" style=\"fill:#000000; stroke:none; fill-opacity:1\" cx=\"1006.83\" cy=\"942.445\" r=\"18\"/>\n",
       "<circle clip-path=\"url(#clip1302)\" style=\"fill:#009af9; stroke:none; fill-opacity:1\" cx=\"1006.83\" cy=\"942.445\" r=\"14\"/>\n",
       "<circle clip-path=\"url(#clip1302)\" style=\"fill:#000000; stroke:none; fill-opacity:1\" cx=\"1029.61\" cy=\"902.512\" r=\"18\"/>\n",
       "<circle clip-path=\"url(#clip1302)\" style=\"fill:#009af9; stroke:none; fill-opacity:1\" cx=\"1029.61\" cy=\"902.512\" r=\"14\"/>\n",
       "<circle clip-path=\"url(#clip1302)\" style=\"fill:#000000; stroke:none; fill-opacity:1\" cx=\"1052.39\" cy=\"911.147\" r=\"18\"/>\n",
       "<circle clip-path=\"url(#clip1302)\" style=\"fill:#009af9; stroke:none; fill-opacity:1\" cx=\"1052.39\" cy=\"911.147\" r=\"14\"/>\n",
       "<circle clip-path=\"url(#clip1302)\" style=\"fill:#000000; stroke:none; fill-opacity:1\" cx=\"1075.17\" cy=\"887.239\" r=\"18\"/>\n",
       "<circle clip-path=\"url(#clip1302)\" style=\"fill:#009af9; stroke:none; fill-opacity:1\" cx=\"1075.17\" cy=\"887.239\" r=\"14\"/>\n",
       "<circle clip-path=\"url(#clip1302)\" style=\"fill:#000000; stroke:none; fill-opacity:1\" cx=\"1097.95\" cy=\"852.828\" r=\"18\"/>\n",
       "<circle clip-path=\"url(#clip1302)\" style=\"fill:#009af9; stroke:none; fill-opacity:1\" cx=\"1097.95\" cy=\"852.828\" r=\"14\"/>\n",
       "<circle clip-path=\"url(#clip1302)\" style=\"fill:#000000; stroke:none; fill-opacity:1\" cx=\"1120.73\" cy=\"864.542\" r=\"18\"/>\n",
       "<circle clip-path=\"url(#clip1302)\" style=\"fill:#009af9; stroke:none; fill-opacity:1\" cx=\"1120.73\" cy=\"864.542\" r=\"14\"/>\n",
       "<circle clip-path=\"url(#clip1302)\" style=\"fill:#000000; stroke:none; fill-opacity:1\" cx=\"1143.51\" cy=\"830.915\" r=\"18\"/>\n",
       "<circle clip-path=\"url(#clip1302)\" style=\"fill:#009af9; stroke:none; fill-opacity:1\" cx=\"1143.51\" cy=\"830.915\" r=\"14\"/>\n",
       "<circle clip-path=\"url(#clip1302)\" style=\"fill:#000000; stroke:none; fill-opacity:1\" cx=\"1166.3\" cy=\"808.974\" r=\"18\"/>\n",
       "<circle clip-path=\"url(#clip1302)\" style=\"fill:#009af9; stroke:none; fill-opacity:1\" cx=\"1166.3\" cy=\"808.974\" r=\"14\"/>\n",
       "<circle clip-path=\"url(#clip1302)\" style=\"fill:#000000; stroke:none; fill-opacity:1\" cx=\"1189.08\" cy=\"779.318\" r=\"18\"/>\n",
       "<circle clip-path=\"url(#clip1302)\" style=\"fill:#009af9; stroke:none; fill-opacity:1\" cx=\"1189.08\" cy=\"779.318\" r=\"14\"/>\n",
       "<circle clip-path=\"url(#clip1302)\" style=\"fill:#000000; stroke:none; fill-opacity:1\" cx=\"1211.86\" cy=\"785.457\" r=\"18\"/>\n",
       "<circle clip-path=\"url(#clip1302)\" style=\"fill:#009af9; stroke:none; fill-opacity:1\" cx=\"1211.86\" cy=\"785.457\" r=\"14\"/>\n",
       "<circle clip-path=\"url(#clip1302)\" style=\"fill:#000000; stroke:none; fill-opacity:1\" cx=\"1234.64\" cy=\"768.397\" r=\"18\"/>\n",
       "<circle clip-path=\"url(#clip1302)\" style=\"fill:#009af9; stroke:none; fill-opacity:1\" cx=\"1234.64\" cy=\"768.397\" r=\"14\"/>\n",
       "<circle clip-path=\"url(#clip1302)\" style=\"fill:#000000; stroke:none; fill-opacity:1\" cx=\"1257.42\" cy=\"760.265\" r=\"18\"/>\n",
       "<circle clip-path=\"url(#clip1302)\" style=\"fill:#009af9; stroke:none; fill-opacity:1\" cx=\"1257.42\" cy=\"760.265\" r=\"14\"/>\n",
       "<circle clip-path=\"url(#clip1302)\" style=\"fill:#000000; stroke:none; fill-opacity:1\" cx=\"1280.2\" cy=\"727.618\" r=\"18\"/>\n",
       "<circle clip-path=\"url(#clip1302)\" style=\"fill:#009af9; stroke:none; fill-opacity:1\" cx=\"1280.2\" cy=\"727.618\" r=\"14\"/>\n",
       "<circle clip-path=\"url(#clip1302)\" style=\"fill:#000000; stroke:none; fill-opacity:1\" cx=\"1302.98\" cy=\"732.291\" r=\"18\"/>\n",
       "<circle clip-path=\"url(#clip1302)\" style=\"fill:#009af9; stroke:none; fill-opacity:1\" cx=\"1302.98\" cy=\"732.291\" r=\"14\"/>\n",
       "<circle clip-path=\"url(#clip1302)\" style=\"fill:#000000; stroke:none; fill-opacity:1\" cx=\"1325.76\" cy=\"710.925\" r=\"18\"/>\n",
       "<circle clip-path=\"url(#clip1302)\" style=\"fill:#009af9; stroke:none; fill-opacity:1\" cx=\"1325.76\" cy=\"710.925\" r=\"14\"/>\n",
       "<circle clip-path=\"url(#clip1302)\" style=\"fill:#000000; stroke:none; fill-opacity:1\" cx=\"1348.54\" cy=\"710.961\" r=\"18\"/>\n",
       "<circle clip-path=\"url(#clip1302)\" style=\"fill:#009af9; stroke:none; fill-opacity:1\" cx=\"1348.54\" cy=\"710.961\" r=\"14\"/>\n",
       "<circle clip-path=\"url(#clip1302)\" style=\"fill:#000000; stroke:none; fill-opacity:1\" cx=\"1371.32\" cy=\"666.16\" r=\"18\"/>\n",
       "<circle clip-path=\"url(#clip1302)\" style=\"fill:#009af9; stroke:none; fill-opacity:1\" cx=\"1371.32\" cy=\"666.16\" r=\"14\"/>\n",
       "<circle clip-path=\"url(#clip1302)\" style=\"fill:#000000; stroke:none; fill-opacity:1\" cx=\"1394.1\" cy=\"647.855\" r=\"18\"/>\n",
       "<circle clip-path=\"url(#clip1302)\" style=\"fill:#009af9; stroke:none; fill-opacity:1\" cx=\"1394.1\" cy=\"647.855\" r=\"14\"/>\n",
       "<circle clip-path=\"url(#clip1302)\" style=\"fill:#000000; stroke:none; fill-opacity:1\" cx=\"1416.88\" cy=\"663.987\" r=\"18\"/>\n",
       "<circle clip-path=\"url(#clip1302)\" style=\"fill:#009af9; stroke:none; fill-opacity:1\" cx=\"1416.88\" cy=\"663.987\" r=\"14\"/>\n",
       "<circle clip-path=\"url(#clip1302)\" style=\"fill:#000000; stroke:none; fill-opacity:1\" cx=\"1439.66\" cy=\"622.896\" r=\"18\"/>\n",
       "<circle clip-path=\"url(#clip1302)\" style=\"fill:#009af9; stroke:none; fill-opacity:1\" cx=\"1439.66\" cy=\"622.896\" r=\"14\"/>\n",
       "<circle clip-path=\"url(#clip1302)\" style=\"fill:#000000; stroke:none; fill-opacity:1\" cx=\"1462.44\" cy=\"628.453\" r=\"18\"/>\n",
       "<circle clip-path=\"url(#clip1302)\" style=\"fill:#009af9; stroke:none; fill-opacity:1\" cx=\"1462.44\" cy=\"628.453\" r=\"14\"/>\n",
       "<circle clip-path=\"url(#clip1302)\" style=\"fill:#000000; stroke:none; fill-opacity:1\" cx=\"1485.22\" cy=\"614.94\" r=\"18\"/>\n",
       "<circle clip-path=\"url(#clip1302)\" style=\"fill:#009af9; stroke:none; fill-opacity:1\" cx=\"1485.22\" cy=\"614.94\" r=\"14\"/>\n",
       "<circle clip-path=\"url(#clip1302)\" style=\"fill:#000000; stroke:none; fill-opacity:1\" cx=\"1508\" cy=\"589.86\" r=\"18\"/>\n",
       "<circle clip-path=\"url(#clip1302)\" style=\"fill:#009af9; stroke:none; fill-opacity:1\" cx=\"1508\" cy=\"589.86\" r=\"14\"/>\n",
       "<circle clip-path=\"url(#clip1302)\" style=\"fill:#000000; stroke:none; fill-opacity:1\" cx=\"1530.78\" cy=\"582.532\" r=\"18\"/>\n",
       "<circle clip-path=\"url(#clip1302)\" style=\"fill:#009af9; stroke:none; fill-opacity:1\" cx=\"1530.78\" cy=\"582.532\" r=\"14\"/>\n",
       "<circle clip-path=\"url(#clip1302)\" style=\"fill:#000000; stroke:none; fill-opacity:1\" cx=\"1553.56\" cy=\"561.721\" r=\"18\"/>\n",
       "<circle clip-path=\"url(#clip1302)\" style=\"fill:#009af9; stroke:none; fill-opacity:1\" cx=\"1553.56\" cy=\"561.721\" r=\"14\"/>\n",
       "<circle clip-path=\"url(#clip1302)\" style=\"fill:#000000; stroke:none; fill-opacity:1\" cx=\"1576.34\" cy=\"548.144\" r=\"18\"/>\n",
       "<circle clip-path=\"url(#clip1302)\" style=\"fill:#009af9; stroke:none; fill-opacity:1\" cx=\"1576.34\" cy=\"548.144\" r=\"14\"/>\n",
       "<circle clip-path=\"url(#clip1302)\" style=\"fill:#000000; stroke:none; fill-opacity:1\" cx=\"1599.12\" cy=\"542.287\" r=\"18\"/>\n",
       "<circle clip-path=\"url(#clip1302)\" style=\"fill:#009af9; stroke:none; fill-opacity:1\" cx=\"1599.12\" cy=\"542.287\" r=\"14\"/>\n",
       "<circle clip-path=\"url(#clip1302)\" style=\"fill:#000000; stroke:none; fill-opacity:1\" cx=\"1621.9\" cy=\"519.611\" r=\"18\"/>\n",
       "<circle clip-path=\"url(#clip1302)\" style=\"fill:#009af9; stroke:none; fill-opacity:1\" cx=\"1621.9\" cy=\"519.611\" r=\"14\"/>\n",
       "<circle clip-path=\"url(#clip1302)\" style=\"fill:#000000; stroke:none; fill-opacity:1\" cx=\"1644.68\" cy=\"517.295\" r=\"18\"/>\n",
       "<circle clip-path=\"url(#clip1302)\" style=\"fill:#009af9; stroke:none; fill-opacity:1\" cx=\"1644.68\" cy=\"517.295\" r=\"14\"/>\n",
       "<circle clip-path=\"url(#clip1302)\" style=\"fill:#000000; stroke:none; fill-opacity:1\" cx=\"1667.46\" cy=\"485.802\" r=\"18\"/>\n",
       "<circle clip-path=\"url(#clip1302)\" style=\"fill:#009af9; stroke:none; fill-opacity:1\" cx=\"1667.46\" cy=\"485.802\" r=\"14\"/>\n",
       "<circle clip-path=\"url(#clip1302)\" style=\"fill:#000000; stroke:none; fill-opacity:1\" cx=\"1690.24\" cy=\"462.179\" r=\"18\"/>\n",
       "<circle clip-path=\"url(#clip1302)\" style=\"fill:#009af9; stroke:none; fill-opacity:1\" cx=\"1690.24\" cy=\"462.179\" r=\"14\"/>\n",
       "<circle clip-path=\"url(#clip1302)\" style=\"fill:#000000; stroke:none; fill-opacity:1\" cx=\"1713.02\" cy=\"439.751\" r=\"18\"/>\n",
       "<circle clip-path=\"url(#clip1302)\" style=\"fill:#009af9; stroke:none; fill-opacity:1\" cx=\"1713.02\" cy=\"439.751\" r=\"14\"/>\n",
       "<circle clip-path=\"url(#clip1302)\" style=\"fill:#000000; stroke:none; fill-opacity:1\" cx=\"1735.8\" cy=\"453.289\" r=\"18\"/>\n",
       "<circle clip-path=\"url(#clip1302)\" style=\"fill:#009af9; stroke:none; fill-opacity:1\" cx=\"1735.8\" cy=\"453.289\" r=\"14\"/>\n",
       "<circle clip-path=\"url(#clip1302)\" style=\"fill:#000000; stroke:none; fill-opacity:1\" cx=\"1758.58\" cy=\"407.867\" r=\"18\"/>\n",
       "<circle clip-path=\"url(#clip1302)\" style=\"fill:#009af9; stroke:none; fill-opacity:1\" cx=\"1758.58\" cy=\"407.867\" r=\"14\"/>\n",
       "<circle clip-path=\"url(#clip1302)\" style=\"fill:#000000; stroke:none; fill-opacity:1\" cx=\"1781.37\" cy=\"389.902\" r=\"18\"/>\n",
       "<circle clip-path=\"url(#clip1302)\" style=\"fill:#009af9; stroke:none; fill-opacity:1\" cx=\"1781.37\" cy=\"389.902\" r=\"14\"/>\n",
       "<circle clip-path=\"url(#clip1302)\" style=\"fill:#000000; stroke:none; fill-opacity:1\" cx=\"1804.15\" cy=\"383.081\" r=\"18\"/>\n",
       "<circle clip-path=\"url(#clip1302)\" style=\"fill:#009af9; stroke:none; fill-opacity:1\" cx=\"1804.15\" cy=\"383.081\" r=\"14\"/>\n",
       "<circle clip-path=\"url(#clip1302)\" style=\"fill:#000000; stroke:none; fill-opacity:1\" cx=\"1826.93\" cy=\"369.94\" r=\"18\"/>\n",
       "<circle clip-path=\"url(#clip1302)\" style=\"fill:#009af9; stroke:none; fill-opacity:1\" cx=\"1826.93\" cy=\"369.94\" r=\"14\"/>\n",
       "<circle clip-path=\"url(#clip1302)\" style=\"fill:#000000; stroke:none; fill-opacity:1\" cx=\"1849.71\" cy=\"374.105\" r=\"18\"/>\n",
       "<circle clip-path=\"url(#clip1302)\" style=\"fill:#009af9; stroke:none; fill-opacity:1\" cx=\"1849.71\" cy=\"374.105\" r=\"14\"/>\n",
       "<circle clip-path=\"url(#clip1302)\" style=\"fill:#000000; stroke:none; fill-opacity:1\" cx=\"1872.49\" cy=\"330.341\" r=\"18\"/>\n",
       "<circle clip-path=\"url(#clip1302)\" style=\"fill:#009af9; stroke:none; fill-opacity:1\" cx=\"1872.49\" cy=\"330.341\" r=\"14\"/>\n",
       "<circle clip-path=\"url(#clip1302)\" style=\"fill:#000000; stroke:none; fill-opacity:1\" cx=\"1895.27\" cy=\"309.321\" r=\"18\"/>\n",
       "<circle clip-path=\"url(#clip1302)\" style=\"fill:#009af9; stroke:none; fill-opacity:1\" cx=\"1895.27\" cy=\"309.321\" r=\"14\"/>\n",
       "<circle clip-path=\"url(#clip1302)\" style=\"fill:#000000; stroke:none; fill-opacity:1\" cx=\"1918.05\" cy=\"309.303\" r=\"18\"/>\n",
       "<circle clip-path=\"url(#clip1302)\" style=\"fill:#009af9; stroke:none; fill-opacity:1\" cx=\"1918.05\" cy=\"309.303\" r=\"14\"/>\n",
       "<circle clip-path=\"url(#clip1302)\" style=\"fill:#000000; stroke:none; fill-opacity:1\" cx=\"1940.83\" cy=\"319.676\" r=\"18\"/>\n",
       "<circle clip-path=\"url(#clip1302)\" style=\"fill:#009af9; stroke:none; fill-opacity:1\" cx=\"1940.83\" cy=\"319.676\" r=\"14\"/>\n",
       "<circle clip-path=\"url(#clip1302)\" style=\"fill:#000000; stroke:none; fill-opacity:1\" cx=\"1963.61\" cy=\"264.645\" r=\"18\"/>\n",
       "<circle clip-path=\"url(#clip1302)\" style=\"fill:#009af9; stroke:none; fill-opacity:1\" cx=\"1963.61\" cy=\"264.645\" r=\"14\"/>\n",
       "<circle clip-path=\"url(#clip1302)\" style=\"fill:#000000; stroke:none; fill-opacity:1\" cx=\"1986.39\" cy=\"268.754\" r=\"18\"/>\n",
       "<circle clip-path=\"url(#clip1302)\" style=\"fill:#009af9; stroke:none; fill-opacity:1\" cx=\"1986.39\" cy=\"268.754\" r=\"14\"/>\n",
       "<circle clip-path=\"url(#clip1302)\" style=\"fill:#000000; stroke:none; fill-opacity:1\" cx=\"2009.17\" cy=\"280.359\" r=\"18\"/>\n",
       "<circle clip-path=\"url(#clip1302)\" style=\"fill:#009af9; stroke:none; fill-opacity:1\" cx=\"2009.17\" cy=\"280.359\" r=\"14\"/>\n",
       "<circle clip-path=\"url(#clip1302)\" style=\"fill:#000000; stroke:none; fill-opacity:1\" cx=\"2031.95\" cy=\"259.319\" r=\"18\"/>\n",
       "<circle clip-path=\"url(#clip1302)\" style=\"fill:#009af9; stroke:none; fill-opacity:1\" cx=\"2031.95\" cy=\"259.319\" r=\"14\"/>\n",
       "<circle clip-path=\"url(#clip1302)\" style=\"fill:#000000; stroke:none; fill-opacity:1\" cx=\"2054.73\" cy=\"217.38\" r=\"18\"/>\n",
       "<circle clip-path=\"url(#clip1302)\" style=\"fill:#009af9; stroke:none; fill-opacity:1\" cx=\"2054.73\" cy=\"217.38\" r=\"14\"/>\n",
       "<circle clip-path=\"url(#clip1302)\" style=\"fill:#000000; stroke:none; fill-opacity:1\" cx=\"2077.51\" cy=\"223.892\" r=\"18\"/>\n",
       "<circle clip-path=\"url(#clip1302)\" style=\"fill:#009af9; stroke:none; fill-opacity:1\" cx=\"2077.51\" cy=\"223.892\" r=\"14\"/>\n",
       "<circle clip-path=\"url(#clip1302)\" style=\"fill:#000000; stroke:none; fill-opacity:1\" cx=\"2100.29\" cy=\"183.174\" r=\"18\"/>\n",
       "<circle clip-path=\"url(#clip1302)\" style=\"fill:#009af9; stroke:none; fill-opacity:1\" cx=\"2100.29\" cy=\"183.174\" r=\"14\"/>\n",
       "<circle clip-path=\"url(#clip1302)\" style=\"fill:#000000; stroke:none; fill-opacity:1\" cx=\"2123.07\" cy=\"165.892\" r=\"18\"/>\n",
       "<circle clip-path=\"url(#clip1302)\" style=\"fill:#009af9; stroke:none; fill-opacity:1\" cx=\"2123.07\" cy=\"165.892\" r=\"14\"/>\n",
       "<circle clip-path=\"url(#clip1302)\" style=\"fill:#000000; stroke:none; fill-opacity:1\" cx=\"2145.85\" cy=\"159.325\" r=\"18\"/>\n",
       "<circle clip-path=\"url(#clip1302)\" style=\"fill:#009af9; stroke:none; fill-opacity:1\" cx=\"2145.85\" cy=\"159.325\" r=\"14\"/>\n",
       "<circle clip-path=\"url(#clip1302)\" style=\"fill:#000000; stroke:none; fill-opacity:1\" cx=\"2168.63\" cy=\"168.39\" r=\"18\"/>\n",
       "<circle clip-path=\"url(#clip1302)\" style=\"fill:#009af9; stroke:none; fill-opacity:1\" cx=\"2168.63\" cy=\"168.39\" r=\"14\"/>\n",
       "<circle clip-path=\"url(#clip1302)\" style=\"fill:#000000; stroke:none; fill-opacity:1\" cx=\"2191.41\" cy=\"153.141\" r=\"18\"/>\n",
       "<circle clip-path=\"url(#clip1302)\" style=\"fill:#009af9; stroke:none; fill-opacity:1\" cx=\"2191.41\" cy=\"153.141\" r=\"14\"/>\n",
       "<circle clip-path=\"url(#clip1302)\" style=\"fill:#000000; stroke:none; fill-opacity:1\" cx=\"2214.19\" cy=\"135.07\" r=\"18\"/>\n",
       "<circle clip-path=\"url(#clip1302)\" style=\"fill:#009af9; stroke:none; fill-opacity:1\" cx=\"2214.19\" cy=\"135.07\" r=\"14\"/>\n",
       "<circle clip-path=\"url(#clip1302)\" style=\"fill:#000000; stroke:none; fill-opacity:1\" cx=\"2236.97\" cy=\"93.2461\" r=\"18\"/>\n",
       "<circle clip-path=\"url(#clip1302)\" style=\"fill:#009af9; stroke:none; fill-opacity:1\" cx=\"2236.97\" cy=\"93.2461\" r=\"14\"/>\n",
       "<circle clip-path=\"url(#clip1302)\" style=\"fill:#000000; stroke:none; fill-opacity:1\" cx=\"2259.75\" cy=\"88.4582\" r=\"18\"/>\n",
       "<circle clip-path=\"url(#clip1302)\" style=\"fill:#009af9; stroke:none; fill-opacity:1\" cx=\"2259.75\" cy=\"88.4582\" r=\"14\"/>\n",
       "<polyline clip-path=\"url(#clip1302)\" style=\"stroke:#e26f46; stroke-width:4; stroke-opacity:1; fill:none\" points=\"\n",
       "  209.52,1426.57 232.3,1411.88 255.081,1397.19 277.861,1382.51 300.641,1367.82 323.422,1353.13 346.202,1338.45 368.982,1323.76 391.763,1309.07 414.543,1294.39 \n",
       "  437.324,1279.7 460.104,1265.01 482.884,1250.33 505.665,1235.64 528.445,1220.95 551.225,1206.27 574.006,1191.58 596.786,1176.89 619.566,1162.21 642.347,1147.52 \n",
       "  665.127,1132.83 687.908,1118.15 710.688,1103.46 733.468,1088.77 756.249,1074.09 779.029,1059.4 801.809,1044.71 824.59,1030.03 847.37,1015.34 870.15,1000.65 \n",
       "  892.931,985.967 915.711,971.28 938.492,956.594 961.272,941.907 984.052,927.221 1006.83,912.534 1029.61,897.847 1052.39,883.161 1075.17,868.474 1097.95,853.788 \n",
       "  1120.73,839.101 1143.51,824.414 1166.3,809.728 1189.08,795.041 1211.86,780.355 1234.64,765.668 1257.42,750.981 1280.2,736.295 1302.98,721.608 1325.76,706.921 \n",
       "  1348.54,692.235 1371.32,677.548 1394.1,662.862 1416.88,648.175 1439.66,633.488 1462.44,618.802 1485.22,604.115 1508,589.429 1530.78,574.742 1553.56,560.055 \n",
       "  1576.34,545.369 1599.12,530.682 1621.9,515.996 1644.68,501.309 1667.46,486.622 1690.24,471.936 1713.02,457.249 1735.8,442.562 1758.58,427.876 1781.37,413.189 \n",
       "  1804.15,398.503 1826.93,383.816 1849.71,369.129 1872.49,354.443 1895.27,339.756 1918.05,325.07 1940.83,310.383 1963.61,295.696 1986.39,281.01 2009.17,266.323 \n",
       "  2031.95,251.637 2054.73,236.95 2077.51,222.263 2100.29,207.577 2123.07,192.89 2145.85,178.203 2168.63,163.517 2191.41,148.83 2214.19,134.144 2236.97,119.457 \n",
       "  2259.75,104.77 \n",
       "  \"/>\n",
       "<polyline clip-path=\"url(#clip1302)\" style=\"stroke:#3da44d; stroke-width:4; stroke-opacity:1; fill:none\" points=\"\n",
       "  209.52,1427.43 232.3,1412.72 255.081,1398.02 277.861,1383.32 300.641,1368.62 323.422,1353.92 346.202,1339.22 368.982,1324.51 391.763,1309.81 414.543,1295.11 \n",
       "  437.324,1280.41 460.104,1265.71 482.884,1251.01 505.665,1236.3 528.445,1221.6 551.225,1206.9 574.006,1192.2 596.786,1177.5 619.566,1162.8 642.347,1148.09 \n",
       "  665.127,1133.39 687.908,1118.69 710.688,1103.99 733.468,1089.29 756.249,1074.59 779.029,1059.88 801.809,1045.18 824.59,1030.48 847.37,1015.78 870.15,1001.08 \n",
       "  892.931,986.376 915.711,971.674 938.492,956.973 961.272,942.271 984.052,927.57 1006.83,912.868 1029.61,898.166 1052.39,883.465 1075.17,868.763 1097.95,854.061 \n",
       "  1120.73,839.36 1143.51,824.658 1166.3,809.956 1189.08,795.255 1211.86,780.553 1234.64,765.851 1257.42,751.15 1280.2,736.448 1302.98,721.747 1325.76,707.045 \n",
       "  1348.54,692.343 1371.32,677.642 1394.1,662.94 1416.88,648.238 1439.66,633.537 1462.44,618.835 1485.22,604.133 1508,589.432 1530.78,574.73 1553.56,560.029 \n",
       "  1576.34,545.327 1599.12,530.625 1621.9,515.924 1644.68,501.222 1667.46,486.52 1690.24,471.819 1713.02,457.117 1735.8,442.415 1758.58,427.714 1781.37,413.012 \n",
       "  1804.15,398.31 1826.93,383.609 1849.71,368.907 1872.49,354.206 1895.27,339.504 1918.05,324.802 1940.83,310.101 1963.61,295.399 1986.39,280.697 2009.17,265.996 \n",
       "  2031.95,251.294 2054.73,236.592 2077.51,221.891 2100.29,207.189 2123.07,192.487 2145.85,177.786 2168.63,163.084 2191.41,148.383 2214.19,133.681 2236.97,118.979 \n",
       "  2259.75,104.278 \n",
       "  \"/>\n",
       "<polyline clip-path=\"url(#clip1302)\" style=\"stroke:#c271d2; stroke-width:4; stroke-opacity:1; fill:none\" points=\"\n",
       "  209.52,1428.25 232.3,1413.54 255.081,1398.82 277.861,1384.11 300.641,1369.39 323.422,1354.67 346.202,1339.96 368.982,1325.24 391.763,1310.53 414.543,1295.81 \n",
       "  437.324,1281.09 460.104,1266.38 482.884,1251.66 505.665,1236.94 528.445,1222.23 551.225,1207.51 574.006,1192.8 596.786,1178.08 619.566,1163.36 642.347,1148.65 \n",
       "  665.127,1133.93 687.908,1119.22 710.688,1104.5 733.468,1089.78 756.249,1075.07 779.029,1060.35 801.809,1045.64 824.59,1030.92 847.37,1016.2 870.15,1001.49 \n",
       "  892.931,986.771 915.711,972.054 938.492,957.338 961.272,942.622 984.052,927.906 1006.83,913.19 1029.61,898.474 1052.39,883.758 1075.17,869.041 1097.95,854.325 \n",
       "  1120.73,839.609 1143.51,824.893 1166.3,810.177 1189.08,795.461 1211.86,780.745 1234.64,766.029 1257.42,751.312 1280.2,736.596 1302.98,721.88 1325.76,707.164 \n",
       "  1348.54,692.448 1371.32,677.732 1394.1,663.016 1416.88,648.299 1439.66,633.583 1462.44,618.867 1485.22,604.151 1508,589.435 1530.78,574.719 1553.56,560.003 \n",
       "  1576.34,545.287 1599.12,530.57 1621.9,515.854 1644.68,501.138 1667.46,486.422 1690.24,471.706 1713.02,456.99 1735.8,442.274 1758.58,427.557 1781.37,412.841 \n",
       "  1804.15,398.125 1826.93,383.409 1849.71,368.693 1872.49,353.977 1895.27,339.261 1918.05,324.545 1940.83,309.828 1963.61,295.112 1986.39,280.396 2009.17,265.68 \n",
       "  2031.95,250.964 2054.73,236.248 2077.51,221.532 2100.29,206.815 2123.07,192.099 2145.85,177.383 2168.63,162.667 2191.41,147.951 2214.19,133.235 2236.97,118.519 \n",
       "  2259.75,103.802 \n",
       "  \"/>\n",
       "<polyline clip-path=\"url(#clip1302)\" style=\"stroke:#ac8d18; stroke-width:4; stroke-opacity:1; fill:none\" points=\"\n",
       "  209.52,1429.05 232.3,1414.32 255.081,1399.59 277.861,1384.86 300.641,1370.13 323.422,1355.4 346.202,1340.67 368.982,1325.94 391.763,1311.21 414.543,1296.48 \n",
       "  437.324,1281.75 460.104,1267.02 482.884,1252.29 505.665,1237.56 528.445,1222.83 551.225,1208.1 574.006,1193.37 596.786,1178.64 619.566,1163.91 642.347,1149.18 \n",
       "  665.127,1134.45 687.908,1119.72 710.688,1104.99 733.468,1090.26 756.249,1075.53 779.029,1060.8 801.809,1046.07 824.59,1031.34 847.37,1016.61 870.15,1001.88 \n",
       "  892.931,987.151 915.711,972.421 938.492,957.691 961.272,942.961 984.052,928.23 1006.83,913.5 1029.61,898.77 1052.39,884.04 1075.17,869.31 1097.95,854.58 \n",
       "  1120.73,839.85 1143.51,825.12 1166.3,810.39 1189.08,795.659 1211.86,780.929 1234.64,766.199 1257.42,751.469 1280.2,736.739 1302.98,722.009 1325.76,707.279 \n",
       "  1348.54,692.549 1371.32,677.819 1394.1,663.088 1416.88,648.358 1439.66,633.628 1462.44,618.898 1485.22,604.168 1508,589.438 1530.78,574.708 1553.56,559.978 \n",
       "  1576.34,545.248 1599.12,530.517 1621.9,515.787 1644.68,501.057 1667.46,486.327 1690.24,471.597 1713.02,456.867 1735.8,442.137 1758.58,427.407 1781.37,412.677 \n",
       "  1804.15,397.946 1826.93,383.216 1849.71,368.486 1872.49,353.756 1895.27,339.026 1918.05,324.296 1940.83,309.566 1963.61,294.836 1986.39,280.106 2009.17,265.376 \n",
       "  2031.95,250.645 2054.73,235.915 2077.51,221.185 2100.29,206.455 2123.07,191.725 2145.85,176.995 2168.63,162.265 2191.41,147.535 2214.19,132.805 2236.97,118.074 \n",
       "  2259.75,103.344 \n",
       "  \"/>\n",
       "<polyline clip-path=\"url(#clip1302)\" style=\"stroke:#00a9ad; stroke-width:4; stroke-opacity:1; fill:none\" points=\"\n",
       "  209.52,1429.83 232.3,1415.08 255.081,1400.34 277.861,1385.59 300.641,1370.85 323.422,1356.11 346.202,1341.36 368.982,1326.62 391.763,1311.88 414.543,1297.13 \n",
       "  437.324,1282.39 460.104,1267.65 482.884,1252.9 505.665,1238.16 528.445,1223.42 551.225,1208.67 574.006,1193.93 596.786,1179.18 619.566,1164.44 642.347,1149.7 \n",
       "  665.127,1134.95 687.908,1120.21 710.688,1105.47 733.468,1090.72 756.249,1075.98 779.029,1061.24 801.809,1046.49 824.59,1031.75 847.37,1017 870.15,1002.26 \n",
       "  892.931,987.518 915.711,972.774 938.492,958.03 961.272,943.287 984.052,928.543 1006.83,913.8 1029.61,899.056 1052.39,884.313 1075.17,869.569 1097.95,854.825 \n",
       "  1120.73,840.082 1143.51,825.338 1166.3,810.595 1189.08,795.851 1211.86,781.107 1234.64,766.364 1257.42,751.62 1280.2,736.877 1302.98,722.133 1325.76,707.39 \n",
       "  1348.54,692.646 1371.32,677.902 1394.1,663.159 1416.88,648.415 1439.66,633.672 1462.44,618.928 1485.22,604.184 1508,589.441 1530.78,574.697 1553.56,559.954 \n",
       "  1576.34,545.21 1599.12,530.466 1621.9,515.723 1644.68,500.979 1667.46,486.236 1690.24,471.492 1713.02,456.749 1735.8,442.005 1758.58,427.261 1781.37,412.518 \n",
       "  1804.15,397.774 1826.93,383.031 1849.71,368.287 1872.49,353.543 1895.27,338.8 1918.05,324.056 1940.83,309.313 1963.61,294.569 1986.39,279.825 2009.17,265.082 \n",
       "  2031.95,250.338 2054.73,235.595 2077.51,220.851 2100.29,206.108 2123.07,191.364 2145.85,176.62 2168.63,161.877 2191.41,147.133 2214.19,132.39 2236.97,117.646 \n",
       "  2259.75,102.902 \n",
       "  \"/>\n",
       "<polyline clip-path=\"url(#clip1302)\" style=\"stroke:#ed5d92; stroke-width:4; stroke-opacity:1; fill:none\" points=\"\n",
       "  209.52,1430.57 232.3,1415.81 255.081,1401.06 277.861,1386.3 300.641,1371.54 323.422,1356.79 346.202,1342.03 368.982,1327.27 391.763,1312.52 414.543,1297.76 \n",
       "  437.324,1283 460.104,1268.25 482.884,1253.49 505.665,1238.73 528.445,1223.98 551.225,1209.22 574.006,1194.46 596.786,1179.71 619.566,1164.95 642.347,1150.19 \n",
       "  665.127,1135.44 687.908,1120.68 710.688,1105.92 733.468,1091.17 756.249,1076.41 779.029,1061.65 801.809,1046.9 824.59,1032.14 847.37,1017.38 870.15,1002.63 \n",
       "  892.931,987.871 915.711,973.115 938.492,958.358 961.272,943.602 984.052,928.845 1006.83,914.088 1029.61,899.332 1052.39,884.575 1075.17,869.819 1097.95,855.062 \n",
       "  1120.73,840.306 1143.51,825.549 1166.3,810.792 1189.08,796.036 1211.86,781.279 1234.64,766.523 1257.42,751.766 1280.2,737.009 1302.98,722.253 1325.76,707.496 \n",
       "  1348.54,692.74 1371.32,677.983 1394.1,663.227 1416.88,648.47 1439.66,633.713 1462.44,618.957 1485.22,604.2 1508,589.444 1530.78,574.687 1553.56,559.93 \n",
       "  1576.34,545.174 1599.12,530.417 1621.9,515.661 1644.68,500.904 1667.46,486.148 1690.24,471.391 1713.02,456.634 1735.8,441.878 1758.58,427.121 1781.37,412.365 \n",
       "  1804.15,397.608 1826.93,382.851 1849.71,368.095 1872.49,353.338 1895.27,338.582 1918.05,323.825 1940.83,309.069 1963.61,294.312 1986.39,279.555 2009.17,264.799 \n",
       "  2031.95,250.042 2054.73,235.286 2077.51,220.529 2100.29,205.772 2123.07,191.016 2145.85,176.259 2168.63,161.503 2191.41,146.746 2214.19,131.99 2236.97,117.233 \n",
       "  2259.75,102.476 \n",
       "  \"/>\n",
       "<polyline clip-path=\"url(#clip1302)\" style=\"stroke:#c68125; stroke-width:4; stroke-opacity:1; fill:none\" points=\"\n",
       "  209.52,1431.29 232.3,1416.52 255.081,1401.75 277.861,1386.98 300.641,1372.21 323.422,1357.44 346.202,1342.67 368.982,1327.9 391.763,1313.13 414.543,1298.36 \n",
       "  437.324,1283.59 460.104,1268.83 482.884,1254.06 505.665,1239.29 528.445,1224.52 551.225,1209.75 574.006,1194.98 596.786,1180.21 619.566,1165.44 642.347,1150.67 \n",
       "  665.127,1135.9 687.908,1121.13 710.688,1106.37 733.468,1091.6 756.249,1076.83 779.029,1062.06 801.809,1047.29 824.59,1032.52 847.37,1017.75 870.15,1002.98 \n",
       "  892.931,988.212 915.711,973.443 938.492,958.674 961.272,943.905 984.052,929.136 1006.83,914.367 1029.61,899.598 1052.39,884.829 1075.17,870.059 1097.95,855.29 \n",
       "  1120.73,840.521 1143.51,825.752 1166.3,810.983 1189.08,796.214 1211.86,781.445 1234.64,766.676 1257.42,751.907 1280.2,737.137 1302.98,722.368 1325.76,707.599 \n",
       "  1348.54,692.83 1371.32,678.061 1394.1,663.292 1416.88,648.523 1439.66,633.754 1462.44,618.985 1485.22,604.215 1508,589.446 1530.78,574.677 1553.56,559.908 \n",
       "  1576.34,545.139 1599.12,530.37 1621.9,515.601 1644.68,500.832 1667.46,486.063 1690.24,471.293 1713.02,456.524 1735.8,441.755 1758.58,426.986 1781.37,412.217 \n",
       "  1804.15,397.448 1826.93,382.679 1849.71,367.91 1872.49,353.14 1895.27,338.371 1918.05,323.602 1940.83,308.833 1963.61,294.064 1986.39,279.295 2009.17,264.526 \n",
       "  2031.95,249.757 2054.73,234.988 2077.51,220.218 2100.29,205.449 2123.07,190.68 2145.85,175.911 2168.63,161.142 2191.41,146.373 2214.19,131.604 2236.97,116.835 \n",
       "  2259.75,102.066 \n",
       "  \"/>\n",
       "<polyline clip-path=\"url(#clip1302)\" style=\"stroke:#00a98d; stroke-width:4; stroke-opacity:1; fill:none\" points=\"\n",
       "  209.52,1431.98 232.3,1417.2 255.081,1402.41 277.861,1387.63 300.641,1372.85 323.422,1358.07 346.202,1343.29 368.982,1328.51 391.763,1313.73 414.543,1298.95 \n",
       "  437.324,1284.17 460.104,1269.38 482.884,1254.6 505.665,1239.82 528.445,1225.04 551.225,1210.26 574.006,1195.48 596.786,1180.7 619.566,1165.92 642.347,1151.13 \n",
       "  665.127,1136.35 687.908,1121.57 710.688,1106.79 733.468,1092.01 756.249,1077.23 779.029,1062.45 801.809,1047.67 824.59,1032.88 847.37,1018.1 870.15,1003.32 \n",
       "  892.931,988.541 915.711,973.76 938.492,958.979 961.272,944.198 984.052,929.416 1006.83,914.635 1029.61,899.854 1052.39,885.073 1075.17,870.292 1097.95,855.51 \n",
       "  1120.73,840.729 1143.51,825.948 1166.3,811.167 1189.08,796.386 1211.86,781.604 1234.64,766.823 1257.42,752.042 1280.2,737.261 1302.98,722.48 1325.76,707.698 \n",
       "  1348.54,692.917 1371.32,678.136 1394.1,663.355 1416.88,648.574 1439.66,633.792 1462.44,619.011 1485.22,604.23 1508,589.449 1530.78,574.668 1553.56,559.887 \n",
       "  1576.34,545.105 1599.12,530.324 1621.9,515.543 1644.68,500.762 1667.46,485.981 1690.24,471.199 1713.02,456.418 1735.8,441.637 1758.58,426.856 1781.37,412.075 \n",
       "  1804.15,397.293 1826.93,382.512 1849.71,367.731 1872.49,352.95 1895.27,338.169 1918.05,323.387 1940.83,308.606 1963.61,293.825 1986.39,279.044 2009.17,264.263 \n",
       "  2031.95,249.481 2054.73,234.7 2077.51,219.919 2100.29,205.138 2123.07,190.357 2145.85,175.575 2168.63,160.794 2191.41,146.013 2214.19,131.232 2236.97,116.451 \n",
       "  2259.75,101.669 \n",
       "  \"/>\n",
       "<polyline clip-path=\"url(#clip1302)\" style=\"stroke:#8e971d; stroke-width:4; stroke-opacity:1; fill:none\" points=\"\n",
       "  209.52,1432.64 232.3,1417.85 255.081,1403.06 277.861,1388.27 300.641,1373.47 323.422,1358.68 346.202,1343.89 368.982,1329.09 391.763,1314.3 414.543,1299.51 \n",
       "  437.324,1284.72 460.104,1269.92 482.884,1255.13 505.665,1240.34 528.445,1225.54 551.225,1210.75 574.006,1195.96 596.786,1181.17 619.566,1166.37 642.347,1151.58 \n",
       "  665.127,1136.79 687.908,1121.99 710.688,1107.2 733.468,1092.41 756.249,1077.62 779.029,1062.82 801.809,1048.03 824.59,1033.24 847.37,1018.44 870.15,1003.65 \n",
       "  892.931,988.858 915.711,974.066 938.492,959.273 961.272,944.48 984.052,929.687 1006.83,914.894 1029.61,900.101 1052.39,885.308 1075.17,870.516 1097.95,855.723 \n",
       "  1120.73,840.93 1143.51,826.137 1166.3,811.344 1189.08,796.551 1211.86,781.758 1234.64,766.966 1257.42,752.173 1280.2,737.38 1302.98,722.587 1325.76,707.794 \n",
       "  1348.54,693.001 1371.32,678.209 1394.1,663.416 1416.88,648.623 1439.66,633.83 1462.44,619.037 1485.22,604.244 1508,589.451 1530.78,574.659 1553.56,559.866 \n",
       "  1576.34,545.073 1599.12,530.28 1621.9,515.487 1644.68,500.694 1667.46,485.901 1690.24,471.109 1713.02,456.316 1735.8,441.523 1758.58,426.73 1781.37,411.937 \n",
       "  1804.15,397.144 1826.93,382.351 1849.71,367.559 1872.49,352.766 1895.27,337.973 1918.05,323.18 1940.83,308.387 1963.61,293.594 1986.39,278.802 2009.17,264.009 \n",
       "  2031.95,249.216 2054.73,234.423 2077.51,219.63 2100.29,204.837 2123.07,190.044 2145.85,175.252 2168.63,160.459 2191.41,145.666 2214.19,130.873 2236.97,116.08 \n",
       "  2259.75,101.287 \n",
       "  \"/>\n",
       "<polyline clip-path=\"url(#clip1302)\" style=\"stroke:#00a8cb; stroke-width:4; stroke-opacity:1; fill:none\" points=\"\n",
       "  209.52,1433.29 232.3,1418.48 255.081,1403.68 277.861,1388.87 300.641,1374.07 323.422,1359.27 346.202,1344.46 368.982,1329.66 391.763,1314.85 414.543,1300.05 \n",
       "  437.324,1285.25 460.104,1270.44 482.884,1255.64 505.665,1240.83 528.445,1226.03 551.225,1211.23 574.006,1196.42 596.786,1181.62 619.566,1166.81 642.347,1152.01 \n",
       "  665.127,1137.21 687.908,1122.4 710.688,1107.6 733.468,1092.79 756.249,1077.99 779.029,1063.18 801.809,1048.38 824.59,1033.58 847.37,1018.77 870.15,1003.97 \n",
       "  892.931,989.164 915.711,974.36 938.492,959.556 961.272,944.752 984.052,929.948 1006.83,915.144 1029.61,900.34 1052.39,885.536 1075.17,870.731 1097.95,855.927 \n",
       "  1120.73,841.123 1143.51,826.319 1166.3,811.515 1189.08,796.711 1211.86,781.907 1234.64,767.103 1257.42,752.299 1280.2,737.495 1302.98,722.691 1325.76,707.887 \n",
       "  1348.54,693.082 1371.32,678.278 1394.1,663.474 1416.88,648.67 1439.66,633.866 1462.44,619.062 1485.22,604.258 1508,589.454 1530.78,574.65 1553.56,559.846 \n",
       "  1576.34,545.042 1599.12,530.237 1621.9,515.433 1644.68,500.629 1667.46,485.825 1690.24,471.021 1713.02,456.217 1735.8,441.413 1758.58,426.609 1781.37,411.805 \n",
       "  1804.15,397.001 1826.93,382.197 1849.71,367.392 1872.49,352.588 1895.27,337.784 1918.05,322.98 1940.83,308.176 1963.61,293.372 1986.39,278.568 2009.17,263.764 \n",
       "  2031.95,248.96 2054.73,234.156 2077.51,219.352 2100.29,204.548 2123.07,189.743 2145.85,174.939 2168.63,160.135 2191.41,145.331 2214.19,130.527 2236.97,115.723 \n",
       "  2259.75,100.919 \n",
       "  \"/>\n",
       "<polyline clip-path=\"url(#clip1302)\" style=\"stroke:#9b7fe8; stroke-width:4; stroke-opacity:1; fill:none\" points=\"\n",
       "  209.52,1433.91 232.3,1419.09 255.081,1404.28 277.861,1389.46 300.641,1374.65 323.422,1359.83 346.202,1345.02 368.982,1330.2 391.763,1315.39 414.543,1300.57 \n",
       "  437.324,1285.76 460.104,1270.94 482.884,1256.13 505.665,1241.31 528.445,1226.5 551.225,1211.68 574.006,1196.87 596.786,1182.05 619.566,1167.24 642.347,1152.42 \n",
       "  665.127,1137.61 687.908,1122.79 710.688,1107.98 733.468,1093.16 756.249,1078.35 779.029,1063.53 801.809,1048.72 824.59,1033.9 847.37,1019.09 870.15,1004.27 \n",
       "  892.931,989.459 915.711,974.644 938.492,959.829 961.272,945.014 984.052,930.199 1006.83,915.384 1029.61,900.57 1052.39,885.755 1075.17,870.94 1097.95,856.125 \n",
       "  1120.73,841.31 1143.51,826.495 1166.3,811.68 1189.08,796.865 1211.86,782.05 1234.64,767.235 1257.42,752.42 1280.2,737.605 1302.98,722.79 1325.76,707.976 \n",
       "  1348.54,693.161 1371.32,678.346 1394.1,663.531 1416.88,648.716 1439.66,633.901 1462.44,619.086 1485.22,604.271 1508,589.456 1530.78,574.641 1553.56,559.826 \n",
       "  1576.34,545.011 1599.12,530.196 1621.9,515.382 1644.68,500.567 1667.46,485.752 1690.24,470.937 1713.02,456.122 1735.8,441.307 1758.58,426.492 1781.37,411.677 \n",
       "  1804.15,396.862 1826.93,382.047 1849.71,367.232 1872.49,352.417 1895.27,337.602 1918.05,322.788 1940.83,307.973 1963.61,293.158 1986.39,278.343 2009.17,263.528 \n",
       "  2031.95,248.713 2054.73,233.898 2077.51,219.083 2100.29,204.268 2123.07,189.453 2145.85,174.638 2168.63,159.823 2191.41,145.008 2214.19,130.194 2236.97,115.379 \n",
       "  2259.75,100.564 \n",
       "  \"/>\n",
       "<polyline clip-path=\"url(#clip1302)\" style=\"stroke:#608cf6; stroke-width:4; stroke-opacity:1; fill:none\" points=\"\n",
       "  209.52,1433.91 232.3,1419.09 255.081,1404.28 277.861,1389.46 300.641,1374.65 323.422,1359.83 346.202,1345.02 368.982,1330.2 391.763,1315.39 414.543,1300.57 \n",
       "  437.324,1285.76 460.104,1270.94 482.884,1256.13 505.665,1241.31 528.445,1226.5 551.225,1211.68 574.006,1196.87 596.786,1182.05 619.566,1167.24 642.347,1152.42 \n",
       "  665.127,1137.61 687.908,1122.79 710.688,1107.98 733.468,1093.16 756.249,1078.35 779.029,1063.53 801.809,1048.72 824.59,1033.9 847.37,1019.09 870.15,1004.27 \n",
       "  892.931,989.459 915.711,974.644 938.492,959.829 961.272,945.014 984.052,930.199 1006.83,915.384 1029.61,900.57 1052.39,885.755 1075.17,870.94 1097.95,856.125 \n",
       "  1120.73,841.31 1143.51,826.495 1166.3,811.68 1189.08,796.865 1211.86,782.05 1234.64,767.235 1257.42,752.42 1280.2,737.605 1302.98,722.79 1325.76,707.976 \n",
       "  1348.54,693.161 1371.32,678.346 1394.1,663.531 1416.88,648.716 1439.66,633.901 1462.44,619.086 1485.22,604.271 1508,589.456 1530.78,574.641 1553.56,559.826 \n",
       "  1576.34,545.011 1599.12,530.196 1621.9,515.382 1644.68,500.567 1667.46,485.752 1690.24,470.937 1713.02,456.122 1735.8,441.307 1758.58,426.492 1781.37,411.677 \n",
       "  1804.15,396.862 1826.93,382.047 1849.71,367.232 1872.49,352.417 1895.27,337.602 1918.05,322.788 1940.83,307.973 1963.61,293.158 1986.39,278.343 2009.17,263.528 \n",
       "  2031.95,248.713 2054.73,233.898 2077.51,219.083 2100.29,204.268 2123.07,189.453 2145.85,174.638 2168.63,159.823 2191.41,145.008 2214.19,130.194 2236.97,115.379 \n",
       "  2259.75,100.564 \n",
       "  \"/>\n",
       "<polygon clip-path=\"url(#clip1300)\" points=\"\n",
       "1931.67,977.484 2249.26,977.484 2249.26,130.764 1931.67,130.764 \n",
       "  \" fill=\"#ffffff\" fill-rule=\"evenodd\" fill-opacity=\"1\"/>\n",
       "<polyline clip-path=\"url(#clip1300)\" style=\"stroke:#000000; stroke-width:4; stroke-opacity:1; fill:none\" points=\"\n",
       "  1931.67,977.484 2249.26,977.484 2249.26,130.764 1931.67,130.764 1931.67,977.484 \n",
       "  \"/>\n",
       "<circle clip-path=\"url(#clip1300)\" style=\"fill:#000000; stroke:none; fill-opacity:1\" cx=\"2039.67\" cy=\"191.244\" r=\"25\"/>\n",
       "<circle clip-path=\"url(#clip1300)\" style=\"fill:#009af9; stroke:none; fill-opacity:1\" cx=\"2039.67\" cy=\"191.244\" r=\"21\"/>\n",
       "<g clip-path=\"url(#clip1300)\">\n",
       "<text style=\"fill:#000000; fill-opacity:1; font-family:Arial,Helvetica Neue,Helvetica,sans-serif; font-size:48px; text-anchor:start;\" transform=\"rotate(0, 2123.67, 208.744)\" x=\"2123.67\" y=\"208.744\">y1</text>\n",
       "</g>\n",
       "<polyline clip-path=\"url(#clip1300)\" style=\"stroke:#e26f46; stroke-width:4; stroke-opacity:1; fill:none\" points=\"\n",
       "  1955.67,251.724 2099.67,251.724 \n",
       "  \"/>\n",
       "<g clip-path=\"url(#clip1300)\">\n",
       "<text style=\"fill:#000000; fill-opacity:1; font-family:Arial,Helvetica Neue,Helvetica,sans-serif; font-size:48px; text-anchor:start;\" transform=\"rotate(0, 2123.67, 269.224)\" x=\"2123.67\" y=\"269.224\">y2</text>\n",
       "</g>\n",
       "<polyline clip-path=\"url(#clip1300)\" style=\"stroke:#3da44d; stroke-width:4; stroke-opacity:1; fill:none\" points=\"\n",
       "  1955.67,312.204 2099.67,312.204 \n",
       "  \"/>\n",
       "<g clip-path=\"url(#clip1300)\">\n",
       "<text style=\"fill:#000000; fill-opacity:1; font-family:Arial,Helvetica Neue,Helvetica,sans-serif; font-size:48px; text-anchor:start;\" transform=\"rotate(0, 2123.67, 329.704)\" x=\"2123.67\" y=\"329.704\">y3</text>\n",
       "</g>\n",
       "<polyline clip-path=\"url(#clip1300)\" style=\"stroke:#c271d2; stroke-width:4; stroke-opacity:1; fill:none\" points=\"\n",
       "  1955.67,372.684 2099.67,372.684 \n",
       "  \"/>\n",
       "<g clip-path=\"url(#clip1300)\">\n",
       "<text style=\"fill:#000000; fill-opacity:1; font-family:Arial,Helvetica Neue,Helvetica,sans-serif; font-size:48px; text-anchor:start;\" transform=\"rotate(0, 2123.67, 390.184)\" x=\"2123.67\" y=\"390.184\">y4</text>\n",
       "</g>\n",
       "<polyline clip-path=\"url(#clip1300)\" style=\"stroke:#ac8d18; stroke-width:4; stroke-opacity:1; fill:none\" points=\"\n",
       "  1955.67,433.164 2099.67,433.164 \n",
       "  \"/>\n",
       "<g clip-path=\"url(#clip1300)\">\n",
       "<text style=\"fill:#000000; fill-opacity:1; font-family:Arial,Helvetica Neue,Helvetica,sans-serif; font-size:48px; text-anchor:start;\" transform=\"rotate(0, 2123.67, 450.664)\" x=\"2123.67\" y=\"450.664\">y5</text>\n",
       "</g>\n",
       "<polyline clip-path=\"url(#clip1300)\" style=\"stroke:#00a9ad; stroke-width:4; stroke-opacity:1; fill:none\" points=\"\n",
       "  1955.67,493.644 2099.67,493.644 \n",
       "  \"/>\n",
       "<g clip-path=\"url(#clip1300)\">\n",
       "<text style=\"fill:#000000; fill-opacity:1; font-family:Arial,Helvetica Neue,Helvetica,sans-serif; font-size:48px; text-anchor:start;\" transform=\"rotate(0, 2123.67, 511.144)\" x=\"2123.67\" y=\"511.144\">y6</text>\n",
       "</g>\n",
       "<polyline clip-path=\"url(#clip1300)\" style=\"stroke:#ed5d92; stroke-width:4; stroke-opacity:1; fill:none\" points=\"\n",
       "  1955.67,554.124 2099.67,554.124 \n",
       "  \"/>\n",
       "<g clip-path=\"url(#clip1300)\">\n",
       "<text style=\"fill:#000000; fill-opacity:1; font-family:Arial,Helvetica Neue,Helvetica,sans-serif; font-size:48px; text-anchor:start;\" transform=\"rotate(0, 2123.67, 571.624)\" x=\"2123.67\" y=\"571.624\">y7</text>\n",
       "</g>\n",
       "<polyline clip-path=\"url(#clip1300)\" style=\"stroke:#c68125; stroke-width:4; stroke-opacity:1; fill:none\" points=\"\n",
       "  1955.67,614.604 2099.67,614.604 \n",
       "  \"/>\n",
       "<g clip-path=\"url(#clip1300)\">\n",
       "<text style=\"fill:#000000; fill-opacity:1; font-family:Arial,Helvetica Neue,Helvetica,sans-serif; font-size:48px; text-anchor:start;\" transform=\"rotate(0, 2123.67, 632.104)\" x=\"2123.67\" y=\"632.104\">y8</text>\n",
       "</g>\n",
       "<polyline clip-path=\"url(#clip1300)\" style=\"stroke:#00a98d; stroke-width:4; stroke-opacity:1; fill:none\" points=\"\n",
       "  1955.67,675.084 2099.67,675.084 \n",
       "  \"/>\n",
       "<g clip-path=\"url(#clip1300)\">\n",
       "<text style=\"fill:#000000; fill-opacity:1; font-family:Arial,Helvetica Neue,Helvetica,sans-serif; font-size:48px; text-anchor:start;\" transform=\"rotate(0, 2123.67, 692.584)\" x=\"2123.67\" y=\"692.584\">y9</text>\n",
       "</g>\n",
       "<polyline clip-path=\"url(#clip1300)\" style=\"stroke:#8e971d; stroke-width:4; stroke-opacity:1; fill:none\" points=\"\n",
       "  1955.67,735.564 2099.67,735.564 \n",
       "  \"/>\n",
       "<g clip-path=\"url(#clip1300)\">\n",
       "<text style=\"fill:#000000; fill-opacity:1; font-family:Arial,Helvetica Neue,Helvetica,sans-serif; font-size:48px; text-anchor:start;\" transform=\"rotate(0, 2123.67, 753.064)\" x=\"2123.67\" y=\"753.064\">y10</text>\n",
       "</g>\n",
       "<polyline clip-path=\"url(#clip1300)\" style=\"stroke:#00a8cb; stroke-width:4; stroke-opacity:1; fill:none\" points=\"\n",
       "  1955.67,796.044 2099.67,796.044 \n",
       "  \"/>\n",
       "<g clip-path=\"url(#clip1300)\">\n",
       "<text style=\"fill:#000000; fill-opacity:1; font-family:Arial,Helvetica Neue,Helvetica,sans-serif; font-size:48px; text-anchor:start;\" transform=\"rotate(0, 2123.67, 813.544)\" x=\"2123.67\" y=\"813.544\">y11</text>\n",
       "</g>\n",
       "<polyline clip-path=\"url(#clip1300)\" style=\"stroke:#9b7fe8; stroke-width:4; stroke-opacity:1; fill:none\" points=\"\n",
       "  1955.67,856.524 2099.67,856.524 \n",
       "  \"/>\n",
       "<g clip-path=\"url(#clip1300)\">\n",
       "<text style=\"fill:#000000; fill-opacity:1; font-family:Arial,Helvetica Neue,Helvetica,sans-serif; font-size:48px; text-anchor:start;\" transform=\"rotate(0, 2123.67, 874.024)\" x=\"2123.67\" y=\"874.024\">y12</text>\n",
       "</g>\n",
       "<polyline clip-path=\"url(#clip1300)\" style=\"stroke:#608cf6; stroke-width:4; stroke-opacity:1; fill:none\" points=\"\n",
       "  1955.67,917.004 2099.67,917.004 \n",
       "  \"/>\n",
       "<g clip-path=\"url(#clip1300)\">\n",
       "<text style=\"fill:#000000; fill-opacity:1; font-family:Arial,Helvetica Neue,Helvetica,sans-serif; font-size:48px; text-anchor:start;\" transform=\"rotate(0, 2123.67, 934.504)\" x=\"2123.67\" y=\"934.504\">y13</text>\n",
       "</g>\n",
       "</svg>\n"
      ]
     },
     "execution_count": 438,
     "metadata": {},
     "output_type": "execute_result"
    }
   ],
   "source": [
    "scatter(dat_x,dat_y)\n",
    "plot!(dat_x,map(y->y.data,f(dat_x)))\n",
    "for epoch = 1:1000\n",
    "    r = 0.001\n",
    "    grads = Flux.Tracker.gradient(() -> loss(dat_x, dat_y), pars)\n",
    "    #println(W\n",
    "    for p in (W,b)\n",
    "        Flux.Tracker.update!(p, -r*grads[p])\n",
    "    end\n",
    "    if epoch % 100 == 0\n",
    "        println(loss(dat_x,dat_y))\n",
    "        plot!(dat_x,map(y->y.data,f(dat_x)))\n",
    "    end\n",
    "#     Flux.Tracker.update!(pars,grads)\n",
    "#     println(l)\n",
    "end\n",
    "println(loss(dat_x,dat_y))\n",
    "plot!(dat_x,map(y->y.data,f(dat_x)))"
   ]
  },
  {
   "cell_type": "markdown",
   "metadata": {},
   "source": [
    "## Minimal reproducing example"
   ]
  },
  {
   "cell_type": "code",
   "execution_count": 411,
   "metadata": {},
   "outputs": [
    {
     "data": {
      "text/plain": [
       "0.07827195169478471 (tracked)"
      ]
     },
     "execution_count": 411,
     "metadata": {},
     "output_type": "execute_result"
    }
   ],
   "source": [
    "loss(dat_x,dat_y)"
   ]
  },
  {
   "cell_type": "code",
   "execution_count": 412,
   "metadata": {},
   "outputs": [
    {
     "data": {
      "text/plain": [
       "0.010293028778491253 (tracked)"
      ]
     },
     "execution_count": 412,
     "metadata": {},
     "output_type": "execute_result"
    }
   ],
   "source": [
    "loss(dat_x[1],dat_y[1])"
   ]
  },
  {
   "cell_type": "code",
   "execution_count": 414,
   "metadata": {},
   "outputs": [
    {
     "data": {
      "text/plain": [
       "0.16113086609376281 (tracked)"
      ]
     },
     "execution_count": 414,
     "metadata": {},
     "output_type": "execute_result"
    }
   ],
   "source": [
    "loss(dat_x[2:10],dat_y[2:10])"
   ]
  },
  {
   "cell_type": "code",
   "execution_count": 415,
   "metadata": {},
   "outputs": [
    {
     "data": {
      "text/plain": [
       "0.1395977320688886 (tracked)"
      ]
     },
     "execution_count": 415,
     "metadata": {},
     "output_type": "execute_result"
    }
   ],
   "source": [
    "loss(dat_x[2:12],dat_y[2:12])"
   ]
  },
  {
   "cell_type": "code",
   "execution_count": 424,
   "metadata": {},
   "outputs": [
    {
     "data": {
      "text/plain": [
       "grads_by_size (generic function with 1 method)"
      ]
     },
     "execution_count": 424,
     "metadata": {},
     "output_type": "execute_result"
    }
   ],
   "source": [
    "grads_by_size(N) = Flux.Tracker.gradient(() -> loss(dat_x[1:N], dat_y[1:N]), pars)"
   ]
  },
  {
   "cell_type": "code",
   "execution_count": 426,
   "metadata": {},
   "outputs": [
    {
     "name": "stdout",
     "output_type": "stream",
     "text": [
      "8.024415825241947 (tracked)\n",
      "2.321684073143397 (tracked)\n",
      "1.0763967584977092 (tracked)\n",
      "0.8016291892830995 (tracked)\n",
      "0.7381935380558071 (tracked)\n",
      "0.7207961068285383 (tracked)\n",
      "0.7134482799799927 (tracked)\n",
      "0.7083142794616957 (tracked)\n",
      "0.7036878805764034 (tracked)\n",
      "0.6991974116330913 (tracked)\n"
     ]
    }
   ],
   "source": [
    "dat_x = collect(1:0.1:10);\n",
    "dat_y = 3.2*dat_x .- 0.2 .+ rand(length(dat_x));\n",
    "W = param([2]);\n",
    "b = param([2]);\n",
    "f(x) = W.*x.+b;\n",
    "pars=Flux.Tracker.Params([W,b])\n",
    "loss(x,y) = Flux.mse(y,f(x))\n",
    "PROBLEM_DENOM = 1\n",
    "# PROBLEM_DENOM = length(dat_x)\n",
    "\n",
    "monitor_freq = 100\n",
    "for epoch = 1:1000\n",
    "    r = 0.0001\n",
    "    grads = Flux.Tracker.gradient(() -> loss(dat_x, dat_y)/PROBLEM_DENOM, pars)\n",
    "    for p in (W,b)\n",
    "        Flux.Tracker.update!(p, -r*grads[p])\n",
    "    end\n",
    "    if epoch % monitor_freq == 0\n",
    "        println(loss(dat_x,dat_y))\n",
    "    end\n",
    "end"
   ]
  },
  {
   "cell_type": "markdown",
   "metadata": {},
   "source": [
    "# Hessian"
   ]
  },
  {
   "cell_type": "code",
   "execution_count": 455,
   "metadata": {},
   "outputs": [
    {
     "data": {
      "text/plain": [
       "Tracked 1-element Array{Float64,1}:\n",
       " -0.022495840108123687"
      ]
     },
     "execution_count": 455,
     "metadata": {},
     "output_type": "execute_result"
    }
   ],
   "source": [
    "gw=grads[W]"
   ]
  },
  {
   "cell_type": "code",
   "execution_count": 466,
   "metadata": {},
   "outputs": [
    {
     "data": {
      "text/plain": [
       "Tracked 1-element Array{Float64,1}:\n",
       " -0.022495840108123687"
      ]
     },
     "execution_count": 466,
     "metadata": {},
     "output_type": "execute_result"
    }
   ],
   "source": [
    "gw"
   ]
  },
  {
   "cell_type": "code",
   "execution_count": 470,
   "metadata": {},
   "outputs": [
    {
     "data": {
      "text/plain": [
       "Params([[3.13169] (tracked), [0.773854] (tracked)])"
      ]
     },
     "execution_count": 470,
     "metadata": {},
     "output_type": "execute_result"
    }
   ],
   "source": [
    "pars"
   ]
  },
  {
   "cell_type": "code",
   "execution_count": 472,
   "metadata": {},
   "outputs": [
    {
     "ename": "ErrorException",
     "evalue": "Use `gradient(...; nest = true)` for nested derivatives",
     "output_type": "error",
     "traceback": [
      "Use `gradient(...; nest = true)` for nested derivatives",
      "",
      "Stacktrace:",
      " [1] error(::String) at ./error.jl:33",
      " [2] (::getfield(Tracker, Symbol(\"##546#547\")){String})(::TrackedArray{…,Array{Float64,1}}) at /Users/afq/.julia/packages/Tracker/6wcYJ/src/Tracker.jl:101",
      " [3] back_(::Tracker.Grads, ::Tracker.Call{getfield(Tracker, Symbol(\"##546#547\")){String},Tuple{Nothing,Nothing}}, ::TrackedArray{…,Array{Float64,1}}) at /Users/afq/.julia/packages/Tracker/6wcYJ/src/back.jl:110",
      " [4] back(::Tracker.Grads, ::Tracker.Tracked{Array{Float64,1}}, ::TrackedArray{…,Array{Float64,1}}) at /Users/afq/.julia/packages/Tracker/6wcYJ/src/back.jl:125",
      " [5] #16 at /Users/afq/.julia/packages/Tracker/6wcYJ/src/back.jl:113 [inlined]",
      " [6] foreach at ./abstractarray.jl:1867 [inlined]",
      " [7] back_(::Tracker.Grads, ::Tracker.Call{getfield(Tracker, Symbol(\"##364#366\")){TrackedArray{…,Array{Float64,1}},Tuple{Int64}},Tuple{Tracker.Tracked{Array{Float64,1}},Nothing}}, ::Int64) at /Users/afq/.julia/packages/Tracker/6wcYJ/src/back.jl:113",
      " [8] back(::Tracker.Grads, ::Tracker.Tracked{Float64}, ::Int64) at /Users/afq/.julia/packages/Tracker/6wcYJ/src/back.jl:125",
      " [9] (::getfield(Tracker, Symbol(\"##18#19\")){Tracker.Params,Tracker.TrackedReal{Float64}})(::Int64) at /Users/afq/.julia/packages/Tracker/6wcYJ/src/back.jl:140",
      " [10] gradient_nested(::Function, ::Tracker.Params) at /Users/afq/.julia/packages/Tracker/6wcYJ/src/back.jl:161",
      " [11] top-level scope at In[472]:1"
     ]
    }
   ],
   "source": [
    "Flux.Tracker.gradient_nested( (()->grads[W][1]) , pars )"
   ]
  },
  {
   "cell_type": "markdown",
   "metadata": {},
   "source": [
    "# Type sanitation of Tracker"
   ]
  },
  {
   "cell_type": "code",
   "execution_count": null,
   "metadata": {},
   "outputs": [],
   "source": []
  },
  {
   "cell_type": "code",
   "execution_count": 106,
   "metadata": {},
   "outputs": [
    {
     "ename": "MethodError",
     "evalue": "MethodError: no method matching Float64(::Tracker.TrackedReal{Float64})\nClosest candidates are:\n  Float64(::Real, !Matched::RoundingMode) where T<:AbstractFloat at rounding.jl:194\n  Float64(::T<:Number) where T<:Number at boot.jl:741\n  Float64(!Matched::Int8) at float.jl:60\n  ...",
     "output_type": "error",
     "traceback": [
      "MethodError: no method matching Float64(::Tracker.TrackedReal{Float64})\nClosest candidates are:\n  Float64(::Real, !Matched::RoundingMode) where T<:AbstractFloat at rounding.jl:194\n  Float64(::T<:Number) where T<:Number at boot.jl:741\n  Float64(!Matched::Int8) at float.jl:60\n  ...",
      "",
      "Stacktrace:",
      " [1] top-level scope at In[106]:1"
     ]
    }
   ],
   "source": [
    "Float64(f(dat_x)[1])"
   ]
  },
  {
   "cell_type": "code",
   "execution_count": 10,
   "metadata": {},
   "outputs": [
    {
     "ename": "MethodError",
     "evalue": "MethodError: no method matching Float64(::Tracker.TrackedReal{Float64})\nClosest candidates are:\n  Float64(::Real, !Matched::RoundingMode) where T<:AbstractFloat at rounding.jl:194\n  Float64(::T<:Number) where T<:Number at boot.jl:741\n  Float64(!Matched::Int8) at float.jl:60\n  ...",
     "output_type": "error",
     "traceback": [
      "MethodError: no method matching Float64(::Tracker.TrackedReal{Float64})\nClosest candidates are:\n  Float64(::Real, !Matched::RoundingMode) where T<:AbstractFloat at rounding.jl:194\n  Float64(::T<:Number) where T<:Number at boot.jl:741\n  Float64(!Matched::Int8) at float.jl:60\n  ...",
      "",
      "Stacktrace:",
      " [1] top-level scope at In[10]:1"
     ]
    }
   ],
   "source": [
    "Float64(W)"
   ]
  },
  {
   "cell_type": "code",
   "execution_count": 11,
   "metadata": {},
   "outputs": [],
   "source": [
    "Base.convert(::Type{T},x::Tracker.TrackedReal{T}) where {T} = T(x.data)"
   ]
  },
  {
   "cell_type": "code",
   "execution_count": 7,
   "metadata": {},
   "outputs": [],
   "source": [
    "#Real(x::Tracker.TrackedReal{T}) where T<:Real = Real(x.data)"
   ]
  }
 ],
 "metadata": {
  "kernelspec": {
   "display_name": "Julia 1.1.0",
   "language": "julia",
   "name": "julia-1.1"
  },
  "language_info": {
   "file_extension": ".jl",
   "mimetype": "application/julia",
   "name": "julia",
   "version": "1.1.0"
  }
 },
 "nbformat": 4,
 "nbformat_minor": 2
}
